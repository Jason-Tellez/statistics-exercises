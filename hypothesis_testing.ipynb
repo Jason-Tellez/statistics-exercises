{
 "cells": [
  {
   "cell_type": "markdown",
   "id": "b046a8ed",
   "metadata": {},
   "source": [
    "## Exercises"
   ]
  },
  {
   "cell_type": "markdown",
   "id": "150f33fe",
   "metadata": {},
   "source": [
    "### For each of the following questions, formulate a null and alternative hypothesis (be as specific as you can be), then give an example of what a true positive, true negative, type I and type II errors would look like. Note that some of the questions are intentionally phrased in a vague way. It is your job to reword these as more precise questions that could be tested."
   ]
  },
  {
   "cell_type": "markdown",
   "id": "41145881",
   "metadata": {},
   "source": [
    "- **Has the network latency gone up since we switched internet service providers?**"
   ]
  },
  {
   "cell_type": "markdown",
   "id": "147a3de6",
   "metadata": {},
   "source": [
    "$H_{0}$: There is no difference in network latency with old and new ISP.\n",
    "\n",
    "$H_{a}$: Network latency with new ISP is higher than network latency with previous ISP.\n",
    "______________________________________\n",
    "True Positive: Test shows network latency is higher with new ISP than with old.\n",
    "\n",
    "True Negative: Test shows network latency is the same with new ISP and old ISP.\n",
    "______________________________________\n",
    "\n",
    "Type I Error: Test shows network latency is higher with new ISP than with old but latency is actually the same.\n",
    "\n",
    "Type II Error: Test shows network latency is the same but latency is higher with new ISP.\n"
   ]
  },
  {
   "cell_type": "markdown",
   "id": "e80d43fb",
   "metadata": {},
   "source": [
    "- **Is the website redesign any good?**"
   ]
  },
  {
   "cell_type": "markdown",
   "id": "163908a2",
   "metadata": {},
   "source": [
    "$H_{0}$: There is no difference between new and old website design.\n",
    "\n",
    "$H_{a}$: The new website design is better than the old design.\n",
    "______________________________________\n",
    "True Positive: Test shows the new design is better and the new design is actually better\n",
    "\n",
    "True Negative: Test shows both design are the same and the both designs are actually the same.\n",
    "______________________________________\n",
    "\n",
    "Type I Error: Test shows new design is better but both designs are the actually same.\n",
    "\n",
    "Type II Error: Test shows both design are the same but the new design is actually better."
   ]
  },
  {
   "cell_type": "markdown",
   "id": "a92e165b",
   "metadata": {},
   "source": [
    "- **Is our television ad driving more sales?**"
   ]
  },
  {
   "cell_type": "markdown",
   "id": "0157aec2",
   "metadata": {},
   "source": [
    "$H_{0}$: There is no difference in sales before and after television ad.\n",
    "\n",
    "$H_{a}$: Sales are higher with television ad than without.\n",
    "______________________________________\n",
    "True Positive: Test shows sales increased after TV ad and sales actually increased after the ad aired.\n",
    "\n",
    "True Negative: Test shows sales remained the same before and after the ad aired and sales actually remained the same.\n",
    "______________________________________\n",
    "\n",
    "Type I Error: Test shows sales increased after the ad but sales actually remained the same.\n",
    "\n",
    "Type II Error: Test shows sales reamined the same but sales actually increased after the ad aired."
   ]
  }
 ],
 "metadata": {
  "kernelspec": {
   "display_name": "Python 3",
   "language": "python",
   "name": "python3"
  },
  "language_info": {
   "codemirror_mode": {
    "name": "ipython",
    "version": 3
   },
   "file_extension": ".py",
   "mimetype": "text/x-python",
   "name": "python",
   "nbconvert_exporter": "python",
   "pygments_lexer": "ipython3",
   "version": "3.8.8"
  }
 },
 "nbformat": 4,
 "nbformat_minor": 5
}
