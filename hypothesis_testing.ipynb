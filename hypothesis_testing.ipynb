{
 "cells": [
  {
   "cell_type": "markdown",
   "id": "0f6a6146",
   "metadata": {},
   "source": [
    "# Exercises"
   ]
  },
  {
   "cell_type": "markdown",
   "id": "4e4e33ee",
   "metadata": {},
   "source": [
    "## Overview"
   ]
  },
  {
   "cell_type": "markdown",
   "id": "b0e7b2da",
   "metadata": {},
   "source": [
    "### For each of the following questions, formulate a null and alternative hypothesis (be as specific as you can be), then give an example of what a true positive, true negative, type I and type II errors would look like. Note that some of the questions are intentionally phrased in a vague way. It is your job to reword these as more precise questions that could be tested."
   ]
  },
  {
   "cell_type": "markdown",
   "id": "bd803c1a",
   "metadata": {},
   "source": [
    "- **Has the network latency gone up since we switched internet service providers?**"
   ]
  },
  {
   "cell_type": "markdown",
   "id": "340c7ff9",
   "metadata": {},
   "source": [
    "$H_{0}$: There is no difference in network latency with old and new ISP.\n",
    "\n",
    "$H_{a}$: Network latency with new ISP is higher than network latency with previous ISP.\n",
    "______________________________________\n",
    "True Positive: Test shows network latency is higher with new ISP than with old.\n",
    "\n",
    "True Negative: Test shows network latency is the same with new ISP and old ISP.\n",
    "______________________________________\n",
    "\n",
    "Type I Error: Test shows network latency is higher with new ISP than with old but latency is actually the same.\n",
    "\n",
    "Type II Error: Test shows network latency is the same but latency is higher with new ISP.\n"
   ]
  },
  {
   "cell_type": "markdown",
   "id": "390ccbf3",
   "metadata": {},
   "source": [
    "- **Is the website redesign any good?**"
   ]
  },
  {
   "cell_type": "markdown",
   "id": "d8abfdae",
   "metadata": {},
   "source": [
    "$H_{0}$: There is no difference between new and old website design.\n",
    "\n",
    "$H_{a}$: The new website design is better than the old design.\n",
    "______________________________________\n",
    "True Positive: Test shows the new design is better and the new design is actually better\n",
    "\n",
    "True Negative: Test shows both design are the same and the both designs are actually the same.\n",
    "______________________________________\n",
    "\n",
    "Type I Error: Test shows new design is better but both designs are the actually same.\n",
    "\n",
    "Type II Error: Test shows both design are the same but the new design is actually better."
   ]
  },
  {
   "cell_type": "markdown",
   "id": "397193bf",
   "metadata": {},
   "source": [
    "- **Is our television ad driving more sales?**"
   ]
  },
  {
   "cell_type": "markdown",
   "id": "05abf2c0",
   "metadata": {},
   "source": [
    "$H_{0}$: There is no difference in sales before and after television ad.\n",
    "\n",
    "$H_{a}$: Sales are higher with television ad than without.\n",
    "______________________________________\n",
    "True Positive: Test shows sales increased after TV ad and sales actually increased after the ad aired.\n",
    "\n",
    "True Negative: Test shows sales remained the same before and after the ad aired and sales actually remained the same.\n",
    "______________________________________\n",
    "\n",
    "Type I Error: Test shows sales increased after the ad but sales actually remained the same.\n",
    "\n",
    "Type II Error: Test shows sales reamined the same but sales actually increased after the ad aired."
   ]
  },
  {
   "cell_type": "markdown",
   "id": "3065403f",
   "metadata": {},
   "source": [
    "## T-Test"
   ]
  },
  {
   "cell_type": "code",
   "execution_count": 1,
   "id": "9d43aaa9",
   "metadata": {},
   "outputs": [],
   "source": [
    "import pandas as pd\n",
    "import matplotlib.pyplot as plt\n",
    "import scipy.stats as stats\n",
    "import seaborn as sns\n",
    "import numpy as np"
   ]
  },
  {
   "cell_type": "markdown",
   "id": "48f2c1e2",
   "metadata": {},
   "source": [
    "### Ace Realty wants to determine whether the average time it takes to sell homes is different for its two offices. A sample of 40 sales from office #1 revealed a mean of 90 days and a standard deviation of 15 days. A sample of 50 sales from office #2 revealed a mean of 100 days and a standard deviation of 20 days. Use a .05 level of significance."
   ]
  },
  {
   "cell_type": "markdown",
   "id": "1e10ee2d",
   "metadata": {},
   "source": [
    "| |Office 1:|Office 2:|\n",
    "|-|--------|----------|\n",
    "Sample size|40 sales|50 sales|\n",
    "Mean|90 days|100 days|\n",
    "Std Dev|15 days|20 days"
   ]
  },
  {
   "cell_type": "code",
   "execution_count": 2,
   "id": "5b174556",
   "metadata": {},
   "outputs": [],
   "source": [
    "office1 = 90\n",
    "std1 = 15\n",
    "n1 = 40"
   ]
  },
  {
   "cell_type": "code",
   "execution_count": 3,
   "id": "fe56af0f",
   "metadata": {},
   "outputs": [],
   "source": [
    "office2 = 100\n",
    "std2 = 20\n",
    "n2 = 50"
   ]
  },
  {
   "cell_type": "markdown",
   "id": "d8050b66",
   "metadata": {},
   "source": [
    "**Establish Hypothesis**"
   ]
  },
  {
   "cell_type": "markdown",
   "id": "ea84bd74",
   "metadata": {},
   "source": [
    "$H_{0}$: Mean time to sell homes for Office 1 = mean time to sell homes for Office 2\n",
    "\n",
    "$H_{a}$: Mean time to sell homes for Office 1 != mean time to sell homes for Office 2"
   ]
  },
  {
   "cell_type": "markdown",
   "id": "06d034d4",
   "metadata": {},
   "source": [
    "**Significance Level**"
   ]
  },
  {
   "cell_type": "code",
   "execution_count": 4,
   "id": "d15f997d",
   "metadata": {},
   "outputs": [],
   "source": [
    "alpha = 0.05"
   ]
  },
  {
   "cell_type": "markdown",
   "id": "4d16a7dd",
   "metadata": {},
   "source": [
    "**Verify Assumptions**"
   ]
  },
  {
   "cell_type": "markdown",
   "id": "ee2adc5d",
   "metadata": {},
   "source": [
    "- Each sample has more than 30 obs!! It is Normal-ish\n",
    "- The performance for each office is independent of the other\n",
    "- The variances are not equal"
   ]
  },
  {
   "cell_type": "code",
   "execution_count": 5,
   "id": "ffa7bf26",
   "metadata": {},
   "outputs": [
    {
     "name": "stdout",
     "output_type": "stream",
     "text": [
      "225\n",
      "400\n"
     ]
    }
   ],
   "source": [
    "office_1_var=std1**2\n",
    "print(office_1_var)\n",
    "office_2_var=std2**2\n",
    "print(office_2_var)"
   ]
  },
  {
   "cell_type": "markdown",
   "id": "e69476c7",
   "metadata": {},
   "source": [
    "**Compute the Statistic**"
   ]
  },
  {
   "cell_type": "code",
   "execution_count": 6,
   "id": "5d57f98d",
   "metadata": {},
   "outputs": [
    {
     "data": {
      "text/plain": [
       "(-0.2595870658255824, 0.8080344163167442)"
      ]
     },
     "execution_count": 6,
     "metadata": {},
     "output_type": "execute_result"
    }
   ],
   "source": [
    "t, p = stats.ttest_ind((office1, std1, n1), (office2, std2, n2), equal_var=False)\n",
    "t, p"
   ]
  },
  {
   "cell_type": "markdown",
   "id": "a29bb4ac",
   "metadata": {},
   "source": [
    "**Decide**"
   ]
  },
  {
   "cell_type": "code",
   "execution_count": 7,
   "id": "d6f4fe25",
   "metadata": {},
   "outputs": [
    {
     "name": "stdout",
     "output_type": "stream",
     "text": [
      "is p/2 < alpha?  False\n",
      "is t > 0?  False\n"
     ]
    }
   ],
   "source": [
    "print(\"is p/2 < alpha? \", p/2 < alpha)\n",
    "print(\"is t > 0? \", t > 0)"
   ]
  },
  {
   "cell_type": "code",
   "execution_count": 8,
   "id": "657d17ac",
   "metadata": {},
   "outputs": [
    {
     "name": "stdout",
     "output_type": "stream",
     "text": [
      "We fail to reject $H_{0}$\n"
     ]
    }
   ],
   "source": [
    "if p/2 > alpha:\n",
    "    print(\"We fail to reject $H_{0}$\")\n",
    "elif t < 0:\n",
    "    print(\"We fail to reject $H_{0}$\")\n",
    "else:\n",
    "    print(\"We reject $H_{0}$\")"
   ]
  },
  {
   "cell_type": "markdown",
   "id": "8240158f",
   "metadata": {},
   "source": [
    "### Load the mpg dataset and use it to answer the following questions:\n",
    "\n",
    "- Is there a difference in fuel-efficiency in cars from 2008 vs 1999?"
   ]
  },
  {
   "cell_type": "code",
   "execution_count": 9,
   "id": "5b35beed",
   "metadata": {},
   "outputs": [
    {
     "name": "stdout",
     "output_type": "stream",
     "text": [
      "<class 'pandas.core.frame.DataFrame'>\n",
      "Int64Index: 234 entries, 1 to 234\n",
      "Data columns (total 11 columns):\n",
      " #   Column        Non-Null Count  Dtype  \n",
      "---  ------        --------------  -----  \n",
      " 0   manufacturer  234 non-null    object \n",
      " 1   model         234 non-null    object \n",
      " 2   displ         234 non-null    float64\n",
      " 3   year          234 non-null    int64  \n",
      " 4   cyl           234 non-null    int64  \n",
      " 5   trans         234 non-null    object \n",
      " 6   drv           234 non-null    object \n",
      " 7   cty           234 non-null    int64  \n",
      " 8   hwy           234 non-null    int64  \n",
      " 9   fl            234 non-null    object \n",
      " 10  class         234 non-null    object \n",
      "dtypes: float64(1), int64(4), object(6)\n",
      "memory usage: 21.9+ KB\n"
     ]
    }
   ],
   "source": [
    "from pydataset import data\n",
    "df = data('mpg')\n",
    "df.info()"
   ]
  },
  {
   "cell_type": "code",
   "execution_count": 10,
   "id": "bdcefcb7",
   "metadata": {},
   "outputs": [],
   "source": [
    "avg_mpg = (df.cty + df.hwy)/2\n",
    "df[\"avg_mpg\"] = avg_mpg"
   ]
  },
  {
   "cell_type": "code",
   "execution_count": 11,
   "id": "d0d84b37",
   "metadata": {
    "scrolled": false
   },
   "outputs": [
    {
     "data": {
      "text/plain": [
       "(117,)"
      ]
     },
     "execution_count": 11,
     "metadata": {},
     "output_type": "execute_result"
    }
   ],
   "source": [
    "mpg_1999 = df[df.year == 1999].avg_mpg\n",
    "mpg_1999.shape"
   ]
  },
  {
   "cell_type": "code",
   "execution_count": 12,
   "id": "f682e16a",
   "metadata": {},
   "outputs": [
    {
     "data": {
      "text/plain": [
       "(117,)"
      ]
     },
     "execution_count": 12,
     "metadata": {},
     "output_type": "execute_result"
    }
   ],
   "source": [
    "mpg_2008 = df[df.year == 2008].avg_mpg\n",
    "mpg_2008.shape"
   ]
  },
  {
   "cell_type": "markdown",
   "id": "e800d678",
   "metadata": {},
   "source": [
    "**Plot Distributions**"
   ]
  },
  {
   "cell_type": "code",
   "execution_count": 13,
   "id": "6f9248e7",
   "metadata": {
    "scrolled": true
   },
   "outputs": [
    {
     "data": {
      "text/plain": [
       "<AxesSubplot:>"
      ]
     },
     "execution_count": 13,
     "metadata": {},
     "output_type": "execute_result"
    },
    {
     "data": {
      "image/png": "[encoded data removed]",
      "text/plain": [
       "<Figure size 432x288 with 1 Axes>"
      ]
     },
     "metadata": {
      "needs_background": "light"
     },
     "output_type": "display_data"
    }
   ],
   "source": [
    "mpg_1999.hist()"
   ]
  },
  {
   "cell_type": "code",
   "execution_count": 14,
   "id": "b41284d5",
   "metadata": {
    "scrolled": true
   },
   "outputs": [
    {
     "data": {
      "text/plain": [
       "<AxesSubplot:>"
      ]
     },
     "execution_count": 14,
     "metadata": {},
     "output_type": "execute_result"
    },
    {
     "data": {
      "image/png": "[encoded data removed]",
      "text/plain": [
       "<Figure size 432x288 with 1 Axes>"
      ]
     },
     "metadata": {
      "needs_background": "light"
     },
     "output_type": "display_data"
    }
   ],
   "source": [
    "mpg_2008.hist()"
   ]
  },
  {
   "cell_type": "markdown",
   "id": "aa12eaab",
   "metadata": {},
   "source": [
    "**Hypothesis**\n",
    "\n",
    "$H_{0}$: The mean mpg is the same among 2008 and 1999 vehicles\n",
    "\n",
    "$H_{a}$: There is a significant difference among vehicles made in 2008 and 1999"
   ]
  },
  {
   "cell_type": "markdown",
   "id": "6adacc45",
   "metadata": {},
   "source": [
    "**Significance Level**"
   ]
  },
  {
   "cell_type": "code",
   "execution_count": 15,
   "id": "dddd981a",
   "metadata": {},
   "outputs": [],
   "source": [
    "alpha = .05"
   ]
  },
  {
   "cell_type": "markdown",
   "id": "0f51dde1",
   "metadata": {},
   "source": [
    "**Verify Assumptions**\n",
    "\n",
    "- Normal: yes!\n",
    "- Independent: yes!\n",
    "- Variance: ?"
   ]
  },
  {
   "cell_type": "code",
   "execution_count": 16,
   "id": "653a7253",
   "metadata": {},
   "outputs": [
    {
     "name": "stdout",
     "output_type": "stream",
     "text": [
      "For 1999, the mean mpg is 20.22222222222222 and the variance is 27.122605363984682\n",
      "For 2008, the mean mpg is 20.076923076923077 and the variance is 24.097480106100797\n"
     ]
    }
   ],
   "source": [
    "print(f'For 1999, the mean mpg is {mpg_1999.mean()} and the variance is {mpg_1999.var()}')\n",
    "print(f'For 2008, the mean mpg is {mpg_2008.mean()} and the variance is {mpg_2008.var()}')"
   ]
  },
  {
   "cell_type": "code",
   "execution_count": 17,
   "id": "e872b43b",
   "metadata": {},
   "outputs": [
    {
     "data": {
      "text/plain": [
       "(-0.21960177245940962, 0.8263750772060638)"
      ]
     },
     "execution_count": 17,
     "metadata": {},
     "output_type": "execute_result"
    }
   ],
   "source": [
    "t, p = stats.ttest_ind(mpg_2008, mpg_1999, equal_var = False)\n",
    "t, p"
   ]
  },
  {
   "cell_type": "markdown",
   "id": "c3a8a634",
   "metadata": {},
   "source": [
    "**Decide**"
   ]
  },
  {
   "cell_type": "code",
   "execution_count": 18,
   "id": "d565c2b0",
   "metadata": {},
   "outputs": [
    {
     "name": "stdout",
     "output_type": "stream",
     "text": [
      "is p/2 < alpha?  False\n",
      "is t > 0?  False\n"
     ]
    }
   ],
   "source": [
    "print(\"is p/2 < alpha? \", p/2 < alpha)\n",
    "print(\"is t > 0? \", t > 0)"
   ]
  },
  {
   "cell_type": "code",
   "execution_count": 19,
   "id": "e7b1466a",
   "metadata": {},
   "outputs": [
    {
     "name": "stdout",
     "output_type": "stream",
     "text": [
      "We fail to reject $H_{0}$. The mean mpg is the same among 2008 and 1999 vehicles\n"
     ]
    }
   ],
   "source": [
    "if p/2 > alpha:\n",
    "    print(\"We fail to reject $H_{0}$. The mean mpg is the same among 2008 and 1999 vehicles\")\n",
    "elif t < 0:\n",
    "    print(\"We fail to reject $H_{0}$. The mean mpg is the same among 2008 and 1999 vehicles\")\n",
    "else:\n",
    "    print(\"We reject $H_{0}$. There is a significant difference of mean mpg among vehicles made in 2008 and 1999\")"
   ]
  },
  {
   "cell_type": "markdown",
   "id": "ef1dc9ed",
   "metadata": {},
   "source": [
    "- Are compact cars more fuel-efficient than the average car?"
   ]
  },
  {
   "cell_type": "code",
   "execution_count": 20,
   "id": "b43bcbb6",
   "metadata": {},
   "outputs": [
    {
     "data": {
      "text/html": [
       "<div>\n",
       "<style scoped>\n",
       "    .dataframe tbody tr th:only-of-type {\n",
       "        vertical-align: middle;\n",
       "    }\n",
       "\n",
       "    .dataframe tbody tr th {\n",
       "        vertical-align: top;\n",
       "    }\n",
       "\n",
       "    .dataframe thead th {\n",
       "        text-align: right;\n",
       "    }\n",
       "</style>\n",
       "<table border=\"1\" class=\"dataframe\">\n",
       "  <thead>\n",
       "    <tr style=\"text-align: right;\">\n",
       "      <th></th>\n",
       "      <th>manufacturer</th>\n",
       "      <th>model</th>\n",
       "      <th>displ</th>\n",
       "      <th>year</th>\n",
       "      <th>cyl</th>\n",
       "      <th>trans</th>\n",
       "      <th>drv</th>\n",
       "      <th>cty</th>\n",
       "      <th>hwy</th>\n",
       "      <th>fl</th>\n",
       "      <th>class</th>\n",
       "      <th>avg_mpg</th>\n",
       "    </tr>\n",
       "  </thead>\n",
       "  <tbody>\n",
       "    <tr>\n",
       "      <th>1</th>\n",
       "      <td>audi</td>\n",
       "      <td>a4</td>\n",
       "      <td>1.8</td>\n",
       "      <td>1999</td>\n",
       "      <td>4</td>\n",
       "      <td>auto(l5)</td>\n",
       "      <td>f</td>\n",
       "      <td>18</td>\n",
       "      <td>29</td>\n",
       "      <td>p</td>\n",
       "      <td>compact</td>\n",
       "      <td>23.5</td>\n",
       "    </tr>\n",
       "    <tr>\n",
       "      <th>2</th>\n",
       "      <td>audi</td>\n",
       "      <td>a4</td>\n",
       "      <td>1.8</td>\n",
       "      <td>1999</td>\n",
       "      <td>4</td>\n",
       "      <td>manual(m5)</td>\n",
       "      <td>f</td>\n",
       "      <td>21</td>\n",
       "      <td>29</td>\n",
       "      <td>p</td>\n",
       "      <td>compact</td>\n",
       "      <td>25.0</td>\n",
       "    </tr>\n",
       "    <tr>\n",
       "      <th>3</th>\n",
       "      <td>audi</td>\n",
       "      <td>a4</td>\n",
       "      <td>2.0</td>\n",
       "      <td>2008</td>\n",
       "      <td>4</td>\n",
       "      <td>manual(m6)</td>\n",
       "      <td>f</td>\n",
       "      <td>20</td>\n",
       "      <td>31</td>\n",
       "      <td>p</td>\n",
       "      <td>compact</td>\n",
       "      <td>25.5</td>\n",
       "    </tr>\n",
       "    <tr>\n",
       "      <th>4</th>\n",
       "      <td>audi</td>\n",
       "      <td>a4</td>\n",
       "      <td>2.0</td>\n",
       "      <td>2008</td>\n",
       "      <td>4</td>\n",
       "      <td>auto(av)</td>\n",
       "      <td>f</td>\n",
       "      <td>21</td>\n",
       "      <td>30</td>\n",
       "      <td>p</td>\n",
       "      <td>compact</td>\n",
       "      <td>25.5</td>\n",
       "    </tr>\n",
       "    <tr>\n",
       "      <th>5</th>\n",
       "      <td>audi</td>\n",
       "      <td>a4</td>\n",
       "      <td>2.8</td>\n",
       "      <td>1999</td>\n",
       "      <td>6</td>\n",
       "      <td>auto(l5)</td>\n",
       "      <td>f</td>\n",
       "      <td>16</td>\n",
       "      <td>26</td>\n",
       "      <td>p</td>\n",
       "      <td>compact</td>\n",
       "      <td>21.0</td>\n",
       "    </tr>\n",
       "    <tr>\n",
       "      <th>...</th>\n",
       "      <td>...</td>\n",
       "      <td>...</td>\n",
       "      <td>...</td>\n",
       "      <td>...</td>\n",
       "      <td>...</td>\n",
       "      <td>...</td>\n",
       "      <td>...</td>\n",
       "      <td>...</td>\n",
       "      <td>...</td>\n",
       "      <td>...</td>\n",
       "      <td>...</td>\n",
       "      <td>...</td>\n",
       "    </tr>\n",
       "    <tr>\n",
       "      <th>230</th>\n",
       "      <td>volkswagen</td>\n",
       "      <td>passat</td>\n",
       "      <td>2.0</td>\n",
       "      <td>2008</td>\n",
       "      <td>4</td>\n",
       "      <td>auto(s6)</td>\n",
       "      <td>f</td>\n",
       "      <td>19</td>\n",
       "      <td>28</td>\n",
       "      <td>p</td>\n",
       "      <td>midsize</td>\n",
       "      <td>23.5</td>\n",
       "    </tr>\n",
       "    <tr>\n",
       "      <th>231</th>\n",
       "      <td>volkswagen</td>\n",
       "      <td>passat</td>\n",
       "      <td>2.0</td>\n",
       "      <td>2008</td>\n",
       "      <td>4</td>\n",
       "      <td>manual(m6)</td>\n",
       "      <td>f</td>\n",
       "      <td>21</td>\n",
       "      <td>29</td>\n",
       "      <td>p</td>\n",
       "      <td>midsize</td>\n",
       "      <td>25.0</td>\n",
       "    </tr>\n",
       "    <tr>\n",
       "      <th>232</th>\n",
       "      <td>volkswagen</td>\n",
       "      <td>passat</td>\n",
       "      <td>2.8</td>\n",
       "      <td>1999</td>\n",
       "      <td>6</td>\n",
       "      <td>auto(l5)</td>\n",
       "      <td>f</td>\n",
       "      <td>16</td>\n",
       "      <td>26</td>\n",
       "      <td>p</td>\n",
       "      <td>midsize</td>\n",
       "      <td>21.0</td>\n",
       "    </tr>\n",
       "    <tr>\n",
       "      <th>233</th>\n",
       "      <td>volkswagen</td>\n",
       "      <td>passat</td>\n",
       "      <td>2.8</td>\n",
       "      <td>1999</td>\n",
       "      <td>6</td>\n",
       "      <td>manual(m5)</td>\n",
       "      <td>f</td>\n",
       "      <td>18</td>\n",
       "      <td>26</td>\n",
       "      <td>p</td>\n",
       "      <td>midsize</td>\n",
       "      <td>22.0</td>\n",
       "    </tr>\n",
       "    <tr>\n",
       "      <th>234</th>\n",
       "      <td>volkswagen</td>\n",
       "      <td>passat</td>\n",
       "      <td>3.6</td>\n",
       "      <td>2008</td>\n",
       "      <td>6</td>\n",
       "      <td>auto(s6)</td>\n",
       "      <td>f</td>\n",
       "      <td>17</td>\n",
       "      <td>26</td>\n",
       "      <td>p</td>\n",
       "      <td>midsize</td>\n",
       "      <td>21.5</td>\n",
       "    </tr>\n",
       "  </tbody>\n",
       "</table>\n",
       "<p>234 rows × 12 columns</p>\n",
       "</div>"
      ],
      "text/plain": [
       "    manufacturer   model  displ  year  cyl       trans drv  cty  hwy fl  \\\n",
       "1           audi      a4    1.8  1999    4    auto(l5)   f   18   29  p   \n",
       "2           audi      a4    1.8  1999    4  manual(m5)   f   21   29  p   \n",
       "3           audi      a4    2.0  2008    4  manual(m6)   f   20   31  p   \n",
       "4           audi      a4    2.0  2008    4    auto(av)   f   21   30  p   \n",
       "5           audi      a4    2.8  1999    6    auto(l5)   f   16   26  p   \n",
       "..           ...     ...    ...   ...  ...         ...  ..  ...  ... ..   \n",
       "230   volkswagen  passat    2.0  2008    4    auto(s6)   f   19   28  p   \n",
       "231   volkswagen  passat    2.0  2008    4  manual(m6)   f   21   29  p   \n",
       "232   volkswagen  passat    2.8  1999    6    auto(l5)   f   16   26  p   \n",
       "233   volkswagen  passat    2.8  1999    6  manual(m5)   f   18   26  p   \n",
       "234   volkswagen  passat    3.6  2008    6    auto(s6)   f   17   26  p   \n",
       "\n",
       "       class  avg_mpg  \n",
       "1    compact     23.5  \n",
       "2    compact     25.0  \n",
       "3    compact     25.5  \n",
       "4    compact     25.5  \n",
       "5    compact     21.0  \n",
       "..       ...      ...  \n",
       "230  midsize     23.5  \n",
       "231  midsize     25.0  \n",
       "232  midsize     21.0  \n",
       "233  midsize     22.0  \n",
       "234  midsize     21.5  \n",
       "\n",
       "[234 rows x 12 columns]"
      ]
     },
     "execution_count": 20,
     "metadata": {},
     "output_type": "execute_result"
    }
   ],
   "source": [
    "df"
   ]
  },
  {
   "cell_type": "code",
   "execution_count": 21,
   "id": "cbd58c7e",
   "metadata": {},
   "outputs": [],
   "source": [
    "compact = df[df[\"class\"] == \"compact\"].avg_mpg"
   ]
  },
  {
   "cell_type": "code",
   "execution_count": 22,
   "id": "d86db748",
   "metadata": {},
   "outputs": [],
   "source": [
    "overall = df.avg_mpg"
   ]
  },
  {
   "cell_type": "code",
   "execution_count": 23,
   "id": "03a3fce6",
   "metadata": {},
   "outputs": [],
   "source": [
    "overall = overall\n",
    "compact = compact"
   ]
  },
  {
   "cell_type": "code",
   "execution_count": 24,
   "id": "1017ae37",
   "metadata": {},
   "outputs": [
    {
     "data": {
      "text/plain": [
       "1      23.5\n",
       "2      25.0\n",
       "3      25.5\n",
       "4      25.5\n",
       "5      21.0\n",
       "       ... \n",
       "230    23.5\n",
       "231    25.0\n",
       "232    21.0\n",
       "233    22.0\n",
       "234    21.5\n",
       "Name: avg_mpg, Length: 234, dtype: float64"
      ]
     },
     "execution_count": 24,
     "metadata": {},
     "output_type": "execute_result"
    }
   ],
   "source": [
    "overall"
   ]
  },
  {
   "cell_type": "markdown",
   "id": "3c538094",
   "metadata": {},
   "source": [
    "**Plot Distributions**"
   ]
  },
  {
   "cell_type": "code",
   "execution_count": 25,
   "id": "e29c93a4",
   "metadata": {},
   "outputs": [
    {
     "data": {
      "text/plain": [
       "<AxesSubplot:>"
      ]
     },
     "execution_count": 25,
     "metadata": {},
     "output_type": "execute_result"
    },
    {
     "data": {
      "image/png": "[encoded data removed]",
      "text/plain": [
       "<Figure size 432x288 with 1 Axes>"
      ]
     },
     "metadata": {
      "needs_background": "light"
     },
     "output_type": "display_data"
    }
   ],
   "source": [
    "compact.hist()"
   ]
  },
  {
   "cell_type": "code",
   "execution_count": 26,
   "id": "9ccd814f",
   "metadata": {},
   "outputs": [
    {
     "data": {
      "text/plain": [
       "<AxesSubplot:>"
      ]
     },
     "execution_count": 26,
     "metadata": {},
     "output_type": "execute_result"
    },
    {
     "data": {
      "image/png": "[encoded data removed]",
      "text/plain": [
       "<Figure size 432x288 with 1 Axes>"
      ]
     },
     "metadata": {
      "needs_background": "light"
     },
     "output_type": "display_data"
    }
   ],
   "source": [
    "overall.hist()"
   ]
  },
  {
   "cell_type": "markdown",
   "id": "ce7d3981",
   "metadata": {},
   "source": [
    "**Hypothesis**\n",
    "\n",
    "$H_{0}$: The mean mpg for compact cars <= the mean mpg for all vehicles\n",
    "\n",
    "$H_{a}$: The mean mpg for compact cars > the mean mpg for all vehicles"
   ]
  },
  {
   "cell_type": "markdown",
   "id": "fd532214",
   "metadata": {},
   "source": [
    "**Significance Level**"
   ]
  },
  {
   "cell_type": "code",
   "execution_count": 27,
   "id": "1b730298",
   "metadata": {},
   "outputs": [],
   "source": [
    "alpha = 0.05"
   ]
  },
  {
   "cell_type": "markdown",
   "id": "8cec4fd4",
   "metadata": {},
   "source": [
    "**Verify Assumptions**\n",
    "\n",
    "- Normal: yes!\n",
    "- Independent: yes!\n",
    "- Variance: ?"
   ]
  },
  {
   "cell_type": "code",
   "execution_count": 28,
   "id": "0492537c",
   "metadata": {},
   "outputs": [
    {
     "name": "stdout",
     "output_type": "stream",
     "text": [
      "For compact cars, the mean mpg is 24.21276595744681 and the variance is 12.442876965772433\n",
      "For non-compact cars, the mean mpg is 20.14957264957265 and the variance is 25.50542900113715\n"
     ]
    }
   ],
   "source": [
    "print(f'For compact cars, the mean mpg is {compact.mean()} and the variance is {compact.var()}')\n",
    "print(f'For non-compact cars, the mean mpg is {overall.mean()} and the variance is {overall.var()}')"
   ]
  },
  {
   "cell_type": "code",
   "execution_count": 29,
   "id": "8a185812",
   "metadata": {},
   "outputs": [],
   "source": [
    "overall_mean = overall.mean()"
   ]
  },
  {
   "cell_type": "code",
   "execution_count": 30,
   "id": "3a5e2fa1",
   "metadata": {},
   "outputs": [
    {
     "data": {
      "text/plain": [
       "(7.896888573132535, 4.1985637943171336e-10)"
      ]
     },
     "execution_count": 30,
     "metadata": {},
     "output_type": "execute_result"
    }
   ],
   "source": [
    "t, p = stats.ttest_1samp(compact, overall_mean)\n",
    "t, p"
   ]
  },
  {
   "cell_type": "markdown",
   "id": "9ef5c514",
   "metadata": {},
   "source": [
    "**Decide**"
   ]
  },
  {
   "cell_type": "code",
   "execution_count": 31,
   "id": "65968e3e",
   "metadata": {},
   "outputs": [
    {
     "name": "stdout",
     "output_type": "stream",
     "text": [
      "is p/2 < alpha?  True\n",
      "is t > 0?  True\n"
     ]
    }
   ],
   "source": [
    "print(\"is p/2 < alpha? \", p/2 < alpha)\n",
    "print(\"is t > 0? \", t > 0)"
   ]
  },
  {
   "cell_type": "code",
   "execution_count": 32,
   "id": "d7fbbb64",
   "metadata": {},
   "outputs": [
    {
     "name": "stdout",
     "output_type": "stream",
     "text": [
      "We reject $H_{a}$\n"
     ]
    }
   ],
   "source": [
    "if p/2 > alpha:\n",
    "    print(\"We fail to reject $H_{0}$\")\n",
    "elif t < 0:\n",
    "    print(\"We fail to reject $H_{0}$\")\n",
    "else:\n",
    "    print(\"We reject $H_{a}$\")"
   ]
  },
  {
   "cell_type": "markdown",
   "id": "aaa306ff",
   "metadata": {},
   "source": [
    "- Do manual cars get better gas mileage than automatic cars?"
   ]
  },
  {
   "cell_type": "markdown",
   "id": "67b28bd1",
   "metadata": {},
   "source": [
    "This is a 2 sample independent test\n",
    "We will be looking at a 1-tail, looking at the right tail for a t-stat greater than 0.\n",
    "\n",
    "To reject the null hyp, we will need p/2 < \\$alpha$ and a t-stat > 0"
   ]
  },
  {
   "cell_type": "code",
   "execution_count": 33,
   "id": "ac2e6b06",
   "metadata": {},
   "outputs": [
    {
     "data": {
      "text/html": [
       "<div>\n",
       "<style scoped>\n",
       "    .dataframe tbody tr th:only-of-type {\n",
       "        vertical-align: middle;\n",
       "    }\n",
       "\n",
       "    .dataframe tbody tr th {\n",
       "        vertical-align: top;\n",
       "    }\n",
       "\n",
       "    .dataframe thead th {\n",
       "        text-align: right;\n",
       "    }\n",
       "</style>\n",
       "<table border=\"1\" class=\"dataframe\">\n",
       "  <thead>\n",
       "    <tr style=\"text-align: right;\">\n",
       "      <th></th>\n",
       "      <th>manufacturer</th>\n",
       "      <th>model</th>\n",
       "      <th>displ</th>\n",
       "      <th>year</th>\n",
       "      <th>cyl</th>\n",
       "      <th>trans</th>\n",
       "      <th>drv</th>\n",
       "      <th>cty</th>\n",
       "      <th>hwy</th>\n",
       "      <th>fl</th>\n",
       "      <th>class</th>\n",
       "      <th>avg_mpg</th>\n",
       "    </tr>\n",
       "  </thead>\n",
       "  <tbody>\n",
       "    <tr>\n",
       "      <th>1</th>\n",
       "      <td>audi</td>\n",
       "      <td>a4</td>\n",
       "      <td>1.8</td>\n",
       "      <td>1999</td>\n",
       "      <td>4</td>\n",
       "      <td>auto(l5)</td>\n",
       "      <td>f</td>\n",
       "      <td>18</td>\n",
       "      <td>29</td>\n",
       "      <td>p</td>\n",
       "      <td>compact</td>\n",
       "      <td>23.5</td>\n",
       "    </tr>\n",
       "    <tr>\n",
       "      <th>2</th>\n",
       "      <td>audi</td>\n",
       "      <td>a4</td>\n",
       "      <td>1.8</td>\n",
       "      <td>1999</td>\n",
       "      <td>4</td>\n",
       "      <td>manual(m5)</td>\n",
       "      <td>f</td>\n",
       "      <td>21</td>\n",
       "      <td>29</td>\n",
       "      <td>p</td>\n",
       "      <td>compact</td>\n",
       "      <td>25.0</td>\n",
       "    </tr>\n",
       "    <tr>\n",
       "      <th>3</th>\n",
       "      <td>audi</td>\n",
       "      <td>a4</td>\n",
       "      <td>2.0</td>\n",
       "      <td>2008</td>\n",
       "      <td>4</td>\n",
       "      <td>manual(m6)</td>\n",
       "      <td>f</td>\n",
       "      <td>20</td>\n",
       "      <td>31</td>\n",
       "      <td>p</td>\n",
       "      <td>compact</td>\n",
       "      <td>25.5</td>\n",
       "    </tr>\n",
       "    <tr>\n",
       "      <th>4</th>\n",
       "      <td>audi</td>\n",
       "      <td>a4</td>\n",
       "      <td>2.0</td>\n",
       "      <td>2008</td>\n",
       "      <td>4</td>\n",
       "      <td>auto(av)</td>\n",
       "      <td>f</td>\n",
       "      <td>21</td>\n",
       "      <td>30</td>\n",
       "      <td>p</td>\n",
       "      <td>compact</td>\n",
       "      <td>25.5</td>\n",
       "    </tr>\n",
       "    <tr>\n",
       "      <th>5</th>\n",
       "      <td>audi</td>\n",
       "      <td>a4</td>\n",
       "      <td>2.8</td>\n",
       "      <td>1999</td>\n",
       "      <td>6</td>\n",
       "      <td>auto(l5)</td>\n",
       "      <td>f</td>\n",
       "      <td>16</td>\n",
       "      <td>26</td>\n",
       "      <td>p</td>\n",
       "      <td>compact</td>\n",
       "      <td>21.0</td>\n",
       "    </tr>\n",
       "    <tr>\n",
       "      <th>...</th>\n",
       "      <td>...</td>\n",
       "      <td>...</td>\n",
       "      <td>...</td>\n",
       "      <td>...</td>\n",
       "      <td>...</td>\n",
       "      <td>...</td>\n",
       "      <td>...</td>\n",
       "      <td>...</td>\n",
       "      <td>...</td>\n",
       "      <td>...</td>\n",
       "      <td>...</td>\n",
       "      <td>...</td>\n",
       "    </tr>\n",
       "    <tr>\n",
       "      <th>230</th>\n",
       "      <td>volkswagen</td>\n",
       "      <td>passat</td>\n",
       "      <td>2.0</td>\n",
       "      <td>2008</td>\n",
       "      <td>4</td>\n",
       "      <td>auto(s6)</td>\n",
       "      <td>f</td>\n",
       "      <td>19</td>\n",
       "      <td>28</td>\n",
       "      <td>p</td>\n",
       "      <td>midsize</td>\n",
       "      <td>23.5</td>\n",
       "    </tr>\n",
       "    <tr>\n",
       "      <th>231</th>\n",
       "      <td>volkswagen</td>\n",
       "      <td>passat</td>\n",
       "      <td>2.0</td>\n",
       "      <td>2008</td>\n",
       "      <td>4</td>\n",
       "      <td>manual(m6)</td>\n",
       "      <td>f</td>\n",
       "      <td>21</td>\n",
       "      <td>29</td>\n",
       "      <td>p</td>\n",
       "      <td>midsize</td>\n",
       "      <td>25.0</td>\n",
       "    </tr>\n",
       "    <tr>\n",
       "      <th>232</th>\n",
       "      <td>volkswagen</td>\n",
       "      <td>passat</td>\n",
       "      <td>2.8</td>\n",
       "      <td>1999</td>\n",
       "      <td>6</td>\n",
       "      <td>auto(l5)</td>\n",
       "      <td>f</td>\n",
       "      <td>16</td>\n",
       "      <td>26</td>\n",
       "      <td>p</td>\n",
       "      <td>midsize</td>\n",
       "      <td>21.0</td>\n",
       "    </tr>\n",
       "    <tr>\n",
       "      <th>233</th>\n",
       "      <td>volkswagen</td>\n",
       "      <td>passat</td>\n",
       "      <td>2.8</td>\n",
       "      <td>1999</td>\n",
       "      <td>6</td>\n",
       "      <td>manual(m5)</td>\n",
       "      <td>f</td>\n",
       "      <td>18</td>\n",
       "      <td>26</td>\n",
       "      <td>p</td>\n",
       "      <td>midsize</td>\n",
       "      <td>22.0</td>\n",
       "    </tr>\n",
       "    <tr>\n",
       "      <th>234</th>\n",
       "      <td>volkswagen</td>\n",
       "      <td>passat</td>\n",
       "      <td>3.6</td>\n",
       "      <td>2008</td>\n",
       "      <td>6</td>\n",
       "      <td>auto(s6)</td>\n",
       "      <td>f</td>\n",
       "      <td>17</td>\n",
       "      <td>26</td>\n",
       "      <td>p</td>\n",
       "      <td>midsize</td>\n",
       "      <td>21.5</td>\n",
       "    </tr>\n",
       "  </tbody>\n",
       "</table>\n",
       "<p>234 rows × 12 columns</p>\n",
       "</div>"
      ],
      "text/plain": [
       "    manufacturer   model  displ  year  cyl       trans drv  cty  hwy fl  \\\n",
       "1           audi      a4    1.8  1999    4    auto(l5)   f   18   29  p   \n",
       "2           audi      a4    1.8  1999    4  manual(m5)   f   21   29  p   \n",
       "3           audi      a4    2.0  2008    4  manual(m6)   f   20   31  p   \n",
       "4           audi      a4    2.0  2008    4    auto(av)   f   21   30  p   \n",
       "5           audi      a4    2.8  1999    6    auto(l5)   f   16   26  p   \n",
       "..           ...     ...    ...   ...  ...         ...  ..  ...  ... ..   \n",
       "230   volkswagen  passat    2.0  2008    4    auto(s6)   f   19   28  p   \n",
       "231   volkswagen  passat    2.0  2008    4  manual(m6)   f   21   29  p   \n",
       "232   volkswagen  passat    2.8  1999    6    auto(l5)   f   16   26  p   \n",
       "233   volkswagen  passat    2.8  1999    6  manual(m5)   f   18   26  p   \n",
       "234   volkswagen  passat    3.6  2008    6    auto(s6)   f   17   26  p   \n",
       "\n",
       "       class  avg_mpg  \n",
       "1    compact     23.5  \n",
       "2    compact     25.0  \n",
       "3    compact     25.5  \n",
       "4    compact     25.5  \n",
       "5    compact     21.0  \n",
       "..       ...      ...  \n",
       "230  midsize     23.5  \n",
       "231  midsize     25.0  \n",
       "232  midsize     21.0  \n",
       "233  midsize     22.0  \n",
       "234  midsize     21.5  \n",
       "\n",
       "[234 rows x 12 columns]"
      ]
     },
     "execution_count": 33,
     "metadata": {},
     "output_type": "execute_result"
    }
   ],
   "source": [
    "df"
   ]
  },
  {
   "cell_type": "code",
   "execution_count": 34,
   "id": "d5aa724f",
   "metadata": {},
   "outputs": [],
   "source": [
    "manual = df.loc[df['trans'].str.contains(\"manual\")].avg_mpg\n",
    "auto = df[-df.isin(manual) == True].avg_mpg.dropna(0)"
   ]
  },
  {
   "cell_type": "markdown",
   "id": "1c59f241",
   "metadata": {},
   "source": [
    "**Plot Distributions**"
   ]
  },
  {
   "cell_type": "code",
   "execution_count": 35,
   "id": "5c2f7ebc",
   "metadata": {},
   "outputs": [
    {
     "data": {
      "text/plain": [
       "<AxesSubplot:>"
      ]
     },
     "execution_count": 35,
     "metadata": {},
     "output_type": "execute_result"
    },
    {
     "data": {
      "image/png": "[encoded data removed]",
      "text/plain": [
       "<Figure size 432x288 with 1 Axes>"
      ]
     },
     "metadata": {
      "needs_background": "light"
     },
     "output_type": "display_data"
    }
   ],
   "source": [
    "manual.hist()"
   ]
  },
  {
   "cell_type": "code",
   "execution_count": 36,
   "id": "2e99d36e",
   "metadata": {},
   "outputs": [
    {
     "data": {
      "text/plain": [
       "<AxesSubplot:>"
      ]
     },
     "execution_count": 36,
     "metadata": {},
     "output_type": "execute_result"
    },
    {
     "data": {
      "image/png": "[encoded data removed]",
      "text/plain": [
       "<Figure size 432x288 with 1 Axes>"
      ]
     },
     "metadata": {
      "needs_background": "light"
     },
     "output_type": "display_data"
    }
   ],
   "source": [
    "auto.hist()"
   ]
  },
  {
   "cell_type": "markdown",
   "id": "03097657",
   "metadata": {},
   "source": [
    "**Hypothesis**\n",
    "\n",
    "$H_{0}$: The mean mpg for a manual car is less than or equal to auto cars\n",
    "\n",
    "$H_{a}$: The mean mpg for manual is greater than the mean mpg for auto."
   ]
  },
  {
   "cell_type": "markdown",
   "id": "efefea13",
   "metadata": {},
   "source": [
    "**Significance Level**"
   ]
  },
  {
   "cell_type": "code",
   "execution_count": 37,
   "id": "06cae365",
   "metadata": {},
   "outputs": [],
   "source": [
    "alpha = 0.05"
   ]
  },
  {
   "cell_type": "markdown",
   "id": "62a36fb4",
   "metadata": {},
   "source": [
    "**Verify Assumptions**\n",
    "\n",
    "- Normal: Yes\n",
    "- Independent: Yes\n",
    "- Variance: ?"
   ]
  },
  {
   "cell_type": "code",
   "execution_count": 38,
   "id": "479bcf2a",
   "metadata": {},
   "outputs": [
    {
     "name": "stdout",
     "output_type": "stream",
     "text": [
      "For manual cars, the mean mpg is 22.227272727272727 and the variance is 26.635167464114826\n",
      "For auto cars, the mean mpg is 19.130573248407643 and the variance is 21.942777233382337\n"
     ]
    }
   ],
   "source": [
    "print(f'For manual cars, the mean mpg is {manual.mean()} and the variance is {manual.var()}')\n",
    "print(f'For auto cars, the mean mpg is {auto.mean()} and the variance is {auto.var()}')"
   ]
  },
  {
   "cell_type": "code",
   "execution_count": 39,
   "id": "aa844ffa",
   "metadata": {},
   "outputs": [
    {
     "data": {
      "text/plain": [
       "(4.443514012903071, 1.795224899991793e-05)"
      ]
     },
     "execution_count": 39,
     "metadata": {},
     "output_type": "execute_result"
    }
   ],
   "source": [
    "t, p = stats.ttest_ind(manual, auto, equal_var = False)\n",
    "t, p"
   ]
  },
  {
   "cell_type": "markdown",
   "id": "544e217a",
   "metadata": {},
   "source": [
    "**Decide**"
   ]
  },
  {
   "cell_type": "code",
   "execution_count": 40,
   "id": "2bd13447",
   "metadata": {},
   "outputs": [
    {
     "name": "stdout",
     "output_type": "stream",
     "text": [
      "is p/2 < alpha?  True\n",
      "is t > 0?  True\n"
     ]
    }
   ],
   "source": [
    "print(\"is p/2 < alpha? \", p/2 < alpha)\n",
    "print(\"is t > 0? \", t > 0)"
   ]
  },
  {
   "cell_type": "code",
   "execution_count": 41,
   "id": "f1fd7cb7",
   "metadata": {},
   "outputs": [
    {
     "name": "stdout",
     "output_type": "stream",
     "text": [
      "We reject $H_{a}$: There is a significant difference of mpg between manual vehicles and auto vehicles\n"
     ]
    }
   ],
   "source": [
    "if p/2 > alpha:\n",
    "    print(\"We fail to reject $H_{0}$: The mean mpg is the same among manual and auto vehicles\")\n",
    "elif t < 0:\n",
    "    print(\"We fail to reject $H_{0}$: The mean mpg is the same among manual and auto vehicles\")\n",
    "else:\n",
    "    print(\"We reject $H_{a}$: There is a significant difference of mpg between manual vehicles and auto vehicles\")"
   ]
  },
  {
   "cell_type": "code",
   "execution_count": 42,
   "id": "b238b50a",
   "metadata": {},
   "outputs": [
    {
     "data": {
      "text/plain": [
       "22.227272727272727"
      ]
     },
     "execution_count": 42,
     "metadata": {},
     "output_type": "execute_result"
    }
   ],
   "source": [
    "manual.mean()"
   ]
  },
  {
   "cell_type": "code",
   "execution_count": 43,
   "id": "20f7b65c",
   "metadata": {},
   "outputs": [
    {
     "data": {
      "text/plain": [
       "19.130573248407643"
      ]
     },
     "execution_count": 43,
     "metadata": {},
     "output_type": "execute_result"
    }
   ],
   "source": [
    "auto.mean()"
   ]
  },
  {
   "cell_type": "markdown",
   "id": "8a976c97",
   "metadata": {},
   "source": [
    "## Correlation"
   ]
  },
  {
   "cell_type": "markdown",
   "id": "cf1ab86b",
   "metadata": {},
   "source": [
    "### 1. Use the telco_churn data. Does tenure correlate with monthly charges?"
   ]
  },
  {
   "cell_type": "markdown",
   "id": "e1d1d2cb",
   "metadata": {},
   "source": [
    "$H_{0}$: There is no linear correlation between the number of tenure and monthly charges."
   ]
  },
  {
   "cell_type": "code",
   "execution_count": 147,
   "id": "b7e0f0b2",
   "metadata": {},
   "outputs": [
    {
     "data": {
      "text/html": [
       "<div>\n",
       "<style scoped>\n",
       "    .dataframe tbody tr th:only-of-type {\n",
       "        vertical-align: middle;\n",
       "    }\n",
       "\n",
       "    .dataframe tbody tr th {\n",
       "        vertical-align: top;\n",
       "    }\n",
       "\n",
       "    .dataframe thead th {\n",
       "        text-align: right;\n",
       "    }\n",
       "</style>\n",
       "<table border=\"1\" class=\"dataframe\">\n",
       "  <thead>\n",
       "    <tr style=\"text-align: right;\">\n",
       "      <th></th>\n",
       "      <th>tenure</th>\n",
       "      <th>MonthlyCharges</th>\n",
       "      <th>TotalCharges</th>\n",
       "      <th>PhoneService</th>\n",
       "      <th>InternetService</th>\n",
       "    </tr>\n",
       "  </thead>\n",
       "  <tbody>\n",
       "    <tr>\n",
       "      <th>0</th>\n",
       "      <td>1</td>\n",
       "      <td>29.85</td>\n",
       "      <td>29.85</td>\n",
       "      <td>No</td>\n",
       "      <td>DSL</td>\n",
       "    </tr>\n",
       "    <tr>\n",
       "      <th>1</th>\n",
       "      <td>34</td>\n",
       "      <td>56.95</td>\n",
       "      <td>1889.50</td>\n",
       "      <td>Yes</td>\n",
       "      <td>DSL</td>\n",
       "    </tr>\n",
       "    <tr>\n",
       "      <th>2</th>\n",
       "      <td>2</td>\n",
       "      <td>53.85</td>\n",
       "      <td>108.15</td>\n",
       "      <td>Yes</td>\n",
       "      <td>DSL</td>\n",
       "    </tr>\n",
       "    <tr>\n",
       "      <th>3</th>\n",
       "      <td>45</td>\n",
       "      <td>42.30</td>\n",
       "      <td>1840.75</td>\n",
       "      <td>No</td>\n",
       "      <td>DSL</td>\n",
       "    </tr>\n",
       "    <tr>\n",
       "      <th>4</th>\n",
       "      <td>2</td>\n",
       "      <td>70.70</td>\n",
       "      <td>151.65</td>\n",
       "      <td>Yes</td>\n",
       "      <td>Fiber optic</td>\n",
       "    </tr>\n",
       "    <tr>\n",
       "      <th>...</th>\n",
       "      <td>...</td>\n",
       "      <td>...</td>\n",
       "      <td>...</td>\n",
       "      <td>...</td>\n",
       "      <td>...</td>\n",
       "    </tr>\n",
       "    <tr>\n",
       "      <th>7038</th>\n",
       "      <td>24</td>\n",
       "      <td>84.80</td>\n",
       "      <td>1990.50</td>\n",
       "      <td>Yes</td>\n",
       "      <td>DSL</td>\n",
       "    </tr>\n",
       "    <tr>\n",
       "      <th>7039</th>\n",
       "      <td>72</td>\n",
       "      <td>103.20</td>\n",
       "      <td>7362.90</td>\n",
       "      <td>Yes</td>\n",
       "      <td>Fiber optic</td>\n",
       "    </tr>\n",
       "    <tr>\n",
       "      <th>7040</th>\n",
       "      <td>11</td>\n",
       "      <td>29.60</td>\n",
       "      <td>346.45</td>\n",
       "      <td>No</td>\n",
       "      <td>DSL</td>\n",
       "    </tr>\n",
       "    <tr>\n",
       "      <th>7041</th>\n",
       "      <td>4</td>\n",
       "      <td>74.40</td>\n",
       "      <td>306.60</td>\n",
       "      <td>Yes</td>\n",
       "      <td>Fiber optic</td>\n",
       "    </tr>\n",
       "    <tr>\n",
       "      <th>7042</th>\n",
       "      <td>66</td>\n",
       "      <td>105.65</td>\n",
       "      <td>6844.50</td>\n",
       "      <td>Yes</td>\n",
       "      <td>Fiber optic</td>\n",
       "    </tr>\n",
       "  </tbody>\n",
       "</table>\n",
       "<p>7043 rows × 5 columns</p>\n",
       "</div>"
      ],
      "text/plain": [
       "      tenure  MonthlyCharges  TotalCharges PhoneService InternetService\n",
       "0          1           29.85         29.85           No             DSL\n",
       "1         34           56.95       1889.50          Yes             DSL\n",
       "2          2           53.85        108.15          Yes             DSL\n",
       "3         45           42.30       1840.75           No             DSL\n",
       "4          2           70.70        151.65          Yes     Fiber optic\n",
       "...      ...             ...           ...          ...             ...\n",
       "7038      24           84.80       1990.50          Yes             DSL\n",
       "7039      72          103.20       7362.90          Yes     Fiber optic\n",
       "7040      11           29.60        346.45           No             DSL\n",
       "7041       4           74.40        306.60          Yes     Fiber optic\n",
       "7042      66          105.65       6844.50          Yes     Fiber optic\n",
       "\n",
       "[7043 rows x 5 columns]"
      ]
     },
     "execution_count": 147,
     "metadata": {},
     "output_type": "execute_result"
    }
   ],
   "source": [
    "df = pd.read_csv(\"Cust_Churn_Telco.csv\")  \n",
    "df = df[[\"tenure\", \"MonthlyCharges\", \"TotalCharges\", \"PhoneService\", \"InternetService\"]]\n",
    "df"
   ]
  },
  {
   "cell_type": "code",
   "execution_count": 148,
   "id": "22d17c9f",
   "metadata": {},
   "outputs": [],
   "source": [
    "x = df.tenure\n",
    "y = df.MonthlyCharges"
   ]
  },
  {
   "cell_type": "code",
   "execution_count": 149,
   "id": "5fdf25dc",
   "metadata": {},
   "outputs": [
    {
     "data": {
      "text/plain": [
       "(0.24789985628615002, 4.0940449915016345e-99)"
      ]
     },
     "execution_count": 149,
     "metadata": {},
     "output_type": "execute_result"
    }
   ],
   "source": [
    "corr, p = stats.pearsonr(x, y)\n",
    "corr, p"
   ]
  },
  {
   "cell_type": "code",
   "execution_count": 150,
   "id": "c2754eb1",
   "metadata": {},
   "outputs": [
    {
     "data": {
      "text/plain": [
       "True"
      ]
     },
     "execution_count": 150,
     "metadata": {},
     "output_type": "execute_result"
    }
   ],
   "source": [
    "alpha = .05\n",
    "p < alpha"
   ]
  },
  {
   "cell_type": "markdown",
   "id": "4b7891ac",
   "metadata": {},
   "source": [
    "Since p < $\\alpha$, we reject the null hypothesis that there is no linear correlation between the number of tenure and monthly charges."
   ]
  },
  {
   "cell_type": "markdown",
   "id": "81bd62f3",
   "metadata": {},
   "source": [
    "### Total charges?"
   ]
  },
  {
   "cell_type": "code",
   "execution_count": 151,
   "id": "41f550fa",
   "metadata": {},
   "outputs": [
    {
     "data": {
      "text/plain": [
       "(7032, 2)"
      ]
     },
     "execution_count": 151,
     "metadata": {},
     "output_type": "execute_result"
    }
   ],
   "source": [
    "df_no_null = df[[\"tenure\", \"TotalCharges\"]].dropna()\n",
    "df_no_null.shape"
   ]
  },
  {
   "cell_type": "code",
   "execution_count": 152,
   "id": "59a5b8f5",
   "metadata": {},
   "outputs": [
    {
     "data": {
      "text/plain": [
       "(0.8258804609332018, 0.0)"
      ]
     },
     "execution_count": 152,
     "metadata": {},
     "output_type": "execute_result"
    }
   ],
   "source": [
    "x = df_no_null.tenure\n",
    "y = df_no_null.TotalCharges\n",
    "corr, p = stats.pearsonr(x, y)\n",
    "corr, p"
   ]
  },
  {
   "cell_type": "markdown",
   "id": "360f8ee0",
   "metadata": {},
   "source": [
    "Since p < $\\alpha$, we reject the null hypothesis that there is no linear correlation between the number of tenure and total charges."
   ]
  },
  {
   "cell_type": "markdown",
   "id": "947339e1",
   "metadata": {},
   "source": [
    "### What happens if you control for phone and internet service?"
   ]
  },
  {
   "cell_type": "code",
   "execution_count": 156,
   "id": "d30f35c2",
   "metadata": {},
   "outputs": [],
   "source": [
    "df = pd.read_csv(\"Cust_Churn_Telco.csv\")  "
   ]
  },
  {
   "cell_type": "code",
   "execution_count": 160,
   "id": "aa7d76a8",
   "metadata": {},
   "outputs": [
    {
     "name": "stdout",
     "output_type": "stream",
     "text": [
      "<class 'pandas.core.frame.DataFrame'>\n",
      "RangeIndex: 7043 entries, 0 to 7042\n",
      "Data columns (total 21 columns):\n",
      " #   Column            Non-Null Count  Dtype  \n",
      "---  ------            --------------  -----  \n",
      " 0   customerID        7043 non-null   object \n",
      " 1   gender            7043 non-null   object \n",
      " 2   SeniorCitizen     7043 non-null   int64  \n",
      " 3   Partner           7043 non-null   object \n",
      " 4   Dependents        7043 non-null   object \n",
      " 5   tenure            7043 non-null   int64  \n",
      " 6   PhoneService      7043 non-null   object \n",
      " 7   MultipleLines     7043 non-null   object \n",
      " 8   InternetService   7043 non-null   object \n",
      " 9   OnlineSecurity    7043 non-null   object \n",
      " 10  OnlineBackup      7043 non-null   object \n",
      " 11  DeviceProtection  7043 non-null   object \n",
      " 12  TechSupport       7043 non-null   object \n",
      " 13  StreamingTV       7043 non-null   object \n",
      " 14  StreamingMovies   7043 non-null   object \n",
      " 15  Contract          7043 non-null   object \n",
      " 16  PaperlessBilling  7043 non-null   object \n",
      " 17  PaymentMethod     7043 non-null   object \n",
      " 18  MonthlyCharges    7043 non-null   float64\n",
      " 19  TotalCharges      7032 non-null   float64\n",
      " 20  Churn             7043 non-null   object \n",
      "dtypes: float64(2), int64(2), object(17)\n",
      "memory usage: 1.1+ MB\n"
     ]
    }
   ],
   "source": [
    "df.info()"
   ]
  },
  {
   "cell_type": "markdown",
   "id": "29bc836f",
   "metadata": {},
   "source": [
    "### Use the employees database.\n",
    "- Is there a relationship between how long an employee has been with the company and their salary?"
   ]
  },
  {
   "cell_type": "code",
   "execution_count": 50,
   "id": "d64a64f6",
   "metadata": {},
   "outputs": [],
   "source": [
    "from env import user, password, host"
   ]
  },
  {
   "cell_type": "code",
   "execution_count": 51,
   "id": "18a0d205",
   "metadata": {},
   "outputs": [],
   "source": [
    "def get_data_from_sql(user, host, password, database, query):\n",
    "    url = f'mysql+pymysql://{user}:{password}@{host}/{database}'  \n",
    "    return pd.read_sql(query, url)"
   ]
  },
  {
   "cell_type": "code",
   "execution_count": 52,
   "id": "9ef270e9",
   "metadata": {
    "scrolled": false
   },
   "outputs": [
    {
     "data": {
      "text/html": [
       "<div>\n",
       "<style scoped>\n",
       "    .dataframe tbody tr th:only-of-type {\n",
       "        vertical-align: middle;\n",
       "    }\n",
       "\n",
       "    .dataframe tbody tr th {\n",
       "        vertical-align: top;\n",
       "    }\n",
       "\n",
       "    .dataframe thead th {\n",
       "        text-align: right;\n",
       "    }\n",
       "</style>\n",
       "<table border=\"1\" class=\"dataframe\">\n",
       "  <thead>\n",
       "    <tr style=\"text-align: right;\">\n",
       "      <th></th>\n",
       "      <th>emp_no</th>\n",
       "      <th>Salary</th>\n",
       "      <th>from_date</th>\n",
       "      <th>to_date</th>\n",
       "    </tr>\n",
       "  </thead>\n",
       "  <tbody>\n",
       "    <tr>\n",
       "      <th>0</th>\n",
       "      <td>10001</td>\n",
       "      <td>88958</td>\n",
       "      <td>1986-06-26</td>\n",
       "      <td>9999-01-01</td>\n",
       "    </tr>\n",
       "    <tr>\n",
       "      <th>1</th>\n",
       "      <td>10002</td>\n",
       "      <td>72527</td>\n",
       "      <td>1985-11-21</td>\n",
       "      <td>9999-01-01</td>\n",
       "    </tr>\n",
       "    <tr>\n",
       "      <th>2</th>\n",
       "      <td>10003</td>\n",
       "      <td>43699</td>\n",
       "      <td>1986-08-28</td>\n",
       "      <td>9999-01-01</td>\n",
       "    </tr>\n",
       "    <tr>\n",
       "      <th>3</th>\n",
       "      <td>10004</td>\n",
       "      <td>74057</td>\n",
       "      <td>1986-12-01</td>\n",
       "      <td>9999-01-01</td>\n",
       "    </tr>\n",
       "    <tr>\n",
       "      <th>4</th>\n",
       "      <td>10005</td>\n",
       "      <td>94692</td>\n",
       "      <td>1989-09-12</td>\n",
       "      <td>9999-01-01</td>\n",
       "    </tr>\n",
       "    <tr>\n",
       "      <th>...</th>\n",
       "      <td>...</td>\n",
       "      <td>...</td>\n",
       "      <td>...</td>\n",
       "      <td>...</td>\n",
       "    </tr>\n",
       "    <tr>\n",
       "      <th>300019</th>\n",
       "      <td>499995</td>\n",
       "      <td>52868</td>\n",
       "      <td>1993-01-12</td>\n",
       "      <td>9999-01-01</td>\n",
       "    </tr>\n",
       "    <tr>\n",
       "      <th>300020</th>\n",
       "      <td>499996</td>\n",
       "      <td>69501</td>\n",
       "      <td>1990-09-27</td>\n",
       "      <td>9999-01-01</td>\n",
       "    </tr>\n",
       "    <tr>\n",
       "      <th>300021</th>\n",
       "      <td>499997</td>\n",
       "      <td>83441</td>\n",
       "      <td>1986-04-21</td>\n",
       "      <td>9999-01-01</td>\n",
       "    </tr>\n",
       "    <tr>\n",
       "      <th>300022</th>\n",
       "      <td>499998</td>\n",
       "      <td>55003</td>\n",
       "      <td>1993-10-13</td>\n",
       "      <td>9999-01-01</td>\n",
       "    </tr>\n",
       "    <tr>\n",
       "      <th>300023</th>\n",
       "      <td>499999</td>\n",
       "      <td>77303</td>\n",
       "      <td>1997-11-30</td>\n",
       "      <td>9999-01-01</td>\n",
       "    </tr>\n",
       "  </tbody>\n",
       "</table>\n",
       "<p>300024 rows × 4 columns</p>\n",
       "</div>"
      ],
      "text/plain": [
       "        emp_no  Salary   from_date     to_date\n",
       "0        10001   88958  1986-06-26  9999-01-01\n",
       "1        10002   72527  1985-11-21  9999-01-01\n",
       "2        10003   43699  1986-08-28  9999-01-01\n",
       "3        10004   74057  1986-12-01  9999-01-01\n",
       "4        10005   94692  1989-09-12  9999-01-01\n",
       "...        ...     ...         ...         ...\n",
       "300019  499995   52868  1993-01-12  9999-01-01\n",
       "300020  499996   69501  1990-09-27  9999-01-01\n",
       "300021  499997   83441  1986-04-21  9999-01-01\n",
       "300022  499998   55003  1993-10-13  9999-01-01\n",
       "300023  499999   77303  1997-11-30  9999-01-01\n",
       "\n",
       "[300024 rows x 4 columns]"
      ]
     },
     "execution_count": 52,
     "metadata": {},
     "output_type": "execute_result"
    }
   ],
   "source": [
    "query = '''\n",
    "SELECT emp_no, MAX(salary) as Salary, employees.hire_date as from_date, MAX(to_date) as to_date\n",
    "FROM salaries\n",
    "LEFT JOIN employees.employees\n",
    "USING (emp_no)\n",
    "GROUP BY emp_no;\n",
    "'''\n",
    "df = get_data_from_sql(user, host, password, \"employees\", query)\n",
    "df"
   ]
  },
  {
   "cell_type": "code",
   "execution_count": 56,
   "id": "f9ce5123",
   "metadata": {
    "scrolled": true
   },
   "outputs": [],
   "source": [
    "today = pd.to_datetime(\"today\").strftime(\"%Y-%m-%d\")\n",
    "df[\"to_date\"] = df[\"to_date\"].astype(str)\n",
    "df[\"to_date\"] = df[\"to_date\"].apply(lambda x: today if x.startswith('9999') == True else pd.to_datetime(x))\n",
    "df[\"from_date\"] = pd.to_datetime(df[\"from_date\"])"
   ]
  },
  {
   "cell_type": "code",
   "execution_count": 57,
   "id": "96c9e248",
   "metadata": {},
   "outputs": [
    {
     "data": {
      "text/plain": [
       "0        2021-08-10\n",
       "1        2021-08-10\n",
       "2        2021-08-10\n",
       "3        2021-08-10\n",
       "4        2021-08-10\n",
       "            ...    \n",
       "300019   2021-08-10\n",
       "300020   2021-08-10\n",
       "300021   2021-08-10\n",
       "300022   2021-08-10\n",
       "300023   2021-08-10\n",
       "Name: to_date, Length: 300024, dtype: datetime64[ns]"
      ]
     },
     "execution_count": 57,
     "metadata": {},
     "output_type": "execute_result"
    }
   ],
   "source": [
    "df.to_date"
   ]
  },
  {
   "cell_type": "code",
   "execution_count": 128,
   "id": "3cbc4660",
   "metadata": {
    "scrolled": true
   },
   "outputs": [
    {
     "data": {
      "text/html": [
       "<div>\n",
       "<style scoped>\n",
       "    .dataframe tbody tr th:only-of-type {\n",
       "        vertical-align: middle;\n",
       "    }\n",
       "\n",
       "    .dataframe tbody tr th {\n",
       "        vertical-align: top;\n",
       "    }\n",
       "\n",
       "    .dataframe thead th {\n",
       "        text-align: right;\n",
       "    }\n",
       "</style>\n",
       "<table border=\"1\" class=\"dataframe\">\n",
       "  <thead>\n",
       "    <tr style=\"text-align: right;\">\n",
       "      <th></th>\n",
       "      <th>emp_no</th>\n",
       "      <th>Salary</th>\n",
       "      <th>from_date</th>\n",
       "      <th>to_date</th>\n",
       "      <th>tenure</th>\n",
       "    </tr>\n",
       "  </thead>\n",
       "  <tbody>\n",
       "    <tr>\n",
       "      <th>0</th>\n",
       "      <td>10001</td>\n",
       "      <td>88958</td>\n",
       "      <td>1986-06-26</td>\n",
       "      <td>2021-08-10</td>\n",
       "      <td>35</td>\n",
       "    </tr>\n",
       "    <tr>\n",
       "      <th>1</th>\n",
       "      <td>10002</td>\n",
       "      <td>72527</td>\n",
       "      <td>1985-11-21</td>\n",
       "      <td>2021-08-10</td>\n",
       "      <td>35</td>\n",
       "    </tr>\n",
       "    <tr>\n",
       "      <th>2</th>\n",
       "      <td>10003</td>\n",
       "      <td>43699</td>\n",
       "      <td>1986-08-28</td>\n",
       "      <td>2021-08-10</td>\n",
       "      <td>34</td>\n",
       "    </tr>\n",
       "    <tr>\n",
       "      <th>3</th>\n",
       "      <td>10004</td>\n",
       "      <td>74057</td>\n",
       "      <td>1986-12-01</td>\n",
       "      <td>2021-08-10</td>\n",
       "      <td>34</td>\n",
       "    </tr>\n",
       "    <tr>\n",
       "      <th>4</th>\n",
       "      <td>10005</td>\n",
       "      <td>94692</td>\n",
       "      <td>1989-09-12</td>\n",
       "      <td>2021-08-10</td>\n",
       "      <td>31</td>\n",
       "    </tr>\n",
       "    <tr>\n",
       "      <th>...</th>\n",
       "      <td>...</td>\n",
       "      <td>...</td>\n",
       "      <td>...</td>\n",
       "      <td>...</td>\n",
       "      <td>...</td>\n",
       "    </tr>\n",
       "    <tr>\n",
       "      <th>300019</th>\n",
       "      <td>499995</td>\n",
       "      <td>52868</td>\n",
       "      <td>1993-01-12</td>\n",
       "      <td>2021-08-10</td>\n",
       "      <td>28</td>\n",
       "    </tr>\n",
       "    <tr>\n",
       "      <th>300020</th>\n",
       "      <td>499996</td>\n",
       "      <td>69501</td>\n",
       "      <td>1990-09-27</td>\n",
       "      <td>2021-08-10</td>\n",
       "      <td>30</td>\n",
       "    </tr>\n",
       "    <tr>\n",
       "      <th>300021</th>\n",
       "      <td>499997</td>\n",
       "      <td>83441</td>\n",
       "      <td>1986-04-21</td>\n",
       "      <td>2021-08-10</td>\n",
       "      <td>35</td>\n",
       "    </tr>\n",
       "    <tr>\n",
       "      <th>300022</th>\n",
       "      <td>499998</td>\n",
       "      <td>55003</td>\n",
       "      <td>1993-10-13</td>\n",
       "      <td>2021-08-10</td>\n",
       "      <td>27</td>\n",
       "    </tr>\n",
       "    <tr>\n",
       "      <th>300023</th>\n",
       "      <td>499999</td>\n",
       "      <td>77303</td>\n",
       "      <td>1997-11-30</td>\n",
       "      <td>2021-08-10</td>\n",
       "      <td>23</td>\n",
       "    </tr>\n",
       "  </tbody>\n",
       "</table>\n",
       "<p>300024 rows × 5 columns</p>\n",
       "</div>"
      ],
      "text/plain": [
       "        emp_no  Salary  from_date    to_date  tenure\n",
       "0        10001   88958 1986-06-26 2021-08-10      35\n",
       "1        10002   72527 1985-11-21 2021-08-10      35\n",
       "2        10003   43699 1986-08-28 2021-08-10      34\n",
       "3        10004   74057 1986-12-01 2021-08-10      34\n",
       "4        10005   94692 1989-09-12 2021-08-10      31\n",
       "...        ...     ...        ...        ...     ...\n",
       "300019  499995   52868 1993-01-12 2021-08-10      28\n",
       "300020  499996   69501 1990-09-27 2021-08-10      30\n",
       "300021  499997   83441 1986-04-21 2021-08-10      35\n",
       "300022  499998   55003 1993-10-13 2021-08-10      27\n",
       "300023  499999   77303 1997-11-30 2021-08-10      23\n",
       "\n",
       "[300024 rows x 5 columns]"
      ]
     },
     "execution_count": 128,
     "metadata": {},
     "output_type": "execute_result"
    }
   ],
   "source": [
    "df[\"tenure\"] = df.to_date - df.from_date\n",
    "df[\"tenure\"] = df.tenure.dt.days // 365\n",
    "df"
   ]
  },
  {
   "cell_type": "code",
   "execution_count": 68,
   "id": "fb0a63b2",
   "metadata": {
    "scrolled": false
   },
   "outputs": [
    {
     "data": {
      "text/plain": [
       "(0.3247694663589401, 0.0)"
      ]
     },
     "execution_count": 68,
     "metadata": {},
     "output_type": "execute_result"
    }
   ],
   "source": [
    "x = df.tenure\n",
    "y = df.Salary\n",
    "corr, p = stats.pearsonr(x, y)\n",
    "corr, p"
   ]
  },
  {
   "cell_type": "code",
   "execution_count": null,
   "id": "36174eea",
   "metadata": {},
   "outputs": [],
   "source": [
    "p < alpha"
   ]
  },
  {
   "cell_type": "markdown",
   "id": "f1c41569",
   "metadata": {},
   "source": [
    "Since p < $\\alpha$, we can reject $H_{0}$ which states that there is no linear correlation between employee tenure and salary."
   ]
  },
  {
   "cell_type": "code",
   "execution_count": 70,
   "id": "73570614",
   "metadata": {
    "scrolled": true
   },
   "outputs": [
    {
     "data": {
      "text/plain": [
       "<AxesSubplot:xlabel='tenure', ylabel='Salary'>"
      ]
     },
     "execution_count": 70,
     "metadata": {},
     "output_type": "execute_result"
    },
    {
     "data": {
      "image/png": "[encoded data removed]",
      "text/plain": [
       "<Figure size 432x288 with 1 Axes>"
      ]
     },
     "metadata": {
      "needs_background": "light"
     },
     "output_type": "display_data"
    }
   ],
   "source": [
    "df.plot.scatter('tenure', 'Salary')"
   ]
  },
  {
   "cell_type": "markdown",
   "id": "58cb95cb",
   "metadata": {},
   "source": [
    "- Is there a relationship between how long an employee has been with the company and the number of titles they have had?"
   ]
  },
  {
   "cell_type": "code",
   "execution_count": 138,
   "id": "61d47dc5",
   "metadata": {
    "scrolled": true
   },
   "outputs": [
    {
     "data": {
      "text/html": [
       "<div>\n",
       "<style scoped>\n",
       "    .dataframe tbody tr th:only-of-type {\n",
       "        vertical-align: middle;\n",
       "    }\n",
       "\n",
       "    .dataframe tbody tr th {\n",
       "        vertical-align: top;\n",
       "    }\n",
       "\n",
       "    .dataframe thead th {\n",
       "        text-align: right;\n",
       "    }\n",
       "</style>\n",
       "<table border=\"1\" class=\"dataframe\">\n",
       "  <thead>\n",
       "    <tr style=\"text-align: right;\">\n",
       "      <th></th>\n",
       "      <th>emp_no</th>\n",
       "      <th>title</th>\n",
       "      <th>from_date</th>\n",
       "      <th>to_date</th>\n",
       "      <th>birth_date</th>\n",
       "      <th>first_name</th>\n",
       "      <th>last_name</th>\n",
       "      <th>gender</th>\n",
       "      <th>hire_date</th>\n",
       "    </tr>\n",
       "  </thead>\n",
       "  <tbody>\n",
       "    <tr>\n",
       "      <th>0</th>\n",
       "      <td>10001</td>\n",
       "      <td>Senior Engineer</td>\n",
       "      <td>1986-06-26</td>\n",
       "      <td>9999-01-01</td>\n",
       "      <td>1953-09-02</td>\n",
       "      <td>Georgi</td>\n",
       "      <td>Facello</td>\n",
       "      <td>M</td>\n",
       "      <td>1986-06-26</td>\n",
       "    </tr>\n",
       "    <tr>\n",
       "      <th>1</th>\n",
       "      <td>10002</td>\n",
       "      <td>Staff</td>\n",
       "      <td>1996-08-03</td>\n",
       "      <td>9999-01-01</td>\n",
       "      <td>1964-06-02</td>\n",
       "      <td>Bezalel</td>\n",
       "      <td>Simmel</td>\n",
       "      <td>F</td>\n",
       "      <td>1985-11-21</td>\n",
       "    </tr>\n",
       "    <tr>\n",
       "      <th>2</th>\n",
       "      <td>10003</td>\n",
       "      <td>Senior Engineer</td>\n",
       "      <td>1995-12-03</td>\n",
       "      <td>9999-01-01</td>\n",
       "      <td>1959-12-03</td>\n",
       "      <td>Parto</td>\n",
       "      <td>Bamford</td>\n",
       "      <td>M</td>\n",
       "      <td>1986-08-28</td>\n",
       "    </tr>\n",
       "    <tr>\n",
       "      <th>3</th>\n",
       "      <td>10004</td>\n",
       "      <td>Engineer</td>\n",
       "      <td>1986-12-01</td>\n",
       "      <td>1995-12-01</td>\n",
       "      <td>1954-05-01</td>\n",
       "      <td>Chirstian</td>\n",
       "      <td>Koblick</td>\n",
       "      <td>M</td>\n",
       "      <td>1986-12-01</td>\n",
       "    </tr>\n",
       "    <tr>\n",
       "      <th>4</th>\n",
       "      <td>10004</td>\n",
       "      <td>Senior Engineer</td>\n",
       "      <td>1995-12-01</td>\n",
       "      <td>9999-01-01</td>\n",
       "      <td>1954-05-01</td>\n",
       "      <td>Chirstian</td>\n",
       "      <td>Koblick</td>\n",
       "      <td>M</td>\n",
       "      <td>1986-12-01</td>\n",
       "    </tr>\n",
       "    <tr>\n",
       "      <th>...</th>\n",
       "      <td>...</td>\n",
       "      <td>...</td>\n",
       "      <td>...</td>\n",
       "      <td>...</td>\n",
       "      <td>...</td>\n",
       "      <td>...</td>\n",
       "      <td>...</td>\n",
       "      <td>...</td>\n",
       "      <td>...</td>\n",
       "    </tr>\n",
       "    <tr>\n",
       "      <th>443303</th>\n",
       "      <td>499997</td>\n",
       "      <td>Engineer</td>\n",
       "      <td>1987-08-30</td>\n",
       "      <td>1992-08-29</td>\n",
       "      <td>1961-08-03</td>\n",
       "      <td>Berhard</td>\n",
       "      <td>Lenart</td>\n",
       "      <td>M</td>\n",
       "      <td>1986-04-21</td>\n",
       "    </tr>\n",
       "    <tr>\n",
       "      <th>443304</th>\n",
       "      <td>499997</td>\n",
       "      <td>Senior Engineer</td>\n",
       "      <td>1992-08-29</td>\n",
       "      <td>9999-01-01</td>\n",
       "      <td>1961-08-03</td>\n",
       "      <td>Berhard</td>\n",
       "      <td>Lenart</td>\n",
       "      <td>M</td>\n",
       "      <td>1986-04-21</td>\n",
       "    </tr>\n",
       "    <tr>\n",
       "      <th>443305</th>\n",
       "      <td>499998</td>\n",
       "      <td>Senior Staff</td>\n",
       "      <td>1998-12-27</td>\n",
       "      <td>9999-01-01</td>\n",
       "      <td>1956-09-05</td>\n",
       "      <td>Patricia</td>\n",
       "      <td>Breugel</td>\n",
       "      <td>M</td>\n",
       "      <td>1993-10-13</td>\n",
       "    </tr>\n",
       "    <tr>\n",
       "      <th>443306</th>\n",
       "      <td>499998</td>\n",
       "      <td>Staff</td>\n",
       "      <td>1993-12-27</td>\n",
       "      <td>1998-12-27</td>\n",
       "      <td>1956-09-05</td>\n",
       "      <td>Patricia</td>\n",
       "      <td>Breugel</td>\n",
       "      <td>M</td>\n",
       "      <td>1993-10-13</td>\n",
       "    </tr>\n",
       "    <tr>\n",
       "      <th>443307</th>\n",
       "      <td>499999</td>\n",
       "      <td>Engineer</td>\n",
       "      <td>1997-11-30</td>\n",
       "      <td>9999-01-01</td>\n",
       "      <td>1958-05-01</td>\n",
       "      <td>Sachin</td>\n",
       "      <td>Tsukuda</td>\n",
       "      <td>M</td>\n",
       "      <td>1997-11-30</td>\n",
       "    </tr>\n",
       "  </tbody>\n",
       "</table>\n",
       "<p>443308 rows × 9 columns</p>\n",
       "</div>"
      ],
      "text/plain": [
       "        emp_no            title   from_date     to_date  birth_date  \\\n",
       "0        10001  Senior Engineer  1986-06-26  9999-01-01  1953-09-02   \n",
       "1        10002            Staff  1996-08-03  9999-01-01  1964-06-02   \n",
       "2        10003  Senior Engineer  1995-12-03  9999-01-01  1959-12-03   \n",
       "3        10004         Engineer  1986-12-01  1995-12-01  1954-05-01   \n",
       "4        10004  Senior Engineer  1995-12-01  9999-01-01  1954-05-01   \n",
       "...        ...              ...         ...         ...         ...   \n",
       "443303  499997         Engineer  1987-08-30  1992-08-29  1961-08-03   \n",
       "443304  499997  Senior Engineer  1992-08-29  9999-01-01  1961-08-03   \n",
       "443305  499998     Senior Staff  1998-12-27  9999-01-01  1956-09-05   \n",
       "443306  499998            Staff  1993-12-27  1998-12-27  1956-09-05   \n",
       "443307  499999         Engineer  1997-11-30  9999-01-01  1958-05-01   \n",
       "\n",
       "       first_name last_name gender   hire_date  \n",
       "0          Georgi   Facello      M  1986-06-26  \n",
       "1         Bezalel    Simmel      F  1985-11-21  \n",
       "2           Parto   Bamford      M  1986-08-28  \n",
       "3       Chirstian   Koblick      M  1986-12-01  \n",
       "4       Chirstian   Koblick      M  1986-12-01  \n",
       "...           ...       ...    ...         ...  \n",
       "443303    Berhard    Lenart      M  1986-04-21  \n",
       "443304    Berhard    Lenart      M  1986-04-21  \n",
       "443305   Patricia   Breugel      M  1993-10-13  \n",
       "443306   Patricia   Breugel      M  1993-10-13  \n",
       "443307     Sachin   Tsukuda      M  1997-11-30  \n",
       "\n",
       "[443308 rows x 9 columns]"
      ]
     },
     "execution_count": 138,
     "metadata": {},
     "output_type": "execute_result"
    }
   ],
   "source": [
    "query = '''\n",
    "SELECT *\n",
    "FROM titles\n",
    "FULL JOIN employees.employees\n",
    "USING (emp_no);\n",
    "'''\n",
    "titles = get_data_from_sql(user, host, password, \"employees\", query)\n",
    "titles"
   ]
  },
  {
   "cell_type": "code",
   "execution_count": 144,
   "id": "c267ba84",
   "metadata": {},
   "outputs": [
    {
     "data": {
      "text/plain": [
       "emp_no\n",
       "10001             Senior Engineer\n",
       "10002                       Staff\n",
       "10003             Senior Engineer\n",
       "10004     EngineerSenior Engineer\n",
       "10005           Senior StaffStaff\n",
       "                   ...           \n",
       "499995                   Engineer\n",
       "499996    EngineerSenior Engineer\n",
       "499997    EngineerSenior Engineer\n",
       "499998          Senior StaffStaff\n",
       "499999                   Engineer\n",
       "Name: title, Length: 300024, dtype: object"
      ]
     },
     "execution_count": 144,
     "metadata": {},
     "output_type": "execute_result"
    }
   ],
   "source": [
    "titles.groupby(\"emp_no\").title.sum()"
   ]
  },
  {
   "cell_type": "markdown",
   "id": "9baa648b",
   "metadata": {},
   "source": [
    "### Use the sleepstudy data. Is there a relationship between days and reaction time?"
   ]
  },
  {
   "cell_type": "code",
   "execution_count": 77,
   "id": "336d881a",
   "metadata": {},
   "outputs": [
    {
     "data": {
      "text/html": [
       "<div>\n",
       "<style scoped>\n",
       "    .dataframe tbody tr th:only-of-type {\n",
       "        vertical-align: middle;\n",
       "    }\n",
       "\n",
       "    .dataframe tbody tr th {\n",
       "        vertical-align: top;\n",
       "    }\n",
       "\n",
       "    .dataframe thead th {\n",
       "        text-align: right;\n",
       "    }\n",
       "</style>\n",
       "<table border=\"1\" class=\"dataframe\">\n",
       "  <thead>\n",
       "    <tr style=\"text-align: right;\">\n",
       "      <th></th>\n",
       "      <th>Reaction</th>\n",
       "      <th>Days</th>\n",
       "      <th>Subject</th>\n",
       "    </tr>\n",
       "  </thead>\n",
       "  <tbody>\n",
       "    <tr>\n",
       "      <th>1</th>\n",
       "      <td>249.5600</td>\n",
       "      <td>0</td>\n",
       "      <td>308</td>\n",
       "    </tr>\n",
       "    <tr>\n",
       "      <th>2</th>\n",
       "      <td>258.7047</td>\n",
       "      <td>1</td>\n",
       "      <td>308</td>\n",
       "    </tr>\n",
       "    <tr>\n",
       "      <th>3</th>\n",
       "      <td>250.8006</td>\n",
       "      <td>2</td>\n",
       "      <td>308</td>\n",
       "    </tr>\n",
       "    <tr>\n",
       "      <th>4</th>\n",
       "      <td>321.4398</td>\n",
       "      <td>3</td>\n",
       "      <td>308</td>\n",
       "    </tr>\n",
       "    <tr>\n",
       "      <th>5</th>\n",
       "      <td>356.8519</td>\n",
       "      <td>4</td>\n",
       "      <td>308</td>\n",
       "    </tr>\n",
       "    <tr>\n",
       "      <th>...</th>\n",
       "      <td>...</td>\n",
       "      <td>...</td>\n",
       "      <td>...</td>\n",
       "    </tr>\n",
       "    <tr>\n",
       "      <th>176</th>\n",
       "      <td>329.6076</td>\n",
       "      <td>5</td>\n",
       "      <td>372</td>\n",
       "    </tr>\n",
       "    <tr>\n",
       "      <th>177</th>\n",
       "      <td>334.4818</td>\n",
       "      <td>6</td>\n",
       "      <td>372</td>\n",
       "    </tr>\n",
       "    <tr>\n",
       "      <th>178</th>\n",
       "      <td>343.2199</td>\n",
       "      <td>7</td>\n",
       "      <td>372</td>\n",
       "    </tr>\n",
       "    <tr>\n",
       "      <th>179</th>\n",
       "      <td>369.1417</td>\n",
       "      <td>8</td>\n",
       "      <td>372</td>\n",
       "    </tr>\n",
       "    <tr>\n",
       "      <th>180</th>\n",
       "      <td>364.1236</td>\n",
       "      <td>9</td>\n",
       "      <td>372</td>\n",
       "    </tr>\n",
       "  </tbody>\n",
       "</table>\n",
       "<p>180 rows × 3 columns</p>\n",
       "</div>"
      ],
      "text/plain": [
       "     Reaction  Days  Subject\n",
       "1    249.5600     0      308\n",
       "2    258.7047     1      308\n",
       "3    250.8006     2      308\n",
       "4    321.4398     3      308\n",
       "5    356.8519     4      308\n",
       "..        ...   ...      ...\n",
       "176  329.6076     5      372\n",
       "177  334.4818     6      372\n",
       "178  343.2199     7      372\n",
       "179  369.1417     8      372\n",
       "180  364.1236     9      372\n",
       "\n",
       "[180 rows x 3 columns]"
      ]
     },
     "execution_count": 77,
     "metadata": {},
     "output_type": "execute_result"
    }
   ],
   "source": [
    "from pydataset import data\n",
    "sleepdf = data(\"sleepstudy\")\n",
    "sleepdf"
   ]
  },
  {
   "cell_type": "code",
   "execution_count": 88,
   "id": "3a698e5f",
   "metadata": {},
   "outputs": [
    {
     "data": {
      "text/html": [
       "<div>\n",
       "<style scoped>\n",
       "    .dataframe tbody tr th:only-of-type {\n",
       "        vertical-align: middle;\n",
       "    }\n",
       "\n",
       "    .dataframe tbody tr th {\n",
       "        vertical-align: top;\n",
       "    }\n",
       "\n",
       "    .dataframe thead tr th {\n",
       "        text-align: left;\n",
       "    }\n",
       "\n",
       "    .dataframe thead tr:last-of-type th {\n",
       "        text-align: right;\n",
       "    }\n",
       "</style>\n",
       "<table border=\"1\" class=\"dataframe\">\n",
       "  <thead>\n",
       "    <tr>\n",
       "      <th></th>\n",
       "      <th colspan=\"10\" halign=\"left\">Reaction</th>\n",
       "    </tr>\n",
       "    <tr>\n",
       "      <th>Days</th>\n",
       "      <th>0</th>\n",
       "      <th>1</th>\n",
       "      <th>2</th>\n",
       "      <th>3</th>\n",
       "      <th>4</th>\n",
       "      <th>5</th>\n",
       "      <th>6</th>\n",
       "      <th>7</th>\n",
       "      <th>8</th>\n",
       "      <th>9</th>\n",
       "    </tr>\n",
       "    <tr>\n",
       "      <th>Subject</th>\n",
       "      <th></th>\n",
       "      <th></th>\n",
       "      <th></th>\n",
       "      <th></th>\n",
       "      <th></th>\n",
       "      <th></th>\n",
       "      <th></th>\n",
       "      <th></th>\n",
       "      <th></th>\n",
       "      <th></th>\n",
       "    </tr>\n",
       "  </thead>\n",
       "  <tbody>\n",
       "    <tr>\n",
       "      <th>308</th>\n",
       "      <td>249.5600</td>\n",
       "      <td>258.7047</td>\n",
       "      <td>250.8006</td>\n",
       "      <td>321.4398</td>\n",
       "      <td>356.8519</td>\n",
       "      <td>414.6901</td>\n",
       "      <td>382.2038</td>\n",
       "      <td>290.1486</td>\n",
       "      <td>430.5853</td>\n",
       "      <td>466.3535</td>\n",
       "    </tr>\n",
       "    <tr>\n",
       "      <th>309</th>\n",
       "      <td>222.7339</td>\n",
       "      <td>205.2658</td>\n",
       "      <td>202.9778</td>\n",
       "      <td>204.7070</td>\n",
       "      <td>207.7161</td>\n",
       "      <td>215.9618</td>\n",
       "      <td>213.6303</td>\n",
       "      <td>217.7272</td>\n",
       "      <td>224.2957</td>\n",
       "      <td>237.3142</td>\n",
       "    </tr>\n",
       "    <tr>\n",
       "      <th>310</th>\n",
       "      <td>199.0539</td>\n",
       "      <td>194.3322</td>\n",
       "      <td>234.3200</td>\n",
       "      <td>232.8416</td>\n",
       "      <td>229.3074</td>\n",
       "      <td>220.4579</td>\n",
       "      <td>235.4208</td>\n",
       "      <td>255.7511</td>\n",
       "      <td>261.0125</td>\n",
       "      <td>247.5153</td>\n",
       "    </tr>\n",
       "    <tr>\n",
       "      <th>330</th>\n",
       "      <td>321.5426</td>\n",
       "      <td>300.4002</td>\n",
       "      <td>283.8565</td>\n",
       "      <td>285.1330</td>\n",
       "      <td>285.7973</td>\n",
       "      <td>297.5855</td>\n",
       "      <td>280.2396</td>\n",
       "      <td>318.2613</td>\n",
       "      <td>305.3495</td>\n",
       "      <td>354.0487</td>\n",
       "    </tr>\n",
       "    <tr>\n",
       "      <th>331</th>\n",
       "      <td>287.6079</td>\n",
       "      <td>285.0000</td>\n",
       "      <td>301.8206</td>\n",
       "      <td>320.1153</td>\n",
       "      <td>316.2773</td>\n",
       "      <td>293.3187</td>\n",
       "      <td>290.0750</td>\n",
       "      <td>334.8177</td>\n",
       "      <td>293.7469</td>\n",
       "      <td>371.5811</td>\n",
       "    </tr>\n",
       "    <tr>\n",
       "      <th>332</th>\n",
       "      <td>234.8606</td>\n",
       "      <td>242.8118</td>\n",
       "      <td>272.9613</td>\n",
       "      <td>309.7688</td>\n",
       "      <td>317.4629</td>\n",
       "      <td>309.9976</td>\n",
       "      <td>454.1619</td>\n",
       "      <td>346.8311</td>\n",
       "      <td>330.3003</td>\n",
       "      <td>253.8644</td>\n",
       "    </tr>\n",
       "    <tr>\n",
       "      <th>333</th>\n",
       "      <td>283.8424</td>\n",
       "      <td>289.5550</td>\n",
       "      <td>276.7693</td>\n",
       "      <td>299.8097</td>\n",
       "      <td>297.1710</td>\n",
       "      <td>338.1665</td>\n",
       "      <td>332.0265</td>\n",
       "      <td>348.8399</td>\n",
       "      <td>333.3600</td>\n",
       "      <td>362.0428</td>\n",
       "    </tr>\n",
       "    <tr>\n",
       "      <th>334</th>\n",
       "      <td>265.4731</td>\n",
       "      <td>276.2012</td>\n",
       "      <td>243.3647</td>\n",
       "      <td>254.6723</td>\n",
       "      <td>279.0244</td>\n",
       "      <td>284.1912</td>\n",
       "      <td>305.5248</td>\n",
       "      <td>331.5229</td>\n",
       "      <td>335.7469</td>\n",
       "      <td>377.2990</td>\n",
       "    </tr>\n",
       "    <tr>\n",
       "      <th>335</th>\n",
       "      <td>241.6083</td>\n",
       "      <td>273.9472</td>\n",
       "      <td>254.4907</td>\n",
       "      <td>270.8021</td>\n",
       "      <td>251.4519</td>\n",
       "      <td>254.6362</td>\n",
       "      <td>245.4523</td>\n",
       "      <td>235.3110</td>\n",
       "      <td>235.7541</td>\n",
       "      <td>237.2466</td>\n",
       "    </tr>\n",
       "    <tr>\n",
       "      <th>337</th>\n",
       "      <td>312.3666</td>\n",
       "      <td>313.8058</td>\n",
       "      <td>291.6112</td>\n",
       "      <td>346.1222</td>\n",
       "      <td>365.7324</td>\n",
       "      <td>391.8385</td>\n",
       "      <td>404.2601</td>\n",
       "      <td>416.6923</td>\n",
       "      <td>455.8643</td>\n",
       "      <td>458.9167</td>\n",
       "    </tr>\n",
       "    <tr>\n",
       "      <th>349</th>\n",
       "      <td>236.1032</td>\n",
       "      <td>230.3167</td>\n",
       "      <td>238.9256</td>\n",
       "      <td>254.9220</td>\n",
       "      <td>250.7103</td>\n",
       "      <td>269.7744</td>\n",
       "      <td>281.5648</td>\n",
       "      <td>308.1020</td>\n",
       "      <td>336.2806</td>\n",
       "      <td>351.6451</td>\n",
       "    </tr>\n",
       "    <tr>\n",
       "      <th>350</th>\n",
       "      <td>256.2968</td>\n",
       "      <td>243.4543</td>\n",
       "      <td>256.2046</td>\n",
       "      <td>255.5271</td>\n",
       "      <td>268.9165</td>\n",
       "      <td>329.7247</td>\n",
       "      <td>379.4445</td>\n",
       "      <td>362.9184</td>\n",
       "      <td>394.4872</td>\n",
       "      <td>389.0527</td>\n",
       "    </tr>\n",
       "    <tr>\n",
       "      <th>351</th>\n",
       "      <td>250.5265</td>\n",
       "      <td>300.0576</td>\n",
       "      <td>269.8939</td>\n",
       "      <td>280.5891</td>\n",
       "      <td>271.8274</td>\n",
       "      <td>304.6336</td>\n",
       "      <td>287.7466</td>\n",
       "      <td>266.5955</td>\n",
       "      <td>321.5418</td>\n",
       "      <td>347.5655</td>\n",
       "    </tr>\n",
       "    <tr>\n",
       "      <th>352</th>\n",
       "      <td>221.6771</td>\n",
       "      <td>298.1939</td>\n",
       "      <td>326.8785</td>\n",
       "      <td>346.8555</td>\n",
       "      <td>348.7402</td>\n",
       "      <td>352.8287</td>\n",
       "      <td>354.4266</td>\n",
       "      <td>360.4326</td>\n",
       "      <td>375.6406</td>\n",
       "      <td>388.5417</td>\n",
       "    </tr>\n",
       "    <tr>\n",
       "      <th>369</th>\n",
       "      <td>271.9235</td>\n",
       "      <td>268.4369</td>\n",
       "      <td>257.2424</td>\n",
       "      <td>277.6566</td>\n",
       "      <td>314.8222</td>\n",
       "      <td>317.2135</td>\n",
       "      <td>298.1353</td>\n",
       "      <td>348.1229</td>\n",
       "      <td>340.2800</td>\n",
       "      <td>366.5131</td>\n",
       "    </tr>\n",
       "    <tr>\n",
       "      <th>370</th>\n",
       "      <td>225.2640</td>\n",
       "      <td>234.5235</td>\n",
       "      <td>238.9008</td>\n",
       "      <td>240.4730</td>\n",
       "      <td>267.5373</td>\n",
       "      <td>344.1937</td>\n",
       "      <td>281.1481</td>\n",
       "      <td>347.5855</td>\n",
       "      <td>365.1630</td>\n",
       "      <td>372.2288</td>\n",
       "    </tr>\n",
       "    <tr>\n",
       "      <th>371</th>\n",
       "      <td>269.8804</td>\n",
       "      <td>272.4428</td>\n",
       "      <td>277.8989</td>\n",
       "      <td>281.7895</td>\n",
       "      <td>279.1705</td>\n",
       "      <td>284.5120</td>\n",
       "      <td>259.2658</td>\n",
       "      <td>304.6306</td>\n",
       "      <td>350.7807</td>\n",
       "      <td>369.4692</td>\n",
       "    </tr>\n",
       "    <tr>\n",
       "      <th>372</th>\n",
       "      <td>269.4117</td>\n",
       "      <td>273.4740</td>\n",
       "      <td>297.5968</td>\n",
       "      <td>310.6316</td>\n",
       "      <td>287.1726</td>\n",
       "      <td>329.6076</td>\n",
       "      <td>334.4818</td>\n",
       "      <td>343.2199</td>\n",
       "      <td>369.1417</td>\n",
       "      <td>364.1236</td>\n",
       "    </tr>\n",
       "  </tbody>\n",
       "</table>\n",
       "</div>"
      ],
      "text/plain": [
       "         Reaction                                                              \\\n",
       "Days            0         1         2         3         4         5         6   \n",
       "Subject                                                                         \n",
       "308      249.5600  258.7047  250.8006  321.4398  356.8519  414.6901  382.2038   \n",
       "309      222.7339  205.2658  202.9778  204.7070  207.7161  215.9618  213.6303   \n",
       "310      199.0539  194.3322  234.3200  232.8416  229.3074  220.4579  235.4208   \n",
       "330      321.5426  300.4002  283.8565  285.1330  285.7973  297.5855  280.2396   \n",
       "331      287.6079  285.0000  301.8206  320.1153  316.2773  293.3187  290.0750   \n",
       "332      234.8606  242.8118  272.9613  309.7688  317.4629  309.9976  454.1619   \n",
       "333      283.8424  289.5550  276.7693  299.8097  297.1710  338.1665  332.0265   \n",
       "334      265.4731  276.2012  243.3647  254.6723  279.0244  284.1912  305.5248   \n",
       "335      241.6083  273.9472  254.4907  270.8021  251.4519  254.6362  245.4523   \n",
       "337      312.3666  313.8058  291.6112  346.1222  365.7324  391.8385  404.2601   \n",
       "349      236.1032  230.3167  238.9256  254.9220  250.7103  269.7744  281.5648   \n",
       "350      256.2968  243.4543  256.2046  255.5271  268.9165  329.7247  379.4445   \n",
       "351      250.5265  300.0576  269.8939  280.5891  271.8274  304.6336  287.7466   \n",
       "352      221.6771  298.1939  326.8785  346.8555  348.7402  352.8287  354.4266   \n",
       "369      271.9235  268.4369  257.2424  277.6566  314.8222  317.2135  298.1353   \n",
       "370      225.2640  234.5235  238.9008  240.4730  267.5373  344.1937  281.1481   \n",
       "371      269.8804  272.4428  277.8989  281.7895  279.1705  284.5120  259.2658   \n",
       "372      269.4117  273.4740  297.5968  310.6316  287.1726  329.6076  334.4818   \n",
       "\n",
       "                                       \n",
       "Days            7         8         9  \n",
       "Subject                                \n",
       "308      290.1486  430.5853  466.3535  \n",
       "309      217.7272  224.2957  237.3142  \n",
       "310      255.7511  261.0125  247.5153  \n",
       "330      318.2613  305.3495  354.0487  \n",
       "331      334.8177  293.7469  371.5811  \n",
       "332      346.8311  330.3003  253.8644  \n",
       "333      348.8399  333.3600  362.0428  \n",
       "334      331.5229  335.7469  377.2990  \n",
       "335      235.3110  235.7541  237.2466  \n",
       "337      416.6923  455.8643  458.9167  \n",
       "349      308.1020  336.2806  351.6451  \n",
       "350      362.9184  394.4872  389.0527  \n",
       "351      266.5955  321.5418  347.5655  \n",
       "352      360.4326  375.6406  388.5417  \n",
       "369      348.1229  340.2800  366.5131  \n",
       "370      347.5855  365.1630  372.2288  \n",
       "371      304.6306  350.7807  369.4692  \n",
       "372      343.2199  369.1417  364.1236  "
      ]
     },
     "execution_count": 88,
     "metadata": {},
     "output_type": "execute_result"
    }
   ],
   "source": [
    "pt = pd.pivot_table(sleepdf, values=[\"Reaction\"], index=sleepdf[\"Subject\"], columns=sleepdf[\"Days\"])\n",
    "pt"
   ]
  },
  {
   "cell_type": "code",
   "execution_count": 94,
   "id": "e916dd4e",
   "metadata": {},
   "outputs": [
    {
     "data": {
      "text/plain": [
       "<bound method NDFrame._add_numeric_operations.<locals>.mean of           Days\n",
       "Reaction  0       256.651806\n",
       "          1       264.495756\n",
       "          2       265.361900\n",
       "          3       282.992011\n",
       "          4       288.649422\n",
       "          5       308.518456\n",
       "          6       312.178256\n",
       "          7       318.750583\n",
       "          8       336.629506\n",
       "          9       350.851222\n",
       "dtype: float64>"
      ]
     },
     "execution_count": 94,
     "metadata": {},
     "output_type": "execute_result"
    }
   ],
   "source": [
    "pt.mean"
   ]
  },
  {
   "cell_type": "code",
   "execution_count": 102,
   "id": "f96c98b4",
   "metadata": {},
   "outputs": [
    {
     "data": {
      "text/plain": [
       "(0.5352302262650253, 9.894096322214812e-15)"
      ]
     },
     "execution_count": 102,
     "metadata": {},
     "output_type": "execute_result"
    }
   ],
   "source": [
    "corr, p = stats.pearsonr(sleepdf.Days, sleepdf.Reaction)\n",
    "corr, p"
   ]
  },
  {
   "cell_type": "code",
   "execution_count": 123,
   "id": "6dc8ab89",
   "metadata": {},
   "outputs": [
    {
     "data": {
      "text/plain": [
       "True"
      ]
     },
     "execution_count": 123,
     "metadata": {},
     "output_type": "execute_result"
    }
   ],
   "source": [
    "alpha = .05\n",
    "p < alpha"
   ]
  },
  {
   "cell_type": "markdown",
   "id": "386cd319",
   "metadata": {},
   "source": [
    "We must reject the $H_{0}$ which states that there is no linear relationship between days and reaction time."
   ]
  },
  {
   "cell_type": "code",
   "execution_count": 127,
   "id": "ea08312c",
   "metadata": {},
   "outputs": [
    {
     "data": {
      "text/plain": [
       "<AxesSubplot:xlabel='Days', ylabel='Reaction'>"
      ]
     },
     "execution_count": 127,
     "metadata": {},
     "output_type": "execute_result"
    },
    {
     "data": {
      "image/png": "[encoded data removed]",
      "text/plain": [
       "<Figure size 432x288 with 1 Axes>"
      ]
     },
     "metadata": {
      "needs_background": "light"
     },
     "output_type": "display_data"
    }
   ],
   "source": [
    "sleepdf.plot.scatter('Days', 'Reaction')"
   ]
  },
  {
   "cell_type": "markdown",
   "id": "d89d49f3",
   "metadata": {},
   "source": [
    "## Chi Square"
   ]
  },
  {
   "cell_type": "markdown",
   "id": "12c8286d",
   "metadata": {},
   "source": [
    "### 1. Use the following contingency table to help answer the question of whether using a macbook and being a codeup student are independent of each other."
   ]
  },
  {
   "cell_type": "code",
   "execution_count": 166,
   "id": "1ba9c7f0",
   "metadata": {},
   "outputs": [
    {
     "data": {
      "text/html": [
       "<div>\n",
       "<style scoped>\n",
       "    .dataframe tbody tr th:only-of-type {\n",
       "        vertical-align: middle;\n",
       "    }\n",
       "\n",
       "    .dataframe tbody tr th {\n",
       "        vertical-align: top;\n",
       "    }\n",
       "\n",
       "    .dataframe thead th {\n",
       "        text-align: right;\n",
       "    }\n",
       "</style>\n",
       "<table border=\"1\" class=\"dataframe\">\n",
       "  <thead>\n",
       "    <tr style=\"text-align: right;\">\n",
       "      <th></th>\n",
       "      <th>Codeup Student</th>\n",
       "      <th>Not Codeup Student</th>\n",
       "    </tr>\n",
       "  </thead>\n",
       "  <tbody>\n",
       "    <tr>\n",
       "      <th>Uses Macbook</th>\n",
       "      <td>49</td>\n",
       "      <td>20</td>\n",
       "    </tr>\n",
       "    <tr>\n",
       "      <th>Doesn't Use A Macbook</th>\n",
       "      <td>1</td>\n",
       "      <td>30</td>\n",
       "    </tr>\n",
       "  </tbody>\n",
       "</table>\n",
       "</div>"
      ],
      "text/plain": [
       "                       Codeup Student  Not Codeup Student\n",
       "Uses Macbook                       49                  20\n",
       "Doesn't Use A Macbook               1                  30"
      ]
     },
     "execution_count": 166,
     "metadata": {},
     "output_type": "execute_result"
    }
   ],
   "source": [
    "# Intitialise data of lists\n",
    "exdata = [{'Codeup Student': 49, 'Not Codeup Student':20}, {'Codeup Student': 1, 'Not Codeup Student': 30}]\n",
    " \n",
    "# Creates pandas DataFrame by passing\n",
    "# Lists of dictionaries and row index.\n",
    "observed = pd.DataFrame(exdata, index =['Uses Macbook', \"Doesn't Use A Macbook\"])\n",
    " \n",
    "# Print the data\n",
    "observed"
   ]
  },
  {
   "cell_type": "markdown",
   "id": "4bedc9d1",
   "metadata": {},
   "source": [
    "#### Is using a macbook independent from being a codeup student?\n",
    "\n",
    "Form the null and alternate hypothesis\n",
    "\n",
    "- $H_0$: There is no association between using a macbook and being a codeup student (independence)\n",
    "- $H_a$: There is an association between sing a macbook and being a codeup student (dependence"
   ]
  },
  {
   "cell_type": "markdown",
   "id": "c62a2eb0",
   "metadata": {},
   "source": [
    "There are only 2 categories in the codeup student status categories: \"Yes\" and \"No."
   ]
  },
  {
   "cell_type": "code",
   "execution_count": 167,
   "id": "627c0e28",
   "metadata": {},
   "outputs": [],
   "source": [
    "# use stats.chi2_contingency test \n",
    "\n",
    "chi2, p, degf, expected = stats.chi2_contingency(observed)"
   ]
  },
  {
   "cell_type": "code",
   "execution_count": 170,
   "id": "9f6598de",
   "metadata": {},
   "outputs": [
    {
     "name": "stdout",
     "output_type": "stream",
     "text": [
      "Observed\n",
      "\n",
      "[[49 20]\n",
      " [ 1 30]]\n",
      "---\n",
      "Expected\n",
      "\n",
      "[[34 34]\n",
      " [15 15]]\n",
      "---\n",
      "\n",
      "chi^2 = 36.6526\n",
      "p     = 0.0000\n",
      "degrees of freedom =  1\n"
     ]
    }
   ],
   "source": [
    "print('Observed\\n')\n",
    "print(observed.values)\n",
    "print('---\\nExpected\\n')\n",
    "print(expected.astype(int))\n",
    "print('---\\n')\n",
    "print(f'chi^2 = {chi2:.4f}')\n",
    "print(f'p     = {p:.4f}')\n",
    "print(f'degrees of freedom = ', degf)"
   ]
  },
  {
   "cell_type": "markdown",
   "id": "c5d8f581",
   "metadata": {},
   "source": [
    "Decide using p-value:"
   ]
  },
  {
   "cell_type": "code",
   "execution_count": 171,
   "id": "1f2ac970",
   "metadata": {},
   "outputs": [
    {
     "name": "stdout",
     "output_type": "stream",
     "text": [
      "We reject the hypothesis that Use of a macbook and being a codeup student are independent\n"
     ]
    }
   ],
   "source": [
    "null_hypothesis = \"Use of a macbook and being a codeup student are independent\"\n",
    "\n",
    "if p < alpha:\n",
    "    print(\"We reject the hypothesis that\", null_hypothesis)\n",
    "else:\n",
    "    print(\"We fail to reject the null hypothesis\")\n",
    "\n"
   ]
  },
  {
   "cell_type": "code",
   "execution_count": null,
   "id": "22e1d1c3",
   "metadata": {},
   "outputs": [],
   "source": []
  }
 ],
 "metadata": {
  "kernelspec": {
   "display_name": "Python 3",
   "language": "python",
   "name": "python3"
  },
  "language_info": {
   "codemirror_mode": {
    "name": "ipython",
    "version": 3
   },
   "file_extension": ".py",
   "mimetype": "text/x-python",
   "name": "python",
   "nbconvert_exporter": "python",
   "pygments_lexer": "ipython3",
   "version": "3.8.8"
  }
 },
 "nbformat": 4,
 "nbformat_minor": 5
}
