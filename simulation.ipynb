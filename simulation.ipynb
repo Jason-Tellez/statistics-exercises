{
 "cells": [
  {
   "cell_type": "code",
   "execution_count": 131,
   "id": "1d262897",
   "metadata": {},
   "outputs": [],
   "source": [
    "import numpy as np\n",
    "import pandas as pd"
   ]
  },
  {
   "cell_type": "code",
   "execution_count": 132,
   "id": "8d70d511",
   "metadata": {},
   "outputs": [],
   "source": [
    "n_simulations = 10_000"
   ]
  },
  {
   "cell_type": "markdown",
   "id": "8af88116",
   "metadata": {},
   "source": [
    "## Exercises"
   ]
  },
  {
   "cell_type": "markdown",
   "id": "c81f8206",
   "metadata": {},
   "source": [
    "### 1. How likely is it that you roll doubles when rolling two dice?"
   ]
  },
  {
   "cell_type": "code",
   "execution_count": 133,
   "id": "9a50ab43",
   "metadata": {},
   "outputs": [],
   "source": [
    "outcomes = [1, 2, 3, 4, 5, 6]\n",
    "# pips on a die\n",
    "\n",
    "die1 = np.random.choice(outcomes, size=n_simulations)\n",
    "die2 = np.random.choice(outcomes, size=n_simulations)\n",
    "# creates the random dice rolls"
   ]
  },
  {
   "cell_type": "code",
   "execution_count": 134,
   "id": "4847b363",
   "metadata": {},
   "outputs": [
    {
     "data": {
      "text/plain": [
       "0.1645"
      ]
     },
     "execution_count": 134,
     "metadata": {},
     "output_type": "execute_result"
    }
   ],
   "source": [
    "(die1 == die2).mean()"
   ]
  },
  {
   "cell_type": "markdown",
   "id": "0a8435c7",
   "metadata": {},
   "source": [
    "### 2. If you flip 8 coins, what is the probability of getting exactly 3 heads? What is the probability of getting more than 3 heads?"
   ]
  },
  {
   "cell_type": "code",
   "execution_count": 135,
   "id": "c96f8bc2",
   "metadata": {},
   "outputs": [
    {
     "data": {
      "text/plain": [
       "0.2246"
      ]
     },
     "execution_count": 135,
     "metadata": {},
     "output_type": "execute_result"
    }
   ],
   "source": [
    "outcomes = ['H', 'T']\n",
    "# create outcomes for coin\n",
    "\n",
    "n_trials = 8\n",
    "# number of coins flipped\n",
    "\n",
    "flips = np.random.choice(outcomes, size=(n_simulations, n_trials))\n",
    "(np.count_nonzero(flips == 'H', axis=1) == 3).mean()\n",
    "# ((counts number of Heads in each row) returns boolean if count = 3)"
   ]
  },
  {
   "cell_type": "code",
   "execution_count": 136,
   "id": "4f862f0f",
   "metadata": {},
   "outputs": [
    {
     "data": {
      "text/plain": [
       "0.6349"
      ]
     },
     "execution_count": 136,
     "metadata": {},
     "output_type": "execute_result"
    }
   ],
   "source": [
    "(np.count_nonzero(flips == 'H', axis=1) > 3).mean()"
   ]
  },
  {
   "cell_type": "markdown",
   "id": "2d57360c",
   "metadata": {},
   "source": [
    "### 3. There are approximitely 3 web development cohorts for every 1 data science cohort at Codeup. Assuming that Codeup randomly selects an alumni to put on a billboard, what are the odds that the two billboards I drive past both have data science students on them?"
   ]
  },
  {
   "cell_type": "code",
   "execution_count": 137,
   "id": "63d881f8",
   "metadata": {},
   "outputs": [
    {
     "data": {
      "text/plain": [
       "0.0646"
      ]
     },
     "execution_count": 137,
     "metadata": {},
     "output_type": "execute_result"
    }
   ],
   "source": [
    "outcomes = ['data', 'web']\n",
    "\n",
    "n_trials = 2\n",
    "\n",
    "drives = np.random.choice(outcomes, size=(n_simulations, n_trials), p=[.25, .75])\n",
    "(np.count_nonzero(drives == 'data', axis=1) == 2).mean()"
   ]
  },
  {
   "cell_type": "code",
   "execution_count": 138,
   "id": "76bea9a8",
   "metadata": {},
   "outputs": [
    {
     "data": {
      "text/plain": [
       "0.3781"
      ]
     },
     "execution_count": 138,
     "metadata": {},
     "output_type": "execute_result"
    }
   ],
   "source": [
    "(np.count_nonzero(drives == 'data', axis=1) == 1).mean()"
   ]
  },
  {
   "cell_type": "code",
   "execution_count": 139,
   "id": "1c103188",
   "metadata": {},
   "outputs": [
    {
     "data": {
      "text/plain": [
       "0.5573"
      ]
     },
     "execution_count": 139,
     "metadata": {},
     "output_type": "execute_result"
    }
   ],
   "source": [
    "(np.count_nonzero(drives == 'data', axis=1) == 0).mean()"
   ]
  },
  {
   "cell_type": "markdown",
   "id": "b87c106a",
   "metadata": {},
   "source": [
    "### 4. Codeup students buy, on average, 3 poptart packages (+- 1.5) a day from the snack vending machine. If on monday the machine is restocked with 17 poptart packages, how likely is it that I will be able to buy some poptarts on Friday afternoon?"
   ]
  },
  {
   "cell_type": "code",
   "execution_count": 140,
   "id": "9bf875e2",
   "metadata": {},
   "outputs": [],
   "source": [
    "mu = 3\n",
    "# average of 3 poptarts a day\n",
    "\n",
    "std_dev = 1.5\n",
    "n_trials=5\n",
    "#days\n",
    "\n",
    "purchased_poptarts = np.random.normal(mu, std_dev, size=(n_simulations, n_trials))\n",
    "# used random.normal since mean and stddev was already provided"
   ]
  },
  {
   "cell_type": "code",
   "execution_count": 141,
   "id": "8ddc85f9",
   "metadata": {},
   "outputs": [
    {
     "data": {
      "text/plain": [
       "array([[ 1.68238631,  2.51060431,  1.29247666,  2.93194341,  1.50463337],\n",
       "       [ 4.92199871,  3.70848729,  3.51226856,  1.62091982,  1.95525424],\n",
       "       [ 1.41473847,  2.38414656,  3.58918892,  2.32411898,  2.16931701],\n",
       "       ...,\n",
       "       [ 6.83228341,  1.8375342 ,  4.21893398,  0.57028882,  3.54475343],\n",
       "       [ 4.00609647,  1.23617097,  4.21810306,  5.12256064, -1.07329257],\n",
       "       [ 0.46077713,  4.66170069,  3.7894535 ,  1.69110194,  3.89959626]])"
      ]
     },
     "execution_count": 141,
     "metadata": {},
     "output_type": "execute_result"
    }
   ],
   "source": [
    "purchased_poptarts"
   ]
  },
  {
   "cell_type": "code",
   "execution_count": 142,
   "id": "4fcc67e7",
   "metadata": {},
   "outputs": [],
   "source": [
    "weekly_poptarts = purchased_poptarts.sum(axis=1)\n",
    "# summed the total number of poptarts purchased within the simulated weeks"
   ]
  },
  {
   "cell_type": "code",
   "execution_count": 143,
   "id": "bed17685",
   "metadata": {},
   "outputs": [
    {
     "data": {
      "text/plain": [
       "0.6135"
      ]
     },
     "execution_count": 143,
     "metadata": {},
     "output_type": "execute_result"
    }
   ],
   "source": [
    "(weekly_poptarts <= 16).mean()\n",
    "# (returns True for simulated weeks where 16 or less poptarts were purchased)"
   ]
  },
  {
   "cell_type": "markdown",
   "id": "180e29da",
   "metadata": {},
   "source": [
    "### 5. Compare Heights:"
   ]
  },
  {
   "cell_type": "markdown",
   "id": "f6110a03",
   "metadata": {},
   "source": [
    "Men have an average height of 178 cm and standard deviation of 8cm."
   ]
  },
  {
   "cell_type": "code",
   "execution_count": 144,
   "id": "eec4aec8",
   "metadata": {},
   "outputs": [],
   "source": [
    "men_mu = 178\n",
    "men_stddev = 8\n",
    "# cm"
   ]
  },
  {
   "cell_type": "markdown",
   "id": "2d96aba6",
   "metadata": {},
   "source": [
    "Women have a mean of 170, sd = 6cm."
   ]
  },
  {
   "cell_type": "code",
   "execution_count": 145,
   "id": "36501078",
   "metadata": {},
   "outputs": [],
   "source": [
    "women_mu = 170\n",
    "women_stddev = 6\n",
    "# cm"
   ]
  },
  {
   "cell_type": "code",
   "execution_count": 146,
   "id": "92f1a545",
   "metadata": {},
   "outputs": [],
   "source": [
    "random_man = np.random.normal(men_mu, men_stddev, n_simulations)"
   ]
  },
  {
   "cell_type": "code",
   "execution_count": 147,
   "id": "486819f5",
   "metadata": {},
   "outputs": [],
   "source": [
    "random_woman = np.random.normal(women_mu, women_stddev, n_simulations)"
   ]
  },
  {
   "cell_type": "markdown",
   "id": "0d09d363",
   "metadata": {},
   "source": [
    "If a man and woman are chosen at random, P(woman taller than man)?"
   ]
  },
  {
   "cell_type": "code",
   "execution_count": 148,
   "id": "f0135361",
   "metadata": {},
   "outputs": [
    {
     "data": {
      "text/plain": [
       "array([ True, False, False, ..., False, False,  True])"
      ]
     },
     "execution_count": 148,
     "metadata": {},
     "output_type": "execute_result"
    }
   ],
   "source": [
    "random_man < random_woman"
   ]
  },
  {
   "cell_type": "code",
   "execution_count": 149,
   "id": "8cdaaba2",
   "metadata": {},
   "outputs": [
    {
     "data": {
      "text/plain": [
       "0.2136"
      ]
     },
     "execution_count": 149,
     "metadata": {},
     "output_type": "execute_result"
    }
   ],
   "source": [
    "(random_man < random_woman).mean()"
   ]
  },
  {
   "cell_type": "markdown",
   "id": "b912f4d7",
   "metadata": {},
   "source": [
    "### 6. When installing anaconda on a student's computer, there's a 1 in 250 chance that the download is corrupted and the installation fails. What are the odds that after having 50 students download anaconda, no one has an installation issue? 100 students?"
   ]
  },
  {
   "cell_type": "code",
   "execution_count": 150,
   "id": "b30d8bd3",
   "metadata": {},
   "outputs": [],
   "source": [
    "prob = 1/250"
   ]
  },
  {
   "cell_type": "code",
   "execution_count": 151,
   "id": "88c29c40",
   "metadata": {},
   "outputs": [
    {
     "data": {
      "text/plain": [
       "1.0"
      ]
     },
     "execution_count": 151,
     "metadata": {},
     "output_type": "execute_result"
    }
   ],
   "source": [
    "outcomes = ['Pass', 'Fail']\n",
    "(np.random.choice(outcomes, size=50, p=[249/250, 1/250]) == 'Pass').mean()\n",
    "# For 50 students, ther probability of a all successful downloads is almost 100%"
   ]
  },
  {
   "cell_type": "code",
   "execution_count": 152,
   "id": "14639162",
   "metadata": {},
   "outputs": [
    {
     "data": {
      "text/plain": [
       "1.0"
      ]
     },
     "execution_count": 152,
     "metadata": {},
     "output_type": "execute_result"
    }
   ],
   "source": [
    "(np.random.choice(outcomes, size=100, p=[249/250, 1/250]) == 'Pass').mean()"
   ]
  },
  {
   "cell_type": "markdown",
   "id": "3d6b347f",
   "metadata": {},
   "source": [
    "What is the probability that we observe an installation issue within the first 150 students that download anaconda?"
   ]
  },
  {
   "cell_type": "code",
   "execution_count": 153,
   "id": "05521d98",
   "metadata": {},
   "outputs": [
    {
     "data": {
      "text/plain": [
       "0.006666666666666667"
      ]
     },
     "execution_count": 153,
     "metadata": {},
     "output_type": "execute_result"
    }
   ],
   "source": [
    "(np.random.choice(outcomes, size=150, p=[249/250, 1/250]) == 'Fail').mean()"
   ]
  },
  {
   "cell_type": "markdown",
   "id": "e3bc01ae",
   "metadata": {},
   "source": [
    "How likely is it that 450 students all download anaconda without an issue?"
   ]
  },
  {
   "cell_type": "code",
   "execution_count": 154,
   "id": "13be9bde",
   "metadata": {},
   "outputs": [
    {
     "data": {
      "text/plain": [
       "0.9933333333333333"
      ]
     },
     "execution_count": 154,
     "metadata": {},
     "output_type": "execute_result"
    }
   ],
   "source": [
    "(np.random.choice(outcomes, size=450, p=[249/250, 1/250]) == 'Pass').mean()"
   ]
  },
  {
   "cell_type": "markdown",
   "id": "dd7b0783",
   "metadata": {},
   "source": [
    "### 7. There's a 70% chance on any given day that there will be at least one food truck at Travis Park. However, you haven't seen a food truck there in 3 days. How unlikely is this?"
   ]
  },
  {
   "cell_type": "code",
   "execution_count": 155,
   "id": "fae5fefe",
   "metadata": {},
   "outputs": [],
   "source": [
    "outcomes = ['foodtruck', 'nothing']"
   ]
  },
  {
   "cell_type": "code",
   "execution_count": 156,
   "id": "916e389c",
   "metadata": {},
   "outputs": [
    {
     "data": {
      "text/plain": [
       "array([['foodtruck', 'foodtruck', 'nothing'],\n",
       "       ['foodtruck', 'nothing', 'nothing'],\n",
       "       ['foodtruck', 'foodtruck', 'foodtruck'],\n",
       "       ...,\n",
       "       ['foodtruck', 'foodtruck', 'nothing'],\n",
       "       ['foodtruck', 'foodtruck', 'foodtruck'],\n",
       "       ['foodtruck', 'foodtruck', 'foodtruck']], dtype='<U9')"
      ]
     },
     "execution_count": 156,
     "metadata": {},
     "output_type": "execute_result"
    }
   ],
   "source": [
    "np.random.choice(outcomes, size=(10_000, 3), p=[.7, 0.3])"
   ]
  },
  {
   "cell_type": "code",
   "execution_count": 160,
   "id": "f26f8d66",
   "metadata": {},
   "outputs": [],
   "source": [
    "sightings = (np.random.choice(outcomes, size=(10_000, 3), p=[.7, 0.3]))"
   ]
  },
  {
   "cell_type": "code",
   "execution_count": 161,
   "id": "370b56f7",
   "metadata": {},
   "outputs": [
    {
     "data": {
      "text/plain": [
       "0.0297"
      ]
     },
     "execution_count": 161,
     "metadata": {},
     "output_type": "execute_result"
    }
   ],
   "source": [
    "(np.count_nonzero(sightings == 'nothing', axis=1) == 3).mean()"
   ]
  },
  {
   "cell_type": "markdown",
   "id": "758cc362",
   "metadata": {},
   "source": [
    "#### How likely is it that a food truck will show up sometime this week?"
   ]
  },
  {
   "cell_type": "markdown",
   "id": "5b8a7e3f",
   "metadata": {},
   "source": [
    "Assuming the week starts on Sunday and the remaining days are Wednesday through Saturday:"
   ]
  },
  {
   "cell_type": "code",
   "execution_count": 169,
   "id": "264bda00",
   "metadata": {},
   "outputs": [],
   "source": [
    "remaining_sightings = (np.random.choice(outcomes, size=(10_000, 4), p=[.7, 0.3]))\n",
    "#change shape to 10000x4 to resemble remaining days of the week "
   ]
  },
  {
   "cell_type": "code",
   "execution_count": 170,
   "id": "c50c12de",
   "metadata": {},
   "outputs": [
    {
     "data": {
      "text/plain": [
       "array([['foodtruck', 'nothing', 'foodtruck', 'foodtruck'],\n",
       "       ['foodtruck', 'foodtruck', 'foodtruck', 'foodtruck'],\n",
       "       ['foodtruck', 'foodtruck', 'foodtruck', 'foodtruck'],\n",
       "       ...,\n",
       "       ['foodtruck', 'foodtruck', 'foodtruck', 'foodtruck'],\n",
       "       ['foodtruck', 'nothing', 'foodtruck', 'foodtruck'],\n",
       "       ['nothing', 'nothing', 'foodtruck', 'foodtruck']], dtype='<U9')"
      ]
     },
     "execution_count": 170,
     "metadata": {},
     "output_type": "execute_result"
    }
   ],
   "source": [
    "remaining_sightings"
   ]
  },
  {
   "cell_type": "code",
   "execution_count": 171,
   "id": "d25c1773",
   "metadata": {},
   "outputs": [
    {
     "data": {
      "text/plain": [
       "0.9905"
      ]
     },
     "execution_count": 171,
     "metadata": {},
     "output_type": "execute_result"
    }
   ],
   "source": [
    "(np.count_nonzero(remaining_sightings == 'foodtruck', axis=1) >= 1).mean()\n",
    "# (returns True if foodtruck appears at least once in the week/row)"
   ]
  },
  {
   "cell_type": "markdown",
   "id": "1fd42504",
   "metadata": {},
   "source": [
    "### 8. If 23 people are in the same room, what are the odds that two of them share a birthday? What if it's 20 people? 40?"
   ]
  },
  {
   "cell_type": "code",
   "execution_count": 204,
   "id": "356c9bb1",
   "metadata": {},
   "outputs": [],
   "source": [
    "outcomes = range(1, 357)"
   ]
  },
  {
   "cell_type": "code",
   "execution_count": 323,
   "id": "8417ffb3",
   "metadata": {},
   "outputs": [],
   "source": [
    "bday_array = np.random.choice(outcomes, size=(6, 23))"
   ]
  },
  {
   "cell_type": "code",
   "execution_count": 324,
   "id": "ebafae80",
   "metadata": {},
   "outputs": [
    {
     "data": {
      "text/plain": [
       "array([[340, 198, 307, 168, 214, 314, 209, 270, 342, 257, 114,  74,  56,\n",
       "         29, 287, 132, 162, 276, 179, 265, 279, 184, 252],\n",
       "       [232,  68, 147, 130, 197, 270, 256, 182,  79, 127,  55, 271, 333,\n",
       "        104,  22, 239,  68, 179,   9, 278,  69, 205, 281],\n",
       "       [292, 188, 251, 293, 135, 124,  10, 159, 211, 240, 228,   3, 105,\n",
       "        298, 156, 312, 264,  11,  79,  47, 134, 155, 174],\n",
       "       [287, 245, 152,  83,  59, 227,  30, 152, 255,  21, 148, 150, 174,\n",
       "         97, 263, 138,  15, 111, 245,  79, 256, 281, 131],\n",
       "       [161, 353,  60, 121, 156, 314, 215, 156, 335, 232,  15, 269,   3,\n",
       "        154,  83,   6, 136, 295,  23, 114,   2, 292, 114],\n",
       "       [114, 184, 125, 114, 306, 140, 256, 250, 331, 347,  88,   8, 235,\n",
       "        298, 331,  46, 286, 281,   7,  46,  48, 221, 159]])"
      ]
     },
     "execution_count": 324,
     "metadata": {},
     "output_type": "execute_result"
    }
   ],
   "source": [
    "bday_array"
   ]
  },
  {
   "cell_type": "code",
   "execution_count": 327,
   "id": "5e10c9e8",
   "metadata": {},
   "outputs": [],
   "source": [
    "x = np.sort(bday_array, axis=1)"
   ]
  },
  {
   "cell_type": "code",
   "execution_count": 337,
   "id": "f20ca9c5",
   "metadata": {},
   "outputs": [
    {
     "ename": "AttributeError",
     "evalue": "'numpy.ndarray' object has no attribute 'apply'",
     "output_type": "error",
     "traceback": [
      "\u001b[0;31m---------------------------------------------------------------------------\u001b[0m",
      "\u001b[0;31mAttributeError\u001b[0m                            Traceback (most recent call last)",
      "\u001b[0;32m<ipython-input-337-4cb9fd48a81b>\u001b[0m in \u001b[0;36m<module>\u001b[0;34m\u001b[0m\n\u001b[0;32m----> 1\u001b[0;31m \u001b[0mbday_array\u001b[0m\u001b[0;34m.\u001b[0m\u001b[0mapply\u001b[0m\u001b[0;34m(\u001b[0m\u001b[0;32mlambda\u001b[0m \u001b[0mrow\u001b[0m\u001b[0;34m:\u001b[0m \u001b[0mrow\u001b[0m\u001b[0;34m.\u001b[0m\u001b[0munique\u001b[0m\u001b[0;34m,\u001b[0m \u001b[0maxis\u001b[0m\u001b[0;34m=\u001b[0m\u001b[0;36m1\u001b[0m\u001b[0;34m)\u001b[0m\u001b[0;34m\u001b[0m\u001b[0;34m\u001b[0m\u001b[0m\n\u001b[0m",
      "\u001b[0;31mAttributeError\u001b[0m: 'numpy.ndarray' object has no attribute 'apply'"
     ]
    }
   ],
   "source": [
    "bday_array.apply(lambda row: row.unique, axis=1)"
   ]
  },
  {
   "cell_type": "code",
   "execution_count": 331,
   "id": "f3bfe682",
   "metadata": {},
   "outputs": [
    {
     "ename": "AttributeError",
     "evalue": "'numpy.ndarray' object has no attribute 'apply'",
     "output_type": "error",
     "traceback": [
      "\u001b[0;31m---------------------------------------------------------------------------\u001b[0m",
      "\u001b[0;31mAttributeError\u001b[0m                            Traceback (most recent call last)",
      "\u001b[0;32m<ipython-input-331-60e3fd1c6d3d>\u001b[0m in \u001b[0;36m<module>\u001b[0;34m\u001b[0m\n\u001b[0;32m----> 1\u001b[0;31m \u001b[0my\u001b[0m \u001b[0;34m=\u001b[0m \u001b[0mx\u001b[0m\u001b[0;34m.\u001b[0m\u001b[0mapply\u001b[0m\u001b[0;34m(\u001b[0m\u001b[0;32mlambda\u001b[0m \u001b[0mrow\u001b[0m\u001b[0;34m:\u001b[0m \u001b[0mnp\u001b[0m\u001b[0;34m.\u001b[0m\u001b[0munique\u001b[0m\u001b[0;34m(\u001b[0m\u001b[0mrow\u001b[0m\u001b[0;34m)\u001b[0m\u001b[0;34m)\u001b[0m\u001b[0;34m\u001b[0m\u001b[0;34m\u001b[0m\u001b[0m\n\u001b[0m",
      "\u001b[0;31mAttributeError\u001b[0m: 'numpy.ndarray' object has no attribute 'apply'"
     ]
    }
   ],
   "source": [
    "y = x.apply(lambda row: np.unique(row))"
   ]
  },
  {
   "cell_type": "code",
   "execution_count": null,
   "id": "2dc43235",
   "metadata": {},
   "outputs": [],
   "source": []
  }
 ],
 "metadata": {
  "kernelspec": {
   "display_name": "Python 3",
   "language": "python",
   "name": "python3"
  },
  "language_info": {
   "codemirror_mode": {
    "name": "ipython",
    "version": 3
   },
   "file_extension": ".py",
   "mimetype": "text/x-python",
   "name": "python",
   "nbconvert_exporter": "python",
   "pygments_lexer": "ipython3",
   "version": "3.8.8"
  }
 },
 "nbformat": 4,
 "nbformat_minor": 5
}
