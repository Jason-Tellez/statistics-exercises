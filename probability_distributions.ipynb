{
 "cells": [
  {
   "cell_type": "code",
   "execution_count": 146,
   "id": "0c3ad516",
   "metadata": {},
   "outputs": [],
   "source": [
    "import matplotlib.pyplot as plt\n",
    "import pandas as pd\n",
    "import numpy as np\n",
    "from scipy import stats\n",
    "import seaborn as sns"
   ]
  },
  {
   "cell_type": "code",
   "execution_count": 147,
   "id": "7039aa1a",
   "metadata": {},
   "outputs": [],
   "source": [
    "n_trials = 100_000"
   ]
  },
  {
   "cell_type": "markdown",
   "id": "d2e775d2",
   "metadata": {},
   "source": [
    "## Exercises"
   ]
  },
  {
   "cell_type": "markdown",
   "id": "3c0b880b",
   "metadata": {},
   "source": [
    "### For the following problems, use python to simulate the problem and calculate an experimental probability, then compare that to the theoretical probability."
   ]
  },
  {
   "cell_type": "markdown",
   "id": "c9e11d09",
   "metadata": {},
   "source": [
    "### 1. A bank found that the average number of cars waiting during the noon hour at a drive-up window follows a Poisson distribution with a mean of 2 cars. Make a chart of this distribution and answer these questions concerning the probability of cars waiting at the drive-up window.\n",
    "#### a. What is the probability that no cars drive up in the noon hour?"
   ]
  },
  {
   "cell_type": "code",
   "execution_count": 148,
   "id": "a0de3eeb",
   "metadata": {},
   "outputs": [
    {
     "ename": "TypeError",
     "evalue": "'str' object is not callable",
     "output_type": "error",
     "traceback": [
      "\u001b[0;31m---------------------------------------------------------------------------\u001b[0m",
      "\u001b[0;31mTypeError\u001b[0m                                 Traceback (most recent call last)",
      "\u001b[0;32m<ipython-input-148-3a28dba01c21>\u001b[0m in \u001b[0;36m<module>\u001b[0;34m\u001b[0m\n\u001b[1;32m      4\u001b[0m \u001b[0mplt\u001b[0m\u001b[0;34m.\u001b[0m\u001b[0mbar\u001b[0m\u001b[0;34m(\u001b[0m\u001b[0mx\u001b[0m\u001b[0;34m,\u001b[0m \u001b[0my\u001b[0m\u001b[0;34m,\u001b[0m \u001b[0medgecolor\u001b[0m\u001b[0;34m=\u001b[0m\u001b[0;34m'black'\u001b[0m\u001b[0;34m)\u001b[0m\u001b[0;34m\u001b[0m\u001b[0;34m\u001b[0m\u001b[0m\n\u001b[1;32m      5\u001b[0m \u001b[0mplt\u001b[0m\u001b[0;34m.\u001b[0m\u001b[0mxticks\u001b[0m\u001b[0;34m(\u001b[0m\u001b[0mx\u001b[0m\u001b[0;34m)\u001b[0m\u001b[0;34m\u001b[0m\u001b[0;34m\u001b[0m\u001b[0m\n\u001b[0;32m----> 6\u001b[0;31m \u001b[0mplt\u001b[0m\u001b[0;34m.\u001b[0m\u001b[0mylabel\u001b[0m\u001b[0;34m(\u001b[0m\u001b[0;34m'P(X = x)'\u001b[0m\u001b[0;34m)\u001b[0m\u001b[0;34m\u001b[0m\u001b[0;34m\u001b[0m\u001b[0m\n\u001b[0m\u001b[1;32m      7\u001b[0m \u001b[0mplt\u001b[0m\u001b[0;34m.\u001b[0m\u001b[0mxlabel\u001b[0m\u001b[0;34m(\u001b[0m\u001b[0;34m'Cars Waiting'\u001b[0m\u001b[0;34m)\u001b[0m\u001b[0;34m\u001b[0m\u001b[0;34m\u001b[0m\u001b[0m\n",
      "\u001b[0;31mTypeError\u001b[0m: 'str' object is not callable"
     ]
    },
    {
     "data": {
      "image/png": "[encoded data removed]",
      "text/plain": [
       "<Figure size 648x432 with 1 Axes>"
      ]
     },
     "metadata": {
      "needs_background": "light"
     },
     "output_type": "display_data"
    }
   ],
   "source": [
    "x = range(11)\n",
    "y = stats.poisson(2).pmf(x)\n",
    "plt.figure(figsize=(9, 6))\n",
    "plt.bar(x, y, edgecolor='black')\n",
    "plt.xticks(x)\n",
    "plt.ylabel('P(X = x)')\n",
    "plt.xlabel('Cars Waiting')"
   ]
  },
  {
   "cell_type": "code",
   "execution_count": 8,
   "id": "1e111ac8",
   "metadata": {},
   "outputs": [
    {
     "data": {
      "text/plain": [
       "0.1353352832366127"
      ]
     },
     "execution_count": 8,
     "metadata": {},
     "output_type": "execute_result"
    }
   ],
   "source": [
    "stats.poisson(2).cdf(0)"
   ]
  },
  {
   "cell_type": "markdown",
   "id": "cf5a1ab4",
   "metadata": {},
   "source": [
    "#### Simulation"
   ]
  },
  {
   "cell_type": "code",
   "execution_count": 9,
   "id": "94cd82fa",
   "metadata": {},
   "outputs": [
    {
     "data": {
      "text/plain": [
       "0.13449"
      ]
     },
     "execution_count": 9,
     "metadata": {},
     "output_type": "execute_result"
    }
   ],
   "source": [
    "no_of_cars = np.random.poisson(2, n_trials).reshape(n_trials, 1)\n",
    "(np.count_nonzero(no_of_cars == 0, axis=1) == 1).mean()"
   ]
  },
  {
   "cell_type": "markdown",
   "id": "f25f203f",
   "metadata": {},
   "source": [
    "####  b. What is the probability that 3 or more cars come through the drive through?"
   ]
  },
  {
   "cell_type": "code",
   "execution_count": 10,
   "id": "20aa100f",
   "metadata": {},
   "outputs": [
    {
     "data": {
      "text/plain": [
       "0.32332358381693654"
      ]
     },
     "execution_count": 10,
     "metadata": {},
     "output_type": "execute_result"
    }
   ],
   "source": [
    "stats.poisson(2).sf(2)"
   ]
  },
  {
   "cell_type": "markdown",
   "id": "52ea29ff",
   "metadata": {},
   "source": [
    "#### Simulation"
   ]
  },
  {
   "cell_type": "code",
   "execution_count": 11,
   "id": "c1cfc4a3",
   "metadata": {},
   "outputs": [
    {
     "data": {
      "text/plain": [
       "0.32532"
      ]
     },
     "execution_count": 11,
     "metadata": {},
     "output_type": "execute_result"
    }
   ],
   "source": [
    "more_than_3 = np.random.poisson(2, n_trials).reshape(n_trials, 1)\n",
    "(np.count_nonzero(more_than_3 >= 3, axis=1) == 1).mean()"
   ]
  },
  {
   "cell_type": "markdown",
   "id": "33f6ad5b",
   "metadata": {},
   "source": [
    "#### c. How likely is it that the drive through gets at least 1 car?"
   ]
  },
  {
   "cell_type": "code",
   "execution_count": 12,
   "id": "78052f76",
   "metadata": {
    "scrolled": true
   },
   "outputs": [
    {
     "data": {
      "text/plain": [
       "0.8646647167633873"
      ]
     },
     "execution_count": 12,
     "metadata": {},
     "output_type": "execute_result"
    }
   ],
   "source": [
    "stats.poisson(2).sf(0)"
   ]
  },
  {
   "cell_type": "markdown",
   "id": "b8b5de5e",
   "metadata": {},
   "source": [
    "#### Simulation"
   ]
  },
  {
   "cell_type": "code",
   "execution_count": 13,
   "id": "98333918",
   "metadata": {},
   "outputs": [
    {
     "data": {
      "text/plain": [
       "0.86491"
      ]
     },
     "execution_count": 13,
     "metadata": {},
     "output_type": "execute_result"
    }
   ],
   "source": [
    "at_least_1 = np.random.poisson(2, n_trials).reshape(n_trials, 1)\n",
    "(np.count_nonzero(at_least_1 >= 1, axis=1) == 1).mean()"
   ]
  },
  {
   "cell_type": "markdown",
   "id": "50bca6b2",
   "metadata": {},
   "source": [
    "### 2. Grades of State University graduates are normally distributed with a mean of 3.0 and a standard deviation of .3. Calculate the following:"
   ]
  },
  {
   "cell_type": "code",
   "execution_count": 14,
   "id": "8387aaca",
   "metadata": {},
   "outputs": [],
   "source": [
    "mu = 3\n",
    "sigma = 0.3\n",
    "grades = stats.norm(mu, sigma)"
   ]
  },
  {
   "cell_type": "code",
   "execution_count": 15,
   "id": "32a19a62",
   "metadata": {},
   "outputs": [
    {
     "data": {
      "text/plain": [
       "[<matplotlib.lines.Line2D at 0x7fa579dd3e80>]"
      ]
     },
     "execution_count": 15,
     "metadata": {},
     "output_type": "execute_result"
    },
    {
     "data": {
      "image/png": "[encoded data removed]",
      "text/plain": [
       "<Figure size 648x432 with 1 Axes>"
      ]
     },
     "metadata": {
      "needs_background": "light"
     },
     "output_type": "display_data"
    }
   ],
   "source": [
    "x = np.arange(0, 4.5, 0.25)\n",
    "plt.figure(figsize=(9, 6))\n",
    "plt.xticks(x)\n",
    "plt.tight_layout()\n",
    "plt.plot(x, grades.pdf(x))"
   ]
  },
  {
   "cell_type": "markdown",
   "id": "af716e32",
   "metadata": {},
   "source": [
    "#### What grade point average is required to be in the top 5% of the graduating class?"
   ]
  },
  {
   "cell_type": "code",
   "execution_count": 16,
   "id": "f1ddf3df",
   "metadata": {},
   "outputs": [
    {
     "data": {
      "text/plain": [
       "3.4934560880854417"
      ]
     },
     "execution_count": 16,
     "metadata": {},
     "output_type": "execute_result"
    }
   ],
   "source": [
    "grades.ppf(.95)"
   ]
  },
  {
   "cell_type": "markdown",
   "id": "4b0e3a6a",
   "metadata": {},
   "source": [
    "#### Simulation"
   ]
  },
  {
   "cell_type": "code",
   "execution_count": 17,
   "id": "03c6bc34",
   "metadata": {},
   "outputs": [
    {
     "data": {
      "text/plain": [
       "3.4951833448337473"
      ]
     },
     "execution_count": 17,
     "metadata": {},
     "output_type": "execute_result"
    }
   ],
   "source": [
    "top_5_gpa = np.random.normal(mu, sigma, n_trials)\n",
    "np.percentile(top_5_gpa, 95)"
   ]
  },
  {
   "cell_type": "markdown",
   "id": "3553bbf4",
   "metadata": {},
   "source": [
    "#### What GPA constitutes the bottom 15% of the class?"
   ]
  },
  {
   "cell_type": "code",
   "execution_count": 18,
   "id": "4ab4e734",
   "metadata": {},
   "outputs": [
    {
     "data": {
      "text/plain": [
       "2.689069983151863"
      ]
     },
     "execution_count": 18,
     "metadata": {},
     "output_type": "execute_result"
    }
   ],
   "source": [
    "grades.ppf(.15)"
   ]
  },
  {
   "cell_type": "markdown",
   "id": "95c17bdf",
   "metadata": {},
   "source": [
    "#### Simulation"
   ]
  },
  {
   "cell_type": "code",
   "execution_count": 19,
   "id": "94f6176a",
   "metadata": {},
   "outputs": [
    {
     "data": {
      "text/plain": [
       "2.6877222261605764"
      ]
     },
     "execution_count": 19,
     "metadata": {},
     "output_type": "execute_result"
    }
   ],
   "source": [
    "bottom_15_gpa = np.random.normal(mu, sigma, n_trials)\n",
    "np.percentile(bottom_15_gpa, 15)"
   ]
  },
  {
   "cell_type": "markdown",
   "id": "3407d398",
   "metadata": {},
   "source": [
    "#### An eccentric alumnus left scholarship money for students in the third decile from the bottom of their class. Determine the range of the third decile. Would a student with a 2.8 grade point average qualify for this scholarship?\n"
   ]
  },
  {
   "cell_type": "code",
   "execution_count": 20,
   "id": "7736c128",
   "metadata": {},
   "outputs": [],
   "source": [
    "bottom_30_percent_cutoff = grades.ppf(.30)\n",
    "bottom_20_percent_cutoff = grades.ppf(.20)"
   ]
  },
  {
   "cell_type": "code",
   "execution_count": 21,
   "id": "c496387e",
   "metadata": {},
   "outputs": [
    {
     "data": {
      "text/plain": [
       "(2.7475136299281258, 2.842679846187588)"
      ]
     },
     "execution_count": 21,
     "metadata": {},
     "output_type": "execute_result"
    }
   ],
   "source": [
    "(bottom_20_percent_cutoff, bottom_30_percent_cutoff,)"
   ]
  },
  {
   "cell_type": "markdown",
   "id": "6fa49bae",
   "metadata": {},
   "source": [
    "The student with a 2.8 GPA would be eligibile for the scholarship."
   ]
  },
  {
   "cell_type": "markdown",
   "id": "da83e1c3",
   "metadata": {},
   "source": [
    "#### Simulation"
   ]
  },
  {
   "cell_type": "code",
   "execution_count": 22,
   "id": "05afcabe",
   "metadata": {},
   "outputs": [
    {
     "data": {
      "text/plain": [
       "2.422227817448199"
      ]
     },
     "execution_count": 22,
     "metadata": {},
     "output_type": "execute_result"
    }
   ],
   "source": [
    "bottom_30 = np.random.normal(mu, sigma, n_trials)\n",
    "np.random.normal(mu, sigma)"
   ]
  },
  {
   "cell_type": "markdown",
   "id": "b916a444",
   "metadata": {},
   "source": [
    "#### If I have a GPA of 3.5, what percentile am I in?"
   ]
  },
  {
   "cell_type": "code",
   "execution_count": 23,
   "id": "44f42e75",
   "metadata": {},
   "outputs": [
    {
     "data": {
      "text/plain": [
       "0.9522096477271853"
      ]
     },
     "execution_count": 23,
     "metadata": {},
     "output_type": "execute_result"
    }
   ],
   "source": [
    "grades.cdf(3.5)"
   ]
  },
  {
   "cell_type": "markdown",
   "id": "f13be8bd",
   "metadata": {},
   "source": [
    "#### Simulation"
   ]
  },
  {
   "cell_type": "code",
   "execution_count": 24,
   "id": "91f9188c",
   "metadata": {},
   "outputs": [
    {
     "data": {
      "text/plain": [
       "0.95073"
      ]
     },
     "execution_count": 24,
     "metadata": {},
     "output_type": "execute_result"
    }
   ],
   "source": [
    "(np.random.normal(mu, sigma, size=(n_trials, 1)) < 3.5).mean()"
   ]
  },
  {
   "cell_type": "markdown",
   "id": "7d7027dd",
   "metadata": {},
   "source": [
    "### 3. A marketing website has an average click-through rate of 2%. One day they observe 4326 visitors and 97 click-throughs. How likely is it that this many people or more click through?"
   ]
  },
  {
   "cell_type": "code",
   "execution_count": 25,
   "id": "795547a2",
   "metadata": {
    "scrolled": true
   },
   "outputs": [
    {
     "data": {
      "text/plain": [
       "0.14211867659283192"
      ]
     },
     "execution_count": 25,
     "metadata": {},
     "output_type": "execute_result"
    }
   ],
   "source": [
    "click_rate = .02\n",
    "visitors = 4326\n",
    "clicks = 97\n",
    "expected = click_rate * visitors\n",
    "stats.poisson(expected).sf(96)"
   ]
  },
  {
   "cell_type": "markdown",
   "id": "2fbec01f",
   "metadata": {},
   "source": [
    "#### Simulation"
   ]
  },
  {
   "cell_type": "code",
   "execution_count": 26,
   "id": "73b26eba",
   "metadata": {},
   "outputs": [
    {
     "data": {
      "text/plain": [
       "0.14979195561719832"
      ]
     },
     "execution_count": 26,
     "metadata": {},
     "output_type": "execute_result"
    }
   ],
   "source": [
    "exp_clicks = np.random.poisson(expected, visitors).reshape(visitors, 1)\n",
    "(exp_clicks >= 97).mean()"
   ]
  },
  {
   "cell_type": "markdown",
   "id": "40808fbf",
   "metadata": {},
   "source": [
    "### 4. You are working on some statistics homework consisting of 100 questions where all of the answers are a probability rounded to the hundreths place. Looking to save time, you put down random probabilities as the answer to each question."
   ]
  },
  {
   "cell_type": "markdown",
   "id": "f6e46d34",
   "metadata": {},
   "source": [
    "#### What is the probability that at least one of your first 60 answers is correct?"
   ]
  },
  {
   "cell_type": "code",
   "execution_count": 30,
   "id": "6617d1d2",
   "metadata": {},
   "outputs": [
    {
     "data": {
      "text/plain": [
       "0.4528433576092388"
      ]
     },
     "execution_count": 30,
     "metadata": {},
     "output_type": "execute_result"
    }
   ],
   "source": [
    "correct_question = stats.binom(60, 1/101).sf(0)\n",
    "#probability is 1/100 because the total number of numbers <= to 100 but >= to 0 is 101\n",
    "correct_question"
   ]
  },
  {
   "cell_type": "code",
   "execution_count": 31,
   "id": "7b142425",
   "metadata": {},
   "outputs": [
    {
     "data": {
      "text/plain": [
       "Text(0.5, 0, 'Number of Correct Questions')"
      ]
     },
     "execution_count": 31,
     "metadata": {},
     "output_type": "execute_result"
    },
    {
     "data": {
      "image/png": "[encoded data removed]",
      "text/plain": [
       "<Figure size 648x576 with 1 Axes>"
      ]
     },
     "metadata": {
      "needs_background": "light"
     },
     "output_type": "display_data"
    }
   ],
   "source": [
    "x = range(0, 61)\n",
    "plt.figure(figsize=(9, 8))\n",
    "plt.plot(x, stats.binom(60, 1/101).pmf(x))\n",
    "plt.ylabel('P(X = x)')\n",
    "plt.xlabel('Number of Correct Questions')"
   ]
  },
  {
   "cell_type": "markdown",
   "id": "967151c6",
   "metadata": {},
   "source": [
    "#### Simulation"
   ]
  },
  {
   "cell_type": "code",
   "execution_count": 32,
   "id": "2c7ad505",
   "metadata": {},
   "outputs": [
    {
     "data": {
      "text/plain": [
       "0.44923"
      ]
     },
     "execution_count": 32,
     "metadata": {},
     "output_type": "execute_result"
    }
   ],
   "source": [
    "outcomes = [\"Correct\", \"Incorrect\"]\n",
    "answers = np.random.choice(outcomes, size=(n_trials, 60), p=[1/101, 100/101])\n",
    "(np.count_nonzero(answers == 'Correct', axis=1) >= 1).mean()"
   ]
  },
  {
   "cell_type": "markdown",
   "id": "884b0a79",
   "metadata": {},
   "source": [
    "### 5. The codeup staff tends to get upset when the student break area is not cleaned up. Suppose that there's a 3% chance that any one student cleans the break area when they visit it, and, on any given day, about 90% of the 3 active cohorts of 22 students visit the break area."
   ]
  },
  {
   "cell_type": "markdown",
   "id": "13790e0d",
   "metadata": {},
   "source": [
    "#### How likely is it that the break area gets cleaned up each day? "
   ]
  },
  {
   "cell_type": "code",
   "execution_count": 34,
   "id": "0db8c253",
   "metadata": {},
   "outputs": [],
   "source": [
    "mu = .03\n",
    "students = 22 * 3"
   ]
  },
  {
   "cell_type": "code",
   "execution_count": 130,
   "id": "f6804a97",
   "metadata": {},
   "outputs": [
    {
     "data": {
      "text/plain": [
       "59"
      ]
     },
     "execution_count": 130,
     "metadata": {},
     "output_type": "execute_result"
    }
   ],
   "source": [
    "breakroom_users = .9 * students\n",
    "breakroom_users = round(breakroom_users)\n",
    "breakroom_users"
   ]
  },
  {
   "cell_type": "code",
   "execution_count": 131,
   "id": "71b79b04",
   "metadata": {},
   "outputs": [
    {
     "data": {
      "text/plain": [
       "0.8342199288437355"
      ]
     },
     "execution_count": 131,
     "metadata": {},
     "output_type": "execute_result"
    }
   ],
   "source": [
    "cleaned_breakroom = stats.binom(breakroom_users, mu)\n",
    "cleaned_breakroom.sf(0)"
   ]
  },
  {
   "cell_type": "code",
   "execution_count": 132,
   "id": "7690bfbc",
   "metadata": {},
   "outputs": [
    {
     "data": {
      "text/plain": [
       "Text(0.5, 1.0, 'Number of Students in a Clean a Day')"
      ]
     },
     "execution_count": 132,
     "metadata": {},
     "output_type": "execute_result"
    },
    {
     "data": {
      "image/png": "[encoded data removed]",
      "text/plain": [
       "<Figure size 432x288 with 1 Axes>"
      ]
     },
     "metadata": {
      "needs_background": "light"
     },
     "output_type": "display_data"
    }
   ],
   "source": [
    "x = range(0, 10)\n",
    "plt.bar(x, cleaned_breakroom.pmf(x))\n",
    "plt.title('Number of Students in a Clean a Day')"
   ]
  },
  {
   "cell_type": "markdown",
   "id": "75fd50aa",
   "metadata": {
    "scrolled": true
   },
   "source": [
    "##### simulation"
   ]
  },
  {
   "cell_type": "code",
   "execution_count": 133,
   "id": "6920a776",
   "metadata": {
    "scrolled": true
   },
   "outputs": [
    {
     "data": {
      "text/plain": [
       "array([['messy', 'messy', 'messy', ..., 'messy', 'messy', 'messy'],\n",
       "       ['messy', 'messy', 'messy', ..., 'clean', 'messy', 'messy'],\n",
       "       ['messy', 'messy', 'messy', ..., 'messy', 'messy', 'messy'],\n",
       "       ...,\n",
       "       ['messy', 'messy', 'messy', ..., 'messy', 'messy', 'messy'],\n",
       "       ['messy', 'messy', 'messy', ..., 'messy', 'messy', 'messy'],\n",
       "       ['messy', 'messy', 'messy', ..., 'messy', 'messy', 'messy']],\n",
       "      dtype='<U5')"
      ]
     },
     "execution_count": 133,
     "metadata": {},
     "output_type": "execute_result"
    }
   ],
   "source": [
    "outcomes = [\"clean\", \"messy\"]\n",
    "breakroom_status = np.random.choice(outcomes, size=(n_trials, breakroom_users), p=[mu, 1-mu])\n",
    "breakroom_status"
   ]
  },
  {
   "cell_type": "code",
   "execution_count": 157,
   "id": "ccbd72ed",
   "metadata": {},
   "outputs": [
    {
     "data": {
      "text/plain": [
       "0.83643"
      ]
     },
     "execution_count": 157,
     "metadata": {},
     "output_type": "execute_result"
    }
   ],
   "source": [
    "cleaned_prob = (np.count_nonzero(breakroom_status == 'clean', axis=1) >= 1).mean()\n",
    "cleaned_prob"
   ]
  },
  {
   "cell_type": "markdown",
   "id": "02d7bd46",
   "metadata": {},
   "source": [
    "#### How likely is it that it goes two days without getting cleaned up?"
   ]
  },
  {
   "cell_type": "code",
   "execution_count": 182,
   "id": "34d8b782",
   "metadata": {},
   "outputs": [
    {
     "data": {
      "text/plain": [
       "0.02748303199257623"
      ]
     },
     "execution_count": 182,
     "metadata": {},
     "output_type": "execute_result"
    }
   ],
   "source": [
    "stats.binom(breakroom_users * 2, mu).pmf(0)"
   ]
  },
  {
   "cell_type": "markdown",
   "id": "9b7f0e86",
   "metadata": {},
   "source": [
    "##### simulation"
   ]
  },
  {
   "cell_type": "code",
   "execution_count": 183,
   "id": "b0f892c5",
   "metadata": {},
   "outputs": [
    {
     "data": {
      "text/plain": [
       "0.026755144899999996"
      ]
     },
     "execution_count": 183,
     "metadata": {},
     "output_type": "execute_result"
    }
   ],
   "source": [
    "messy_day = 1 - cleaned_prob\n",
    "messy_day**2"
   ]
  },
  {
   "cell_type": "markdown",
   "id": "72bbfaa4",
   "metadata": {},
   "source": [
    "#### All week?"
   ]
  },
  {
   "cell_type": "code",
   "execution_count": 184,
   "id": "2b09075c",
   "metadata": {},
   "outputs": [
    {
     "data": {
      "text/plain": [
       "0.00012521651388091353"
      ]
     },
     "execution_count": 184,
     "metadata": {},
     "output_type": "execute_result"
    }
   ],
   "source": [
    "stats.binom(breakroom_users * 5, mu).pmf(0)"
   ]
  },
  {
   "cell_type": "markdown",
   "id": "df626900",
   "metadata": {},
   "source": [
    "#### Simulation"
   ]
  },
  {
   "cell_type": "code",
   "execution_count": 190,
   "id": "b9930475",
   "metadata": {},
   "outputs": [
    {
     "data": {
      "text/plain": [
       "0.00011708958544887272"
      ]
     },
     "execution_count": 190,
     "metadata": {},
     "output_type": "execute_result"
    }
   ],
   "source": [
    "messy_day**5"
   ]
  },
  {
   "cell_type": "markdown",
   "id": "5bd46a4b",
   "metadata": {},
   "source": [
    "### 6. You want to get lunch at La Panaderia, but notice that the line is usually very long at lunchtime. After several weeks of careful observation, you notice that the average number of people in line when your lunch break starts is normally distributed with a mean of 15 and standard deviation of 3. If it takes 2 minutes for each person to order, and 10 minutes from ordering to getting your food, what is the likelihood that you have at least 15 minutes left to eat your food before you have to go back to class? Assume you have one hour for lunch, and ignore travel time to and from La Panaderia.\n",
    "\n"
   ]
  },
  {
   "cell_type": "code",
   "execution_count": 194,
   "id": "a3d84459",
   "metadata": {},
   "outputs": [],
   "source": [
    "mu = 15\n",
    "sigma = 3\n",
    "\n",
    "t_to_order = 2\n",
    "t_to_get = 10\n",
    "t_to_eat_food = 15\n",
    "lunch = 60"
   ]
  },
  {
   "cell_type": "code",
   "execution_count": 195,
   "id": "a365eaad",
   "metadata": {},
   "outputs": [],
   "source": [
    "people_in_line = stats.norm(mu, sigma)"
   ]
  },
  {
   "cell_type": "code",
   "execution_count": 229,
   "id": "77db0117",
   "metadata": {},
   "outputs": [
    {
     "name": "stdout",
     "output_type": "stream",
     "text": [
      "I can wait in line for up to 33 minutes!\n"
     ]
    }
   ],
   "source": [
    "max_time_to_wait = lunch - t_to_order - t_to_get - t_to_eat_food\n",
    "#hour lunch minus time to order and receive YOUR food minus time to eat food\n",
    "print(f'I can wait in line for up to {max_time_to_wait} minutes!')"
   ]
  },
  {
   "cell_type": "code",
   "execution_count": 230,
   "id": "86c4e4dd",
   "metadata": {},
   "outputs": [
    {
     "data": {
      "text/plain": [
       "16"
      ]
     },
     "execution_count": 230,
     "metadata": {},
     "output_type": "execute_result"
    }
   ],
   "source": [
    "max_people = int(max_time_to_wait / 2)\n",
    "#highest possible amount of people ahead of you to finish within an hour\n",
    "max_people"
   ]
  },
  {
   "cell_type": "code",
   "execution_count": 231,
   "id": "c94b5d17",
   "metadata": {},
   "outputs": [
    {
     "data": {
      "text/plain": [
       "0.6305586598182363"
      ]
     },
     "execution_count": 231,
     "metadata": {},
     "output_type": "execute_result"
    }
   ],
   "source": [
    "people_in_line.cdf(max_people)"
   ]
  },
  {
   "cell_type": "code",
   "execution_count": 232,
   "id": "4a93cb6c",
   "metadata": {},
   "outputs": [
    {
     "data": {
      "text/plain": [
       "Text(0.5, 1.0, 'Number of People Waiting in Line')"
      ]
     },
     "execution_count": 232,
     "metadata": {},
     "output_type": "execute_result"
    },
    {
     "data": {
      "image/png": "[encoded data removed]",
      "text/plain": [
       "<Figure size 648x432 with 1 Axes>"
      ]
     },
     "metadata": {
      "needs_background": "light"
     },
     "output_type": "display_data"
    }
   ],
   "source": [
    "#graph\n",
    "x = range(30)\n",
    "y = people_in_line.pdf(x)\n",
    "plt.figure(figsize=(9, 6))\n",
    "plt.bar(x, y)\n",
    "plt.xticks(x)\n",
    "plt.title(\"Number of People Waiting in Line\")"
   ]
  },
  {
   "cell_type": "markdown",
   "id": "1b7e3ae2",
   "metadata": {},
   "source": [
    "#### Simulation"
   ]
  },
  {
   "cell_type": "code",
   "execution_count": 233,
   "id": "ae0fb0dc",
   "metadata": {},
   "outputs": [],
   "source": [
    "outcomes = ['under', \"over\"]\n",
    "rand_people = np.random.normal(mu, sigma, size=(n_trials, 1))"
   ]
  },
  {
   "cell_type": "code",
   "execution_count": 234,
   "id": "c7024ba6",
   "metadata": {},
   "outputs": [
    {
     "data": {
      "text/plain": [
       "0.63127"
      ]
     },
     "execution_count": 234,
     "metadata": {},
     "output_type": "execute_result"
    }
   ],
   "source": [
    "np.count_nonzero(rand_people <= 16, axis=1).mean()"
   ]
  },
  {
   "cell_type": "markdown",
   "id": "310a47a1",
   "metadata": {},
   "source": [
    "### 7. Connect to the employees database and find the average salary of current employees, along with the standard deviation. For the following questions, calculate the answer based on modeling the employees salaries with a normal distribution defined by the calculated mean and standard deviation then compare this answer to the actual values present in the salaries dataset."
   ]
  },
  {
   "cell_type": "code",
   "execution_count": 235,
   "id": "333f54e0",
   "metadata": {},
   "outputs": [],
   "source": [
    "from env import user, password, host"
   ]
  },
  {
   "cell_type": "code",
   "execution_count": 236,
   "id": "5e057754",
   "metadata": {},
   "outputs": [],
   "source": [
    "def get_data_from_sql(user, host, password, database, query):\n",
    "\n",
    "    url = f'mysql+pymysql://{user}:{password}@{host}/{database}'\n",
    "        \n",
    "    return pd.read_sql(query, url)"
   ]
  },
  {
   "cell_type": "code",
   "execution_count": 250,
   "id": "c7114da4",
   "metadata": {},
   "outputs": [
    {
     "data": {
      "text/html": [
       "<div>\n",
       "<style scoped>\n",
       "    .dataframe tbody tr th:only-of-type {\n",
       "        vertical-align: middle;\n",
       "    }\n",
       "\n",
       "    .dataframe tbody tr th {\n",
       "        vertical-align: top;\n",
       "    }\n",
       "\n",
       "    .dataframe thead th {\n",
       "        text-align: right;\n",
       "    }\n",
       "</style>\n",
       "<table border=\"1\" class=\"dataframe\">\n",
       "  <thead>\n",
       "    <tr style=\"text-align: right;\">\n",
       "      <th></th>\n",
       "      <th>emp_no</th>\n",
       "      <th>salary</th>\n",
       "      <th>from_date</th>\n",
       "      <th>to_date</th>\n",
       "    </tr>\n",
       "  </thead>\n",
       "  <tbody>\n",
       "    <tr>\n",
       "      <th>0</th>\n",
       "      <td>10001</td>\n",
       "      <td>88958</td>\n",
       "      <td>2002-06-22</td>\n",
       "      <td>9999-01-01</td>\n",
       "    </tr>\n",
       "    <tr>\n",
       "      <th>1</th>\n",
       "      <td>10002</td>\n",
       "      <td>72527</td>\n",
       "      <td>2001-08-02</td>\n",
       "      <td>9999-01-01</td>\n",
       "    </tr>\n",
       "    <tr>\n",
       "      <th>2</th>\n",
       "      <td>10003</td>\n",
       "      <td>43311</td>\n",
       "      <td>2001-12-01</td>\n",
       "      <td>9999-01-01</td>\n",
       "    </tr>\n",
       "    <tr>\n",
       "      <th>3</th>\n",
       "      <td>10004</td>\n",
       "      <td>74057</td>\n",
       "      <td>2001-11-27</td>\n",
       "      <td>9999-01-01</td>\n",
       "    </tr>\n",
       "    <tr>\n",
       "      <th>4</th>\n",
       "      <td>10005</td>\n",
       "      <td>94692</td>\n",
       "      <td>2001-09-09</td>\n",
       "      <td>9999-01-01</td>\n",
       "    </tr>\n",
       "    <tr>\n",
       "      <th>...</th>\n",
       "      <td>...</td>\n",
       "      <td>...</td>\n",
       "      <td>...</td>\n",
       "      <td>...</td>\n",
       "    </tr>\n",
       "    <tr>\n",
       "      <th>240119</th>\n",
       "      <td>499995</td>\n",
       "      <td>52868</td>\n",
       "      <td>2002-06-01</td>\n",
       "      <td>9999-01-01</td>\n",
       "    </tr>\n",
       "    <tr>\n",
       "      <th>240120</th>\n",
       "      <td>499996</td>\n",
       "      <td>69501</td>\n",
       "      <td>2002-05-12</td>\n",
       "      <td>9999-01-01</td>\n",
       "    </tr>\n",
       "    <tr>\n",
       "      <th>240121</th>\n",
       "      <td>499997</td>\n",
       "      <td>83441</td>\n",
       "      <td>2001-08-26</td>\n",
       "      <td>9999-01-01</td>\n",
       "    </tr>\n",
       "    <tr>\n",
       "      <th>240122</th>\n",
       "      <td>499998</td>\n",
       "      <td>55003</td>\n",
       "      <td>2001-12-25</td>\n",
       "      <td>9999-01-01</td>\n",
       "    </tr>\n",
       "    <tr>\n",
       "      <th>240123</th>\n",
       "      <td>499999</td>\n",
       "      <td>77303</td>\n",
       "      <td>2001-11-29</td>\n",
       "      <td>9999-01-01</td>\n",
       "    </tr>\n",
       "  </tbody>\n",
       "</table>\n",
       "<p>240124 rows × 4 columns</p>\n",
       "</div>"
      ],
      "text/plain": [
       "        emp_no  salary   from_date     to_date\n",
       "0        10001   88958  2002-06-22  9999-01-01\n",
       "1        10002   72527  2001-08-02  9999-01-01\n",
       "2        10003   43311  2001-12-01  9999-01-01\n",
       "3        10004   74057  2001-11-27  9999-01-01\n",
       "4        10005   94692  2001-09-09  9999-01-01\n",
       "...        ...     ...         ...         ...\n",
       "240119  499995   52868  2002-06-01  9999-01-01\n",
       "240120  499996   69501  2002-05-12  9999-01-01\n",
       "240121  499997   83441  2001-08-26  9999-01-01\n",
       "240122  499998   55003  2001-12-25  9999-01-01\n",
       "240123  499999   77303  2001-11-29  9999-01-01\n",
       "\n",
       "[240124 rows x 4 columns]"
      ]
     },
     "execution_count": 250,
     "metadata": {},
     "output_type": "execute_result"
    }
   ],
   "source": [
    "query = '''\n",
    "SELECT *\n",
    "FROM salaries\n",
    "WHERE to_date > NOW();\n",
    "'''\n",
    "df = get_data_from_sql(user, host, password, \"employees\", query)\n",
    "df"
   ]
  },
  {
   "cell_type": "code",
   "execution_count": 253,
   "id": "99569ccc",
   "metadata": {},
   "outputs": [],
   "source": [
    "avg_salary = df.salary.mean()\n",
    "std_dev = np.std(df.salary)\n",
    "salaries = stats.norm(avg_salary, std_dev)"
   ]
  },
  {
   "cell_type": "markdown",
   "id": "259de280",
   "metadata": {},
   "source": [
    "#### What percent of employees earn less than 60,000?"
   ]
  },
  {
   "cell_type": "code",
   "execution_count": 255,
   "id": "5c959227",
   "metadata": {},
   "outputs": [
    {
     "data": {
      "text/plain": [
       "0.24385697169355336"
      ]
     },
     "execution_count": 255,
     "metadata": {},
     "output_type": "execute_result"
    }
   ],
   "source": [
    "salaries.cdf(60000)"
   ]
  },
  {
   "cell_type": "markdown",
   "id": "3700adf8",
   "metadata": {},
   "source": [
    "#### Simulation"
   ]
  },
  {
   "cell_type": "code",
   "execution_count": 256,
   "id": "b807f320",
   "metadata": {},
   "outputs": [
    {
     "data": {
      "text/plain": [
       "0.2705727041028802"
      ]
     },
     "execution_count": 256,
     "metadata": {},
     "output_type": "execute_result"
    }
   ],
   "source": [
    "(df.salary < 60_000).mean()"
   ]
  },
  {
   "cell_type": "markdown",
   "id": "b962bad9",
   "metadata": {},
   "source": [
    "#### What percent of employees earn more than 95,000?"
   ]
  },
  {
   "cell_type": "code",
   "execution_count": 257,
   "id": "d1036581",
   "metadata": {},
   "outputs": [
    {
     "data": {
      "text/plain": [
       "0.09208773524185987"
      ]
     },
     "execution_count": 257,
     "metadata": {},
     "output_type": "execute_result"
    }
   ],
   "source": [
    "employees.sf(95_000)"
   ]
  },
  {
   "cell_type": "markdown",
   "id": "2f255e7d",
   "metadata": {},
   "source": [
    "#### Simulation"
   ]
  },
  {
   "cell_type": "code",
   "execution_count": 258,
   "id": "28fd1b08",
   "metadata": {},
   "outputs": [
    {
     "data": {
      "text/plain": [
       "0.1086272092752078"
      ]
     },
     "execution_count": 258,
     "metadata": {},
     "output_type": "execute_result"
    }
   ],
   "source": [
    "(df.salary > 95_000).mean()"
   ]
  },
  {
   "cell_type": "markdown",
   "id": "a111bf11",
   "metadata": {},
   "source": [
    "#### What percent of employees earn between 65,000 and 80,000?"
   ]
  },
  {
   "cell_type": "code",
   "execution_count": 299,
   "id": "45c96ea3",
   "metadata": {
    "scrolled": true
   },
   "outputs": [
    {
     "data": {
      "text/plain": [
       "0.3350612231665173"
      ]
     },
     "execution_count": 299,
     "metadata": {},
     "output_type": "execute_result"
    }
   ],
   "source": [
    "salaries.sf(65_000) + salaries.cdf(80_000)-1"
   ]
  },
  {
   "cell_type": "markdown",
   "id": "36e36aa0",
   "metadata": {},
   "source": [
    "#### Simulation"
   ]
  },
  {
   "cell_type": "code",
   "execution_count": 289,
   "id": "297e5962",
   "metadata": {},
   "outputs": [
    {
     "data": {
      "text/plain": [
       "0.32515700221552196"
      ]
     },
     "execution_count": 289,
     "metadata": {},
     "output_type": "execute_result"
    }
   ],
   "source": [
    "((df.salary <= 80_000) & (df.salary >= 65_000)).mean()"
   ]
  },
  {
   "cell_type": "markdown",
   "id": "1502e1dc",
   "metadata": {},
   "source": [
    "#### What do the top 5% of employees make?"
   ]
  },
  {
   "cell_type": "code",
   "execution_count": 310,
   "id": "ad8cbbc1",
   "metadata": {},
   "outputs": [
    {
     "data": {
      "text/plain": [
       "100484.58525407952"
      ]
     },
     "execution_count": 310,
     "metadata": {},
     "output_type": "execute_result"
    }
   ],
   "source": [
    "employees.isf(.05)"
   ]
  },
  {
   "cell_type": "markdown",
   "id": "09281c6a",
   "metadata": {},
   "source": [
    "#### Simulatiom"
   ]
  },
  {
   "cell_type": "code",
   "execution_count": 325,
   "id": "ee4af0d8",
   "metadata": {},
   "outputs": [
    {
     "data": {
      "text/plain": [
       "104225.84999999998"
      ]
     },
     "execution_count": 325,
     "metadata": {},
     "output_type": "execute_result"
    }
   ],
   "source": [
    "df.salary.quantile(0.95)"
   ]
  },
  {
   "cell_type": "code",
   "execution_count": 324,
   "id": "77120d9d",
   "metadata": {
    "scrolled": true
   },
   "outputs": [
    {
     "name": "stderr",
     "output_type": "stream",
     "text": [
      "/usr/local/anaconda3/lib/python3.8/site-packages/seaborn/_decorators.py:36: FutureWarning: Pass the following variables as keyword args: x, y. From version 0.12, the only valid positional argument will be `data`, and passing other arguments without an explicit keyword will result in an error or misinterpretation.\n",
      "  warnings.warn(\n"
     ]
    },
    {
     "data": {
      "text/plain": [
       "Text(0.5, 1.0, 'Employee Salary')"
      ]
     },
     "execution_count": 324,
     "metadata": {},
     "output_type": "execute_result"
    },
    {
     "data": {
      "image/png": "[encoded data removed]",
      "text/plain": [
       "<Figure size 576x288 with 1 Axes>"
      ]
     },
     "metadata": {
      "needs_background": "light"
     },
     "output_type": "display_data"
    }
   ],
   "source": [
    "x = range(0, 160000, 10000)\n",
    "y = salaries.pdf(x)\n",
    "plt.figure(figsize=(8, 4))\n",
    "sns.scatterplot(x, y)\n",
    "plt.bar(x, y, edgecolor='red')\n",
    "plt.title('Employee Salary')"
   ]
  },
  {
   "cell_type": "code",
   "execution_count": null,
   "id": "20f2e6e2",
   "metadata": {},
   "outputs": [],
   "source": []
  }
 ],
 "metadata": {
  "kernelspec": {
   "display_name": "Python 3",
   "language": "python",
   "name": "python3"
  },
  "language_info": {
   "codemirror_mode": {
    "name": "ipython",
    "version": 3
   },
   "file_extension": ".py",
   "mimetype": "text/x-python",
   "name": "python",
   "nbconvert_exporter": "python",
   "pygments_lexer": "ipython3",
   "version": "3.8.8"
  }
 },
 "nbformat": 4,
 "nbformat_minor": 5
}
