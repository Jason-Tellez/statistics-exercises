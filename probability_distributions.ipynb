{
 "cells": [
  {
   "cell_type": "code",
   "execution_count": 49,
   "id": "0c3ad516",
   "metadata": {},
   "outputs": [],
   "source": [
    "import matplotlib.pyplot as plt\n",
    "import numpy as np\n",
    "from scipy import stats"
   ]
  },
  {
   "cell_type": "markdown",
   "id": "d2e775d2",
   "metadata": {},
   "source": [
    "## Exercises"
   ]
  },
  {
   "cell_type": "markdown",
   "id": "3c0b880b",
   "metadata": {},
   "source": [
    "#### For the following problems, use python to simulate the problem and calculate an experimental probability, then compare that to the theoretical probability."
   ]
  },
  {
   "cell_type": "markdown",
   "id": "c9e11d09",
   "metadata": {},
   "source": [
    "### 1. A bank found that the average number of cars waiting during the noon hour at a drive-up window follows a Poisson distribution with a mean of 2 cars. Make a chart of this distribution and answer these questions concerning the probability of cars waiting at the drive-up window.\n",
    "#### What is the probability that no cars drive up in the noon hour?"
   ]
  },
  {
   "cell_type": "markdown",
   "id": "d64e7046",
   "metadata": {},
   "source": [
    "We have average but we want probability of less cars showing up.\n",
    "\n",
    "We will use .cdf"
   ]
  },
  {
   "cell_type": "code",
   "execution_count": 50,
   "id": "1e111ac8",
   "metadata": {},
   "outputs": [
    {
     "data": {
      "text/plain": [
       "0.1353352832366127"
      ]
     },
     "execution_count": 50,
     "metadata": {},
     "output_type": "execute_result"
    }
   ],
   "source": [
    "stats.poisson(2).cdf(0)"
   ]
  },
  {
   "cell_type": "markdown",
   "id": "f25f203f",
   "metadata": {},
   "source": [
    "#### What is the probability that 3 or more cars come through the drive through?"
   ]
  },
  {
   "cell_type": "code",
   "execution_count": 51,
   "id": "20aa100f",
   "metadata": {},
   "outputs": [
    {
     "data": {
      "text/plain": [
       "0.32332358381693654"
      ]
     },
     "execution_count": 51,
     "metadata": {},
     "output_type": "execute_result"
    }
   ],
   "source": [
    "stats.poisson(2).sf(2)"
   ]
  },
  {
   "cell_type": "markdown",
   "id": "33f6ad5b",
   "metadata": {},
   "source": [
    "#### How likely is it that the drive through gets at least 1 car?"
   ]
  },
  {
   "cell_type": "code",
   "execution_count": 52,
   "id": "78052f76",
   "metadata": {},
   "outputs": [
    {
     "data": {
      "text/plain": [
       "0.8646647167633873"
      ]
     },
     "execution_count": 52,
     "metadata": {},
     "output_type": "execute_result"
    }
   ],
   "source": [
    "stats.poisson(2).sf(0)"
   ]
  },
  {
   "cell_type": "markdown",
   "id": "f1022eab",
   "metadata": {},
   "source": [
    "### 2. Grades of State University graduates are normally distributed with a mean of 3.0 and a standard deviation of .3. Calculate the following:"
   ]
  },
  {
   "cell_type": "markdown",
   "id": "306a0174",
   "metadata": {},
   "source": [
    "#### What grade point average is required to be in the top 5% of the graduating class?"
   ]
  },
  {
   "cell_type": "code",
   "execution_count": 53,
   "id": "a035aed9",
   "metadata": {},
   "outputs": [],
   "source": [
    "μ = 3\n",
    "σ = 0.3\n",
    "grades = stats.norm(μ, σ)"
   ]
  },
  {
   "cell_type": "code",
   "execution_count": 60,
   "id": "828fbfe3",
   "metadata": {},
   "outputs": [
    {
     "data": {
      "text/plain": [
       "3.4934560880854417"
      ]
     },
     "execution_count": 60,
     "metadata": {},
     "output_type": "execute_result"
    }
   ],
   "source": [
    "top_5_percent_cutoff = grades.ppf(.95)\n",
    "top_5_percent_cutoff"
   ]
  },
  {
   "cell_type": "markdown",
   "id": "a07bd527",
   "metadata": {},
   "source": [
    "#### What GPA constitutes the bottom 15% of the class?"
   ]
  },
  {
   "cell_type": "code",
   "execution_count": 61,
   "id": "cbfeca89",
   "metadata": {},
   "outputs": [
    {
     "data": {
      "text/plain": [
       "2.689069983151863"
      ]
     },
     "execution_count": 61,
     "metadata": {},
     "output_type": "execute_result"
    }
   ],
   "source": [
    "bottom_15_percent_cutoff = grades.ppf(.15)\n",
    "bottom_15_percent_cutoff"
   ]
  },
  {
   "cell_type": "markdown",
   "id": "60c97788",
   "metadata": {},
   "source": [
    "#### An eccentric alumnus left scholarship money for students in the third decile from the bottom of their class. Determine the range of the third decile. Would a student with a 2.8 grade point average qualify for this scholarship?\n"
   ]
  },
  {
   "cell_type": "code",
   "execution_count": 63,
   "id": "1afea1e3",
   "metadata": {},
   "outputs": [],
   "source": [
    "bottom_30_percent_cutoff = grades.ppf(.30)\n",
    "bottom_20_percent_cutoff = grades.ppf(.20)"
   ]
  },
  {
   "cell_type": "code",
   "execution_count": 65,
   "id": "0e8b615e",
   "metadata": {},
   "outputs": [
    {
     "data": {
      "text/plain": [
       "(2.842679846187588, 2.7475136299281258)"
      ]
     },
     "execution_count": 65,
     "metadata": {},
     "output_type": "execute_result"
    }
   ],
   "source": [
    "(bottom_30_percent_cutoff, bottom_20_percent_cutoff)"
   ]
  },
  {
   "cell_type": "markdown",
   "id": "14ad785b",
   "metadata": {},
   "source": [
    "The student with a 2.8 GPA would be eligibile for the scholarship."
   ]
  },
  {
   "cell_type": "markdown",
   "id": "9fcc9695",
   "metadata": {},
   "source": [
    "#### If I have a GPA of 3.5, what percentile am I in?"
   ]
  },
  {
   "cell_type": "code",
   "execution_count": 69,
   "id": "29dfad9d",
   "metadata": {},
   "outputs": [
    {
     "data": {
      "text/plain": [
       "0.0477903522728147"
      ]
     },
     "execution_count": 69,
     "metadata": {},
     "output_type": "execute_result"
    }
   ],
   "source": [
    "grades.sf(3.5)"
   ]
  },
  {
   "cell_type": "markdown",
   "id": "2f4bd125",
   "metadata": {},
   "source": [
    "### 4. A marketing website has an average click-through rate of 2%. One day they observe 4326 visitors and 97 click-throughs. How likely is it that this many people or more click through?"
   ]
  },
  {
   "cell_type": "code",
   "execution_count": 71,
   "id": "5e35c68b",
   "metadata": {},
   "outputs": [],
   "source": [
    "click_rate = .02\n",
    "visitors = 4326\n",
    "clicks = 97"
   ]
  },
  {
   "cell_type": "code",
   "execution_count": null,
   "id": "75ab12f2",
   "metadata": {},
   "outputs": [],
   "source": []
  }
 ],
 "metadata": {
  "kernelspec": {
   "display_name": "Python 3",
   "language": "python",
   "name": "python3"
  },
  "language_info": {
   "codemirror_mode": {
    "name": "ipython",
    "version": 3
   },
   "file_extension": ".py",
   "mimetype": "text/x-python",
   "name": "python",
   "nbconvert_exporter": "python",
   "pygments_lexer": "ipython3",
   "version": "3.8.8"
  }
 },
 "nbformat": 4,
 "nbformat_minor": 5
}
