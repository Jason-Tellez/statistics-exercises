{
 "cells": [
  {
   "cell_type": "code",
   "execution_count": 1,
   "id": "0c3ad516",
   "metadata": {},
   "outputs": [],
   "source": [
    "import matplotlib.pyplot as plt\n",
    "import numpy as np\n",
    "from scipy import stats\n",
    "import seaborn as sns"
   ]
  },
  {
   "cell_type": "code",
   "execution_count": 2,
   "id": "792efae2",
   "metadata": {},
   "outputs": [],
   "source": [
    "n_trials = 100_000"
   ]
  },
  {
   "cell_type": "markdown",
   "id": "d2e775d2",
   "metadata": {},
   "source": [
    "## Exercises"
   ]
  },
  {
   "cell_type": "markdown",
   "id": "3c0b880b",
   "metadata": {},
   "source": [
    "#### For the following problems, use python to simulate the problem and calculate an experimental probability, then compare that to the theoretical probability."
   ]
  },
  {
   "cell_type": "markdown",
   "id": "c9e11d09",
   "metadata": {},
   "source": [
    "### 1. A bank found that the average number of cars waiting during the noon hour at a drive-up window follows a Poisson distribution with a mean of 2 cars. Make a chart of this distribution and answer these questions concerning the probability of cars waiting at the drive-up window.\n",
    "#### What is the probability that no cars drive up in the noon hour?"
   ]
  },
  {
   "cell_type": "code",
   "execution_count": 3,
   "id": "7eb81eec",
   "metadata": {},
   "outputs": [
    {
     "data": {
      "text/plain": [
       "Text(0.5, 0, 'Cars Waiting')"
      ]
     },
     "execution_count": 3,
     "metadata": {},
     "output_type": "execute_result"
    },
    {
     "data": {
      "image/png": "[encoded data removed]",
      "text/plain": [
       "<Figure size 648x432 with 1 Axes>"
      ]
     },
     "metadata": {
      "needs_background": "light"
     },
     "output_type": "display_data"
    }
   ],
   "source": [
    "x = range(16)\n",
    "y = stats.norm(2).pdf(x)\n",
    "plt.figure(figsize=(9, 6))\n",
    "plt.bar(x, y, edgecolor='black', color='white', width=1)\n",
    "plt.xticks(x)\n",
    "plt.ylabel('P(X = x)')\n",
    "plt.xlabel('Cars Waiting')"
   ]
  },
  {
   "cell_type": "markdown",
   "id": "d64e7046",
   "metadata": {},
   "source": [
    "We have average but we want probability of less cars showing up.\n",
    "\n",
    "We will use .cdf"
   ]
  },
  {
   "cell_type": "code",
   "execution_count": 4,
   "id": "1e111ac8",
   "metadata": {},
   "outputs": [
    {
     "data": {
      "text/plain": [
       "0.1353352832366127"
      ]
     },
     "execution_count": 4,
     "metadata": {},
     "output_type": "execute_result"
    }
   ],
   "source": [
    "stats.poisson(2).cdf(0)"
   ]
  },
  {
   "cell_type": "markdown",
   "id": "f25f203f",
   "metadata": {},
   "source": [
    "#### What is the probability that 3 or more cars come through the drive through?"
   ]
  },
  {
   "cell_type": "code",
   "execution_count": 5,
   "id": "20aa100f",
   "metadata": {},
   "outputs": [
    {
     "data": {
      "text/plain": [
       "0.32332358381693654"
      ]
     },
     "execution_count": 5,
     "metadata": {},
     "output_type": "execute_result"
    }
   ],
   "source": [
    "stats.poisson(2).sf(2)"
   ]
  },
  {
   "cell_type": "markdown",
   "id": "33f6ad5b",
   "metadata": {},
   "source": [
    "#### How likely is it that the drive through gets at least 1 car?"
   ]
  },
  {
   "cell_type": "code",
   "execution_count": 6,
   "id": "78052f76",
   "metadata": {
    "scrolled": true
   },
   "outputs": [
    {
     "data": {
      "text/plain": [
       "0.8646647167633873"
      ]
     },
     "execution_count": 6,
     "metadata": {},
     "output_type": "execute_result"
    }
   ],
   "source": [
    "stats.poisson(2).sf(0)"
   ]
  },
  {
   "cell_type": "markdown",
   "id": "50bca6b2",
   "metadata": {},
   "source": [
    "### 2. Grades of State University graduates are normally distributed with a mean of 3.0 and a standard deviation of .3. Calculate the following:"
   ]
  },
  {
   "cell_type": "markdown",
   "id": "af716e32",
   "metadata": {},
   "source": [
    "#### What grade point average is required to be in the top 5% of the graduating class?"
   ]
  },
  {
   "cell_type": "code",
   "execution_count": 7,
   "id": "b8d9a1b1",
   "metadata": {},
   "outputs": [],
   "source": [
    "μ = 3\n",
    "σ = 0.3\n",
    "grades = stats.norm(μ, σ)"
   ]
  },
  {
   "cell_type": "code",
   "execution_count": 8,
   "id": "f1ddf3df",
   "metadata": {},
   "outputs": [
    {
     "data": {
      "text/plain": [
       "3.4934560880854417"
      ]
     },
     "execution_count": 8,
     "metadata": {},
     "output_type": "execute_result"
    }
   ],
   "source": [
    "top_5_percent_cutoff = grades.ppf(.95)\n",
    "top_5_percent_cutoff"
   ]
  },
  {
   "cell_type": "markdown",
   "id": "3553bbf4",
   "metadata": {},
   "source": [
    "#### What GPA constitutes the bottom 15% of the class?"
   ]
  },
  {
   "cell_type": "code",
   "execution_count": 9,
   "id": "9a0fb475",
   "metadata": {},
   "outputs": [
    {
     "data": {
      "text/plain": [
       "2.689069983151863"
      ]
     },
     "execution_count": 9,
     "metadata": {},
     "output_type": "execute_result"
    }
   ],
   "source": [
    "bottom_15_percent_cutoff = grades.ppf(.15)\n",
    "bottom_15_percent_cutoff"
   ]
  },
  {
   "cell_type": "markdown",
   "id": "3407d398",
   "metadata": {},
   "source": [
    "#### An eccentric alumnus left scholarship money for students in the third decile from the bottom of their class. Determine the range of the third decile. Would a student with a 2.8 grade point average qualify for this scholarship?\n"
   ]
  },
  {
   "cell_type": "code",
   "execution_count": 10,
   "id": "7736c128",
   "metadata": {},
   "outputs": [],
   "source": [
    "bottom_30_percent_cutoff = grades.ppf(.30)\n",
    "bottom_20_percent_cutoff = grades.ppf(.20)"
   ]
  },
  {
   "cell_type": "code",
   "execution_count": 11,
   "id": "c496387e",
   "metadata": {},
   "outputs": [
    {
     "data": {
      "text/plain": [
       "(2.7475136299281258, 2.842679846187588)"
      ]
     },
     "execution_count": 11,
     "metadata": {},
     "output_type": "execute_result"
    }
   ],
   "source": [
    "(bottom_20_percent_cutoff, bottom_30_percent_cutoff,)"
   ]
  },
  {
   "cell_type": "markdown",
   "id": "6fa49bae",
   "metadata": {},
   "source": [
    "The student with a 2.8 GPA would be eligibile for the scholarship."
   ]
  },
  {
   "cell_type": "markdown",
   "id": "b916a444",
   "metadata": {},
   "source": [
    "#### If I have a GPA of 3.5, what percentile am I in?"
   ]
  },
  {
   "cell_type": "code",
   "execution_count": 12,
   "id": "44f42e75",
   "metadata": {},
   "outputs": [
    {
     "data": {
      "text/plain": [
       "0.9522096477271853"
      ]
     },
     "execution_count": 12,
     "metadata": {},
     "output_type": "execute_result"
    }
   ],
   "source": [
    "grades.cdf(3.5)"
   ]
  },
  {
   "cell_type": "markdown",
   "id": "7d7027dd",
   "metadata": {},
   "source": [
    "### 3. A marketing website has an average click-through rate of 2%. One day they observe 4326 visitors and 97 click-throughs. How likely is it that this many people or more click through?"
   ]
  },
  {
   "cell_type": "code",
   "execution_count": 13,
   "id": "795547a2",
   "metadata": {
    "scrolled": true
   },
   "outputs": [
    {
     "data": {
      "text/plain": [
       "0.14211867659283192"
      ]
     },
     "execution_count": 13,
     "metadata": {},
     "output_type": "execute_result"
    }
   ],
   "source": [
    "click_rate = .02\n",
    "visitors = 4326\n",
    "clicks = 97\n",
    "expected = click_rate * visitors\n",
    "stats.poisson(expected).sf(96)"
   ]
  },
  {
   "cell_type": "code",
   "execution_count": 14,
   "id": "530557f0",
   "metadata": {},
   "outputs": [],
   "source": [
    "#simulation\n"
   ]
  },
  {
   "cell_type": "markdown",
   "id": "40808fbf",
   "metadata": {},
   "source": [
    "### 4. You are working on some statistics homework consisting of 100 questions where all of the answers are a probability rounded to the hundreths place. Looking to save time, you put down random probabilities as the answer to each question."
   ]
  },
  {
   "cell_type": "markdown",
   "id": "f6e46d34",
   "metadata": {},
   "source": [
    "#### What is the probability that at least one of your first 60 answers is correct?"
   ]
  },
  {
   "cell_type": "code",
   "execution_count": 15,
   "id": "c2f07c94",
   "metadata": {},
   "outputs": [
    {
     "data": {
      "text/plain": [
       "60.0"
      ]
     },
     "execution_count": 15,
     "metadata": {},
     "output_type": "execute_result"
    }
   ],
   "source": [
    "correct_question = stats.binom(60, 1/101).ppf(1)\n",
    "correct_question"
   ]
  },
  {
   "cell_type": "code",
   "execution_count": 16,
   "id": "df629ea5",
   "metadata": {},
   "outputs": [
    {
     "data": {
      "text/plain": [
       "0.59235"
      ]
     },
     "execution_count": 16,
     "metadata": {},
     "output_type": "execute_result"
    }
   ],
   "source": [
    "#simulation\n",
    "outcomes = [\"Correct\", \"Incorrect\"]\n",
    "answers = np.random.choice(outcomes, size=(n_trials, 60), p=[1/101, 100/101])\n",
    "np.count_nonzero(answers == 'Correct', axis=1).mean()"
   ]
  },
  {
   "cell_type": "code",
   "execution_count": 17,
   "id": "e80ace73",
   "metadata": {},
   "outputs": [
    {
     "data": {
      "text/plain": [
       "(100000, 60)"
      ]
     },
     "execution_count": 17,
     "metadata": {},
     "output_type": "execute_result"
    }
   ],
   "source": [
    "answers.shape"
   ]
  },
  {
   "cell_type": "markdown",
   "id": "884b0a79",
   "metadata": {},
   "source": [
    "### 5. The codeup staff tends to get upset when the student break area is not cleaned up. Suppose that there's a 3% chance that any one student cleans the break area when they visit it, and, on any given day, about 90% of the 3 active cohorts of 22 students visit the break area."
   ]
  },
  {
   "cell_type": "markdown",
   "id": "13790e0d",
   "metadata": {},
   "source": [
    "#### How likely is it that the break area gets cleaned up each day? "
   ]
  },
  {
   "cell_type": "code",
   "execution_count": 50,
   "id": "156f70ac",
   "metadata": {},
   "outputs": [
    {
     "data": {
      "text/plain": [
       "59"
      ]
     },
     "execution_count": 50,
     "metadata": {},
     "output_type": "execute_result"
    }
   ],
   "source": [
    "μ = .03\n",
    "students = 22 * 3\n",
    "breakroom_users = .9 * students\n",
    "breakroom_users = round(break_area_users)\n",
    "breakroom_users"
   ]
  },
  {
   "cell_type": "code",
   "execution_count": 51,
   "id": "015a90a8",
   "metadata": {},
   "outputs": [
    {
     "data": {
      "text/plain": [
       "0.8342199288437355"
      ]
     },
     "execution_count": 51,
     "metadata": {},
     "output_type": "execute_result"
    }
   ],
   "source": [
    "cleaned_breakroom = stats.binom(break_area_users, μ).sf(0)\n",
    "cleaned_breakroom"
   ]
  },
  {
   "cell_type": "code",
   "execution_count": 55,
   "id": "2f0b6310",
   "metadata": {
    "scrolled": true
   },
   "outputs": [
    {
     "data": {
      "text/plain": [
       "array([['clean', 'messy', 'messy', ..., 'messy', 'messy', 'messy'],\n",
       "       ['clean', 'messy', 'messy', ..., 'messy', 'messy', 'messy'],\n",
       "       ['messy', 'messy', 'messy', ..., 'messy', 'messy', 'messy'],\n",
       "       ...,\n",
       "       ['messy', 'messy', 'messy', ..., 'messy', 'messy', 'messy'],\n",
       "       ['messy', 'messy', 'messy', ..., 'messy', 'messy', 'messy'],\n",
       "       ['messy', 'messy', 'messy', ..., 'messy', 'messy', 'messy']],\n",
       "      dtype='<U5')"
      ]
     },
     "execution_count": 55,
     "metadata": {},
     "output_type": "execute_result"
    }
   ],
   "source": [
    "#simulation\n",
    "outcomes = [\"clean\", \"messy\"]\n",
    "breakroom_status = np.random.choice(outcomes, size=(n_trials, breakroom_users), p=[μ, 1-μ])\n",
    "breakroom_status"
   ]
  },
  {
   "cell_type": "code",
   "execution_count": 56,
   "id": "63057909",
   "metadata": {},
   "outputs": [
    {
     "data": {
      "text/plain": [
       "(100000, 59)"
      ]
     },
     "execution_count": 56,
     "metadata": {},
     "output_type": "execute_result"
    }
   ],
   "source": [
    "breakroom_status.shape"
   ]
  },
  {
   "cell_type": "code",
   "execution_count": 65,
   "id": "1a4ab941",
   "metadata": {},
   "outputs": [
    {
     "data": {
      "text/plain": [
       "0.83604"
      ]
     },
     "execution_count": 65,
     "metadata": {},
     "output_type": "execute_result"
    }
   ],
   "source": [
    "(np.count_nonzero(breakroom_status == 'clean', axis=1) >= 1).mean()"
   ]
  },
  {
   "cell_type": "markdown",
   "id": "02d7bd46",
   "metadata": {},
   "source": [
    "#### How likely is it that it goes two days without getting cleaned up? All week?"
   ]
  },
  {
   "cell_type": "code",
   "execution_count": 66,
   "id": "cd3f6bbb",
   "metadata": {},
   "outputs": [],
   "source": [
    "cleaned_day = (np.count_nonzero(breakroom_status == 'clean', axis=1) >= 1).mean()"
   ]
  },
  {
   "cell_type": "code",
   "execution_count": 68,
   "id": "76af19da",
   "metadata": {},
   "outputs": [
    {
     "data": {
      "text/plain": [
       "1.0"
      ]
     },
     "execution_count": 68,
     "metadata": {},
     "output_type": "execute_result"
    }
   ],
   "source": [
    "days_passed = stats.binom(2, 1-cleaned_day).\n",
    "days_passed"
   ]
  },
  {
   "cell_type": "code",
   "execution_count": 61,
   "id": "c32c41c9",
   "metadata": {},
   "outputs": [
    {
     "data": {
      "text/plain": [
       "array([['clean', 'clean'],\n",
       "       ['clean', 'clean'],\n",
       "       ['clean', 'clean'],\n",
       "       ...,\n",
       "       ['messy', 'clean'],\n",
       "       ['clean', 'clean'],\n",
       "       ['clean', 'clean']], dtype='<U5')"
      ]
     },
     "execution_count": 61,
     "metadata": {},
     "output_type": "execute_result"
    }
   ],
   "source": [
    "#Simulation\n",
    "two_day_status = np.random.choice(outcomes, size=(n_trials, 2), p=[cleaned_breakroom, 1-cleaned_breakroom])\n",
    "two_day_status"
   ]
  },
  {
   "cell_type": "code",
   "execution_count": 63,
   "id": "ed6d637f",
   "metadata": {},
   "outputs": [
    {
     "data": {
      "text/plain": [
       "0.02769"
      ]
     },
     "execution_count": 63,
     "metadata": {},
     "output_type": "execute_result"
    }
   ],
   "source": [
    "(np.count_nonzero(two_day_status == 'messy', axis=1) == 2).mean()"
   ]
  }
 ],
 "metadata": {
  "kernelspec": {
   "display_name": "Python 3",
   "language": "python",
   "name": "python3"
  },
  "language_info": {
   "codemirror_mode": {
    "name": "ipython",
    "version": 3
   },
   "file_extension": ".py",
   "mimetype": "text/x-python",
   "name": "python",
   "nbconvert_exporter": "python",
   "pygments_lexer": "ipython3",
   "version": "3.8.8"
  }
 },
 "nbformat": 4,
 "nbformat_minor": 5
}
